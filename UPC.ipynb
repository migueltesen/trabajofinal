{
 "cells": [
  {
   "cell_type": "markdown",
   "id": "935d4ad3",
   "metadata": {},
   "source": [
    "# <center><b><span style=\"color:red\">Universidad Peruana de Ciencias Aplicadas</span></b></center>  \n",
    "<p style=\"color:red;\">"
   ]
  },
  {
   "cell_type": "code",
   "execution_count": null,
   "id": "e7f6fa7b",
   "metadata": {},
   "outputs": [],
   "source": []
  }
 ],
 "metadata": {
  "kernelspec": {
   "display_name": "Python 3 (ipykernel)",
   "language": "python",
   "name": "python3"
  },
  "language_info": {
   "codemirror_mode": {
    "name": "ipython",
    "version": 3
   },
   "file_extension": ".py",
   "mimetype": "text/x-python",
   "name": "python",
   "nbconvert_exporter": "python",
   "pygments_lexer": "ipython3",
   "version": "3.9.12"
  }
 },
 "nbformat": 4,
 "nbformat_minor": 5
}
