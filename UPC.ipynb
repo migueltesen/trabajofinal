{
 "cells": [
  {
   "cell_type": "markdown",
   "id": "4ea1851c",
   "metadata": {},
   "source": [
    "# <center><b><span style=\"color:red\">Universidad Peruana de Ciencias Aplicadas</span></b></center>  \n",
    "<p style=\"color:red;\">"
   ]
  },
  {
   "cell_type": "markdown",
   "id": "d42f78a1",
   "metadata": {},
   "source": [
    "<br><center>[![RLS](https://upload.wikimedia.org/wikipedia/commons/f/fc/UPC_logo_transparente.png)](https://www.youtube.com/watch?v=jhY81V5Bg8g)</center></br>"
   ]
  },
  {
   "cell_type": "code",
   "execution_count": null,
   "id": "a771bdce",
   "metadata": {},
   "outputs": [],
   "source": []
  }
 ],
 "metadata": {
  "kernelspec": {
   "display_name": "Python 3 (ipykernel)",
   "language": "python",
   "name": "python3"
  },
  "language_info": {
   "codemirror_mode": {
    "name": "ipython",
    "version": 3
   },
   "file_extension": ".py",
   "mimetype": "text/x-python",
   "name": "python",
   "nbconvert_exporter": "python",
   "pygments_lexer": "ipython3",
   "version": "3.9.12"
  }
 },
 "nbformat": 4,
 "nbformat_minor": 5
}
