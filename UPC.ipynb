{
 "cells": [
  {
   "cell_type": "markdown",
   "id": "feb16b94",
   "metadata": {},
   "source": [
    "# <center><b><span style=\"color:red\">Universidad Peruana de Ciencias Aplicadas</span></b></center>  \n",
    "<p style=\"color:red;\">"
   ]
  },
  {
   "cell_type": "markdown",
   "id": "6cc3466f",
   "metadata": {},
   "source": [
    "<br><center>[![RLS](https://upload.wikimedia.org/wikipedia/commons/f/fc/UPC_logo_transparente.png)](https://www.youtube.com/watch?v=jhY81V5Bg8g)</center></br>"
   ]
  },
  {
   "cell_type": "markdown",
   "id": "71f6a71d",
   "metadata": {},
   "source": [
    "En 1997 se creó la Escuela de Empresa de la UPC, que hoy se conoce como la Escuela de Postgrado de la UPC, para ofrecer cursos de postgrado y de especialización profesional. También se crea el primer Congreso Nacional de Educadores, hoy llamado Congreso Internacional de Educadores. En septiembre de 2004 la universidad se incorpora a la red de instituciones académicas privadas Laureate International Universities. \n",
    "En 2010, la UPC realiza la primera edición del \"Premio Protagonistas del Cambio UPC\" ahora \"Programa Protagonistas del Cambio\". En 2011 se inaugura el campus San Isidro. Al año siguiente se inaugura el campus Villa, y en 2015, se inaugura el campus San Miguel.\n",
    "En 2016, la UPC firmó acuerdo de cooperación académica con el Columbia Instituto ."
   ]
  },
  {
   "cell_type": "markdown",
   "id": "645ea49a",
   "metadata": {},
   "source": [
    "## Misión"
   ]
  },
  {
   "cell_type": "markdown",
   "id": "b891ab9e",
   "metadata": {},
   "source": [
    "Formar líderes íntegros e innovadores con visión global para que transformen el Perú."
   ]
  },
  {
   "cell_type": "markdown",
   "id": "647ef3c4",
   "metadata": {},
   "source": [
    "## Visión"
   ]
  },
  {
   "cell_type": "markdown",
   "id": "9aaf7bca",
   "metadata": {},
   "source": [
    "Ser líder en la educación superior por su excelencia académica y su capacidad de innovación."
   ]
  },
  {
   "cell_type": "markdown",
   "id": "b84bc7fa",
   "metadata": {},
   "source": [
    "## Valores"
   ]
  },
  {
   "cell_type": "markdown",
   "id": "b8e2b6f4",
   "metadata": {},
   "source": [
    "- Liderazgo\n",
    "- Trabajo en equipo\n",
    "- Orientación al servicio\n",
    "- Excelencia\n",
    "- Innovación"
   ]
  },
  {
   "cell_type": "code",
   "execution_count": null,
   "id": "9782c837",
   "metadata": {},
   "outputs": [],
   "source": []
  }
 ],
 "metadata": {
  "kernelspec": {
   "display_name": "Python 3 (ipykernel)",
   "language": "python",
   "name": "python3"
  },
  "language_info": {
   "codemirror_mode": {
    "name": "ipython",
    "version": 3
   },
   "file_extension": ".py",
   "mimetype": "text/x-python",
   "name": "python",
   "nbconvert_exporter": "python",
   "pygments_lexer": "ipython3",
   "version": "3.9.12"
  }
 },
 "nbformat": 4,
 "nbformat_minor": 5
}
