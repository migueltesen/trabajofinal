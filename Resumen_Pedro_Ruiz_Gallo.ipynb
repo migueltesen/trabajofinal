{
 "cells": [
  {
   "cell_type": "markdown",
   "id": "23e56969",
   "metadata": {},
   "source": [
    "### <center><span style=\"color:goldenrod\"> Univesidad Nacional Pedro Ruiz Gallo  </sapn></center>\n",
    "\n",
    "<div>\n",
    "<p style = 'text-align:center;'>\n",
    "<img src=\"https://www.carrerasadistancia.com.pe/logos/original/logo-universidad-nacional-pedro-ruiz-gallo.png\" alt=\"JuveYell\" width=\"250px\">\n",
    "</p>\n",
    "</div>"
   ]
  },
  {
   "cell_type": "markdown",
   "id": "f488c2b9",
   "metadata": {},
   "source": [
    "### Reseña histórica\n",
    "#### Teniente Coronel \"Pedro Ruiz Gallo\"\n",
    "Nace en villa de Eten , provincia de Chiclayo , Departamento de Lambayeque , el 24 de junio de 1838. Sus padres fueron el coronel español Pedro Manuel Ruiz y la dama piurana doña Juliana Gallo . Posteriormente viajo a Lima debido a la muerte de sus padres lo cual comenzo a ganarse la vida dando lecciones de música, construyendo instrumentos de cuerdas, arreglando relojess. Mas tarde decidió profesar la carrera militar, la que inicio con el grado de Alférez de Caballería, obteniendo continuos ascensos hasta alcanzar el grado de Teniente Coronel \n",
    "Su calidad de militar fue destacado a Chachapoyas , en esta ciudad, con su propio peculio y como prueba de gratitud por el cariño que los chachapoyanos siempre le demostraron, construyó un reloj público que fue inaugurado el 6 de enero de 1864\n",
    "\n",
    "Varios años de su vida los dedicó a efectuar estudios de navegación aérea llegando a realizar vuelos aerostáticos en Lima y Callao. El 28 de Julio de 1878 publica el resultado de sus investigaciones bajo el titulo “Estudios Generales sobre Navegación Aérea” por lo que se le considera como verdadero precursor de la Aviación Mundial.\n",
    "\n",
    "En 1879, el Perú se encontraba en guerra con Chile, Pedro Ruiz Gallo pone a disposición de la Patria sus valiosos servicios y resuelve poner en práctica la Sublime concepción de inventar unos torpedos cuyos primeros ensayos fueron el hundimiento de\n",
    "un barco enemigo “Loa” y la destrucción de la “Covadonga”. Después de la algarabía de los peruanos y cuando estaba en plena construcción de estos artefactos, el 24 de abril de 1880, ocurre la muerte del sabio y patriota militar en el Callao como consecuencia de la explosión de un torpedo.\n",
    "\n"
   ]
  },
  {
   "cell_type": "code",
   "execution_count": null,
   "id": "81354bc4",
   "metadata": {},
   "outputs": [],
   "source": []
  }
 ],
 "metadata": {
  "kernelspec": {
   "display_name": "Python 3 (ipykernel)",
   "language": "python",
   "name": "python3"
  },
  "language_info": {
   "codemirror_mode": {
    "name": "ipython",
    "version": 3
   },
   "file_extension": ".py",
   "mimetype": "text/x-python",
   "name": "python",
   "nbconvert_exporter": "python",
   "pygments_lexer": "ipython3",
   "version": "3.9.12"
  }
 },
 "nbformat": 4,
 "nbformat_minor": 5
}
