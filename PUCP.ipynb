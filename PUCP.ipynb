{
 "cells": [
  {
   "cell_type": "markdown",
   "id": "f9e4b10a",
   "metadata": {},
   "source": [
    "# Pontificia Universidad Católica del Perú"
   ]
  },
  {
   "cell_type": "markdown",
   "id": "a792b22a",
   "metadata": {},
   "source": [
    "![hola](https://www.grupolarabida.org/wp-content/uploads/2020/11/Copia-de-Imagotipo-PUCP-alta_resolucion-1.png)"
   ]
  },
  {
   "cell_type": "markdown",
   "id": "a04d34f5",
   "metadata": {},
   "source": [
    "\n",
    "El 24 de marzo de 1917, gracias a la iniciativa del **R.P. Jorge Dintilhac, SS.CC.**, nuestra Universidad se convirtió en la primera universidad privada del país. Empezamos con solo dos facultades (Letras y Jurisprudencia) en unas cuantas aulas del colegio La Recoleta, en la Plaza Francia. Fue ahí donde uno de nuestros fundadores, Raimundo Morales de la Torre, dictó en la mañana del 10 de abril la primera clase en nuestra historia, Estética, ante solo nueve alumnos."
   ]
  },
  {
   "cell_type": "markdown",
   "id": "f37426cb",
   "metadata": {},
   "source": [
    "# Misión\n",
    "\n",
    "-   Es una comunidad académica plural y tolerante, respetuosa de la libertad de conciencia y religión, inspirada en principios éticos, democráticos y católicos.\n",
    "-   Ofrece una formación ciudadana, humanista, científica e integral de excelencia.\n",
    "-   Contribuye a ampliar el saber mediante la investigación e innovación a nivel internacional.\n",
    "-   Promueve la creación y difusión de cultura y arte, reconociendo la naturaleza multicultural del país.\n",
    "-   Se vincula de manera efectiva y permanente con la sociedad y el entorno, reconociendo la diversidad del país y asumiendo su compromiso con el desarrollo humano y sostenible."
   ]
  },
  {
   "cell_type": "markdown",
   "id": "e8ce7015",
   "metadata": {},
   "source": [
    "## Visión\n",
    "\n",
    "-   Es un referente académico nacional e internacional en la formación integral, multi- e interdisciplinar.\n",
    "-   Es reconocida a nivel nacional e internacional por la calidad de sus investigaciones.\n",
    "-   Destaca por su participación activa y creativa en la reflexión crítica sobre problemas de actualidad y en los debates sobre sus posibles soluciones."
   ]
  },
  {
   "cell_type": "markdown",
   "id": "21f2df54",
   "metadata": {},
   "source": [
    "## Valores\n",
    "\n",
    "-   Respeto por la dignidad de la persona, la diversidad, la naturaleza y el medio ambiente\n",
    "-   Justicia\n",
    "-   Democracia e inclusión\n",
    "-   Tolerancia y pluralidad\n",
    "-   Solidaridad y reconocimiento\n",
    "-   Honestidad y transparencia\n",
    "-   Responsabilidad social\n",
    "-   Excelencia académica\n",
    "-   Autonomía universitaria"
   ]
  },
  {
   "cell_type": "code",
   "execution_count": null,
   "id": "84943643",
   "metadata": {},
   "outputs": [],
   "source": []
  }
 ],
 "metadata": {
  "kernelspec": {
   "display_name": "Python 3 (ipykernel)",
   "language": "python",
   "name": "python3"
  },
  "language_info": {
   "codemirror_mode": {
    "name": "ipython",
    "version": 3
   },
   "file_extension": ".py",
   "mimetype": "text/x-python",
   "name": "python",
   "nbconvert_exporter": "python",
   "pygments_lexer": "ipython3",
   "version": "3.9.12"
  }
 },
 "nbformat": 4,
 "nbformat_minor": 5
}
