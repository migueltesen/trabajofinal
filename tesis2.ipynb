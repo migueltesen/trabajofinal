{
 "cells": [
  {
   "cell_type": "markdown",
   "id": "614274f6",
   "metadata": {},
   "source": [
    "### Extraeremos la información más importante de la tesis de Ortiz García Briggiet Alejandra Janet y Rojas Rojas Henry\n",
    "\n"
   ]
  },
  {
   "cell_type": "code",
   "execution_count": 33,
   "id": "75c5ad02",
   "metadata": {},
   "outputs": [
    {
     "name": "stdout",
     "output_type": "stream",
     "text": [
      "https://repositorio.unprg.edu.pe:/handle/20.500.12893/9777?show=full\n"
     ]
    }
   ],
   "source": [
    "import pandas as pd\n",
    "import requests \n",
    "import re \n",
    "from bs4 import BeautifulSoup as bs \n",
    "url=\"https://repositorio.unprg.edu.pe/handle/20.500.12893/9777\"\n",
    "html=requests.get(url)\n",
    "content=html.content\n",
    "soup=bs(content,\"lxml\")\n",
    "data=soup.find(\"div\",class_=\"simple-item-view-show-full item-page-field-wrapper table\")\n",
    "link=data.find(\"a\")\n",
    "print(\"https://repositorio.unprg.edu.pe:\"+ link[\"href\"]) \n"
   ]
  },
  {
   "cell_type": "code",
   "execution_count": 38,
   "id": "f71a94ca",
   "metadata": {},
   "outputs": [
    {
     "name": "stdout",
     "output_type": "stream",
     "text": [
      "Antón Pérez, Juan Manuel\n",
      "Ortiz García, Briggiet Alejandra Janet\n",
      "Rojas Rojas, Henry\n",
      "2021-12-06T14:38:20Z\n",
      "2021-12-06T14:38:20Z\n",
      "2020\n",
      "https://hdl.handle.net/20.500.12893/9777\n",
      "La presente investigación tuvo como objetivo construir un Modelo de Estadística Espacial para identificar focos de criminalidad en los distritos de La Victoria, José Leonardo Ortiz y de Chiclayo, 2017 – Marzo del 2019. La investigación fue de tipo cuantitativa, donde se utilizaron herramientas de Geoestadística que contienen procedimientos estadísticos de análisis espacial como la densidad, autocorrelación, modelamiento y predicción espacial, relacionados al ambiente de los Sistemas de Información Geográfica con el QGIS, con la finalidad de encontrar los focos de criminalidad a través de la determinación de sectores y puntos expresados en coordenadas, caracterizados de acuerdo a los crímenes más frecuentes, hora y fecha, ocupación, género y edad del agraviado, identificando los focos de criminalidad en crecimiento, utilizando Moran Local (LISA), densidad de crímenes por fecha, densidad de Kernel con un Radio <400 metros y curvas de nivel a 10 metros, utilizando variograma se encontró como el mejor modelo el “Esférico” con un rango de 3000 metros, un efecto pepita aproximado de 7 metros y una meseta de 19.2 metros para la proyección de focos de criminalidad se utilizaron las técnicas de Kriging Ordinario, realizándose geoestadísticas y mapas o figuras elaborados en QGIS y R. La conclusión fue que el modelo de estadística espacial presenta como principales focos de criminalidad los ubicados en las zonas centros de Chiclayo (1359713 m2 ) y de La Victoria (247482 m2 ), y al suroeste de José Leonardo Ortiz con una extensión aproximada de 42510 m2.\n",
      "application/pdf\n",
      "spa\n",
      "Universidad Nacional Pedro Ruiz Gallo\n",
      "info:eu-repo/semantics/openAccess\n",
      "Atribución-CompartirIgual 4.0 Internacional\n",
      "http://creativecommons.org/licenses/by-sa/4.0/\n",
      "Criminalidad\n",
      "Estadística espacial\n",
      "Mapas de crimen\n",
      "Modelo de estadística espacial para identificar focos de criminalidad. Distritos la victoria, José Leonardo Ortiz y Chiclayo. 2017 – marzo 2019\n",
      "info:eu-repo/semantics/bachelorThesis\n",
      "Licenciado (a) en Estadística\n",
      "Universidad Nacional Pedro Ruiz Gallo. Facultad de Ciencias Físicas y Matemáticas\n",
      "Estadística\n",
      "info:eu-repo/semantics/publishedVersion\n",
      "PE\n",
      "http://purl.org/pe-repo/ocde/ford#1.01.03\n",
      "78005012\n",
      "74613613\n",
      "02602714\n",
      "https://orcid.org/0000-0002-9665-779X\n",
      "http://purl.org/pe-repo/renati/type#tesis\n",
      "http://purl.org/pe-repo/renati/nivel#tituloProfesional\n",
      "542016\n",
      "Tesén Arroyo, Alfonso\n",
      "Paredes Lopez, Lilian Roxana\n",
      "Trujillo Custodio, Fredys Marino\n",
      "license_rdf\n",
      "1.000Kb\n",
      "application/rdf+xml\n",
      "Ortiz_García_Briggiet_Alejandr ...\n",
      "3.316Mb\n",
      "PDF\n"
     ]
    }
   ],
   "source": [
    "url=\"https://repositorio.unprg.edu.pe:/handle/20.500.12893/9777?show=full\"\n",
    "html=requests.get(url)\n",
    "content=html.content\n",
    "soup=bs(content,\"lxml\")\n",
    "data=soup.find(class_=\"ds-static-div primary\")\n",
    "info=data.find_all(class_=\"word-break\")\n",
    "for linea in info:\n",
    "    contenido=linea.text\n",
    "    print(contenido)"
   ]
  },
  {
   "cell_type": "code",
   "execution_count": 39,
   "id": "86aa36f5",
   "metadata": {},
   "outputs": [
    {
     "name": "stdout",
     "output_type": "stream",
     "text": [
      "Universidad Nacional Pedro Ruiz Gallo\n"
     ]
    }
   ],
   "source": [
    "url=\"https://repositorio.unprg.edu.pe:/handle/20.500.12893/9777?show=full\"\n",
    "html=requests.get(url)\n",
    "content=html.content\n",
    "soup=bs(content,\"lxml\")\n",
    "data=soup.find(class_=\"ds-static-div primary\")\n",
    "universidad=data.find_all(class_=\"word-break\")[10].text\n",
    "print(universidad)"
   ]
  },
  {
   "cell_type": "code",
   "execution_count": 42,
   "id": "daa3e1c6",
   "metadata": {},
   "outputs": [
    {
     "name": "stdout",
     "output_type": "stream",
     "text": [
      "Modelo de estadística espacial para identificar focos de criminalidad. Distritos la victoria, José Leonardo Ortiz y Chiclayo. 2017 – marzo 2019\n"
     ]
    }
   ],
   "source": [
    "url=\"https://repositorio.unprg.edu.pe:/handle/20.500.12893/9777?show=full\"\n",
    "html=requests.get(url)\n",
    "content=html.content\n",
    "soup=bs(content,\"lxml\")\n",
    "data=soup.find(class_=\"ds-static-div primary\")\n",
    "titulo=data.find_all(class_=\"word-break\")[17].text\n",
    "print(titulo)"
   ]
  },
  {
   "cell_type": "code",
   "execution_count": 44,
   "id": "c8ecaa7e",
   "metadata": {},
   "outputs": [
    {
     "name": "stdout",
     "output_type": "stream",
     "text": [
      "Ortiz García, Briggiet Alejandra Janet\n"
     ]
    }
   ],
   "source": [
    "url=\"https://repositorio.unprg.edu.pe:/handle/20.500.12893/9777?show=full\"\n",
    "html=requests.get(url)\n",
    "content=html.content\n",
    "soup=bs(content,\"lxml\")\n",
    "data=soup.find(class_=\"ds-static-div primary\")\n",
    "nombre_primer_tesista=data.find_all(class_=\"word-break\")[1].text\n",
    "print(nombre_primer_tesista)"
   ]
  },
  {
   "cell_type": "code",
   "execution_count": 47,
   "id": "8fddd7d9",
   "metadata": {},
   "outputs": [
    {
     "name": "stdout",
     "output_type": "stream",
     "text": [
      "Rojas Rojas, Henry\n"
     ]
    }
   ],
   "source": [
    "url=\"https://repositorio.unprg.edu.pe:/handle/20.500.12893/9777?show=full\"\n",
    "html=requests.get(url)\n",
    "content=html.content\n",
    "soup=bs(content,\"lxml\")\n",
    "data=soup.find(class_=\"ds-static-div primary\")\n",
    "nombre_segundo_tesista=data.find_all(class_=\"word-break\")[2].text\n",
    "print(nombre_segundo_tesista)"
   ]
  },
  {
   "cell_type": "code",
   "execution_count": 49,
   "id": "5bf328ba",
   "metadata": {},
   "outputs": [
    {
     "name": "stdout",
     "output_type": "stream",
     "text": [
      "Estadística\n"
     ]
    }
   ],
   "source": [
    "url=\"https://repositorio.unprg.edu.pe:/handle/20.500.12893/9777?show=full\"\n",
    "html=requests.get(url)\n",
    "content=html.content\n",
    "soup=bs(content,\"lxml\")\n",
    "data=soup.find(class_=\"ds-static-div primary\")\n",
    "profesion=data.find_all(class_=\"word-break\")[21].text\n",
    "print(profesion)"
   ]
  },
  {
   "cell_type": "code",
   "execution_count": 51,
   "id": "12d613b2",
   "metadata": {},
   "outputs": [
    {
     "name": "stdout",
     "output_type": "stream",
     "text": [
      "Antón Pérez, Juan Manuel\n"
     ]
    }
   ],
   "source": [
    "url=\"https://repositorio.unprg.edu.pe:/handle/20.500.12893/9777?show=full\"\n",
    "html=requests.get(url)\n",
    "content=html.content\n",
    "soup=bs(content,\"lxml\")\n",
    "data=soup.find(class_=\"ds-static-div primary\")\n",
    "asesor=data.find_all(class_=\"word-break\")[0].text\n",
    "print(asesor)"
   ]
  },
  {
   "cell_type": "code",
   "execution_count": null,
   "id": "37fb7689",
   "metadata": {},
   "outputs": [],
   "source": []
  }
 ],
 "metadata": {
  "kernelspec": {
   "display_name": "Python 3 (ipykernel)",
   "language": "python",
   "name": "python3"
  },
  "language_info": {
   "codemirror_mode": {
    "name": "ipython",
    "version": 3
   },
   "file_extension": ".py",
   "mimetype": "text/x-python",
   "name": "python",
   "nbconvert_exporter": "python",
   "pygments_lexer": "ipython3",
   "version": "3.9.12"
  }
 },
 "nbformat": 4,
 "nbformat_minor": 5
}
