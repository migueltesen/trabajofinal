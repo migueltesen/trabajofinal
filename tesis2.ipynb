{
 "cells": [
  {
   "cell_type": "markdown",
   "id": "043f7115",
   "metadata": {},
   "source": [
    "### Extraeremos la información más importante de la tesis de Ortiz García Briggiet Alejandra Janet y Rojas Rojas Henry\n",
    "\n"
   ]
  },
  {
   "cell_type": "code",
   "execution_count": 33,
   "id": "006d1f6c",
   "metadata": {},
   "outputs": [
    {
     "name": "stdout",
     "output_type": "stream",
     "text": [
      "https://repositorio.unprg.edu.pe:/handle/20.500.12893/9777?show=full\n"
     ]
    }
   ],
   "source": [
    "import pandas as pd\n",
    "import requests \n",
    "import re \n",
    "from bs4 import BeautifulSoup as bs \n",
    "url=\"https://repositorio.unprg.edu.pe/handle/20.500.12893/9777\"\n",
    "html=requests.get(url)\n",
    "content=html.content\n",
    "soup=bs(content,\"lxml\")\n",
    "data=soup.find(\"div\",class_=\"simple-item-view-show-full item-page-field-wrapper table\")\n",
    "link=data.find(\"a\")\n",
    "print(\"https://repositorio.unprg.edu.pe:\"+ link[\"href\"]) \n"
   ]
  },
  {
   "cell_type": "code",
   "execution_count": 38,
   "id": "5fc117b8",
   "metadata": {},
   "outputs": [
    {
     "name": "stdout",
     "output_type": "stream",
     "text": [
      "Antón Pérez, Juan Manuel\n",
      "Ortiz García, Briggiet Alejandra Janet\n",
      "Rojas Rojas, Henry\n",
      "2021-12-06T14:38:20Z\n",
      "2021-12-06T14:38:20Z\n",
      "2020\n",
      "https://hdl.handle.net/20.500.12893/9777\n",
      "La presente investigación tuvo como objetivo construir un Modelo de Estadística Espacial para identificar focos de criminalidad en los distritos de La Victoria, José Leonardo Ortiz y de Chiclayo, 2017 – Marzo del 2019. La investigación fue de tipo cuantitativa, donde se utilizaron herramientas de Geoestadística que contienen procedimientos estadísticos de análisis espacial como la densidad, autocorrelación, modelamiento y predicción espacial, relacionados al ambiente de los Sistemas de Información Geográfica con el QGIS, con la finalidad de encontrar los focos de criminalidad a través de la determinación de sectores y puntos expresados en coordenadas, caracterizados de acuerdo a los crímenes más frecuentes, hora y fecha, ocupación, género y edad del agraviado, identificando los focos de criminalidad en crecimiento, utilizando Moran Local (LISA), densidad de crímenes por fecha, densidad de Kernel con un Radio <400 metros y curvas de nivel a 10 metros, utilizando variograma se encontró como el mejor modelo el “Esférico” con un rango de 3000 metros, un efecto pepita aproximado de 7 metros y una meseta de 19.2 metros para la proyección de focos de criminalidad se utilizaron las técnicas de Kriging Ordinario, realizándose geoestadísticas y mapas o figuras elaborados en QGIS y R. La conclusión fue que el modelo de estadística espacial presenta como principales focos de criminalidad los ubicados en las zonas centros de Chiclayo (1359713 m2 ) y de La Victoria (247482 m2 ), y al suroeste de José Leonardo Ortiz con una extensión aproximada de 42510 m2.\n",
      "application/pdf\n",
      "spa\n",
      "Universidad Nacional Pedro Ruiz Gallo\n",
      "info:eu-repo/semantics/openAccess\n",
      "Atribución-CompartirIgual 4.0 Internacional\n",
      "http://creativecommons.org/licenses/by-sa/4.0/\n",
      "Criminalidad\n",
      "Estadística espacial\n",
      "Mapas de crimen\n",
      "Modelo de estadística espacial para identificar focos de criminalidad. Distritos la victoria, José Leonardo Ortiz y Chiclayo. 2017 – marzo 2019\n",
      "info:eu-repo/semantics/bachelorThesis\n",
      "Licenciado (a) en Estadística\n",
      "Universidad Nacional Pedro Ruiz Gallo. Facultad de Ciencias Físicas y Matemáticas\n",
      "Estadística\n",
      "info:eu-repo/semantics/publishedVersion\n",
      "PE\n",
      "http://purl.org/pe-repo/ocde/ford#1.01.03\n",
      "78005012\n",
      "74613613\n",
      "02602714\n",
      "https://orcid.org/0000-0002-9665-779X\n",
      "http://purl.org/pe-repo/renati/type#tesis\n",
      "http://purl.org/pe-repo/renati/nivel#tituloProfesional\n",
      "542016\n",
      "Tesén Arroyo, Alfonso\n",
      "Paredes Lopez, Lilian Roxana\n",
      "Trujillo Custodio, Fredys Marino\n",
      "license_rdf\n",
      "1.000Kb\n",
      "application/rdf+xml\n",
      "Ortiz_García_Briggiet_Alejandr ...\n",
      "3.316Mb\n",
      "PDF\n"
     ]
    }
   ],
   "source": [
    "url=\"https://repositorio.unprg.edu.pe:/handle/20.500.12893/9777?show=full\"\n",
    "html=requests.get(url)\n",
    "content=html.content\n",
    "soup=bs(content,\"lxml\")\n",
    "data=soup.find(class_=\"ds-static-div primary\")\n",
    "info=data.find_all(class_=\"word-break\")\n",
    "for linea in info:\n",
    "    contenido=linea.text\n",
    "    print(contenido)"
   ]
  },
  {
   "cell_type": "code",
   "execution_count": 39,
   "id": "578c9594",
   "metadata": {},
   "outputs": [
    {
     "name": "stdout",
     "output_type": "stream",
     "text": [
      "Universidad Nacional Pedro Ruiz Gallo\n"
     ]
    }
   ],
   "source": [
    "url=\"https://repositorio.unprg.edu.pe:/handle/20.500.12893/9777?show=full\"\n",
    "html=requests.get(url)\n",
    "content=html.content\n",
    "soup=bs(content,\"lxml\")\n",
    "data=soup.find(class_=\"ds-static-div primary\")\n",
    "universidad=data.find_all(class_=\"word-break\")[10].text\n",
    "print(universidad)"
   ]
  },
  {
   "cell_type": "code",
   "execution_count": 42,
   "id": "d8a80f1e",
   "metadata": {},
   "outputs": [
    {
     "name": "stdout",
     "output_type": "stream",
     "text": [
      "Modelo de estadística espacial para identificar focos de criminalidad. Distritos la victoria, José Leonardo Ortiz y Chiclayo. 2017 – marzo 2019\n"
     ]
    }
   ],
   "source": [
    "url=\"https://repositorio.unprg.edu.pe:/handle/20.500.12893/9777?show=full\"\n",
    "html=requests.get(url)\n",
    "content=html.content\n",
    "soup=bs(content,\"lxml\")\n",
    "data=soup.find(class_=\"ds-static-div primary\")\n",
    "titulo=data.find_all(class_=\"word-break\")[17].text\n",
    "print(titulo)"
   ]
  },
  {
   "cell_type": "code",
   "execution_count": 61,
   "id": "4543db1b",
   "metadata": {},
   "outputs": [
    {
     "name": "stdout",
     "output_type": "stream",
     "text": [
      "Ortiz García, Briggiet Alejandra Janet\n"
     ]
    }
   ],
   "source": [
    "url=\"https://repositorio.unprg.edu.pe:/handle/20.500.12893/9777?show=full\"\n",
    "html=requests.get(url)\n",
    "content=html.content\n",
    "soup=bs(content,\"lxml\")\n",
    "data=soup.find(class_=\"ds-static-div primary\")\n",
    "nombre_primer_tesista=data.find_all(class_=\"word-break\")[1].text\n",
    "print(nombre_primer_tesista)"
   ]
  },
  {
   "cell_type": "code",
   "execution_count": 62,
   "id": "b695073c",
   "metadata": {},
   "outputs": [
    {
     "name": "stdout",
     "output_type": "stream",
     "text": [
      "Rojas Rojas, Henry\n"
     ]
    }
   ],
   "source": [
    "url=\"https://repositorio.unprg.edu.pe:/handle/20.500.12893/9777?show=full\"\n",
    "html=requests.get(url)\n",
    "content=html.content\n",
    "soup=bs(content,\"lxml\")\n",
    "data=soup.find(class_=\"ds-static-div primary\")\n",
    "nombre_segundo_tesista=data.find_all(class_=\"word-break\")[2].text\n",
    "print(nombre_segundo_tesista)"
   ]
  },
  {
   "cell_type": "code",
   "execution_count": 57,
   "id": "2ddeefa9",
   "metadata": {},
   "outputs": [
    {
     "name": "stdout",
     "output_type": "stream",
     "text": [
      "Para Obtener el Título Profesional de  Licenciado (a) en Estadística\n"
     ]
    }
   ],
   "source": [
    "url=\"https://repositorio.unprg.edu.pe:/handle/20.500.12893/9777?show=full\"\n",
    "html=requests.get(url)\n",
    "content=html.content\n",
    "soup=bs(content,\"lxml\")\n",
    "data=soup.find(class_=\"ds-static-div primary\")\n",
    "obtener_grado=data.find_all(class_=\"word-break\")[19].text\n",
    "print(\"Para Obtener el Título Profesional de \" , obtener_grado)"
   ]
  },
  {
   "cell_type": "code",
   "execution_count": 51,
   "id": "10c35328",
   "metadata": {},
   "outputs": [
    {
     "name": "stdout",
     "output_type": "stream",
     "text": [
      "Antón Pérez, Juan Manuel\n"
     ]
    }
   ],
   "source": [
    "url=\"https://repositorio.unprg.edu.pe:/handle/20.500.12893/9777?show=full\"\n",
    "html=requests.get(url)\n",
    "content=html.content\n",
    "soup=bs(content,\"lxml\")\n",
    "data=soup.find(class_=\"ds-static-div primary\")\n",
    "asesor=data.find_all(class_=\"word-break\")[0].text\n",
    "print(asesor)"
   ]
  },
  {
   "cell_type": "code",
   "execution_count": 52,
   "id": "6a51db95",
   "metadata": {},
   "outputs": [
    {
     "name": "stdout",
     "output_type": "stream",
     "text": [
      "La presente investigación tuvo como objetivo construir un Modelo de Estadística Espacial para identificar focos de criminalidad en los distritos de La Victoria, José Leonardo Ortiz y de Chiclayo, 2017 – Marzo del 2019. La investigación fue de tipo cuantitativa, donde se utilizaron herramientas de Geoestadística que contienen procedimientos estadísticos de análisis espacial como la densidad, autocorrelación, modelamiento y predicción espacial, relacionados al ambiente de los Sistemas de Información Geográfica con el QGIS, con la finalidad de encontrar los focos de criminalidad a través de la determinación de sectores y puntos expresados en coordenadas, caracterizados de acuerdo a los crímenes más frecuentes, hora y fecha, ocupación, género y edad del agraviado, identificando los focos de criminalidad en crecimiento, utilizando Moran Local (LISA), densidad de crímenes por fecha, densidad de Kernel con un Radio <400 metros y curvas de nivel a 10 metros, utilizando variograma se encontró como el mejor modelo el “Esférico” con un rango de 3000 metros, un efecto pepita aproximado de 7 metros y una meseta de 19.2 metros para la proyección de focos de criminalidad se utilizaron las técnicas de Kriging Ordinario, realizándose geoestadísticas y mapas o figuras elaborados en QGIS y R. La conclusión fue que el modelo de estadística espacial presenta como principales focos de criminalidad los ubicados en las zonas centros de Chiclayo (1359713 m2 ) y de La Victoria (247482 m2 ), y al suroeste de José Leonardo Ortiz con una extensión aproximada de 42510 m2.\n"
     ]
    }
   ],
   "source": [
    "url=\"https://repositorio.unprg.edu.pe:/handle/20.500.12893/9777?show=full\"\n",
    "html=requests.get(url)\n",
    "content=html.content\n",
    "soup=bs(content,\"lxml\")\n",
    "data=soup.find(class_=\"ds-static-div primary\")\n",
    "resumen=data.find_all(class_=\"word-break\")[7].text\n",
    "print(resumen)"
   ]
  },
  {
   "cell_type": "code",
   "execution_count": 54,
   "id": "8fcc0c0f",
   "metadata": {},
   "outputs": [
    {
     "name": "stdout",
     "output_type": "stream",
     "text": [
      "2020\n"
     ]
    }
   ],
   "source": [
    "url=\"https://repositorio.unprg.edu.pe:/handle/20.500.12893/9777?show=full\"\n",
    "html=requests.get(url)\n",
    "content=html.content\n",
    "soup=bs(content,\"lxml\")\n",
    "data=soup.find(class_=\"ds-static-div primary\")\n",
    "fecha_emitida=data.find_all(class_=\"word-break\")[5].text\n",
    "print(fecha_emitida)"
   ]
  },
  {
   "cell_type": "code",
   "execution_count": 63,
   "id": "c251f5fa",
   "metadata": {},
   "outputs": [
    {
     "data": {
      "text/html": [
       "<div>\n",
       "<style scoped>\n",
       "    .dataframe tbody tr th:only-of-type {\n",
       "        vertical-align: middle;\n",
       "    }\n",
       "\n",
       "    .dataframe tbody tr th {\n",
       "        vertical-align: top;\n",
       "    }\n",
       "\n",
       "    .dataframe thead th {\n",
       "        text-align: right;\n",
       "    }\n",
       "</style>\n",
       "<table border=\"1\" class=\"dataframe\">\n",
       "  <thead>\n",
       "    <tr style=\"text-align: right;\">\n",
       "      <th></th>\n",
       "      <th>Estructura</th>\n",
       "      <th>Datos</th>\n",
       "    </tr>\n",
       "  </thead>\n",
       "  <tbody>\n",
       "    <tr>\n",
       "      <th>0</th>\n",
       "      <td>Universidad</td>\n",
       "      <td>Universidad Nacional Pedro Ruiz Gallo</td>\n",
       "    </tr>\n",
       "    <tr>\n",
       "      <th>1</th>\n",
       "      <td>Título</td>\n",
       "      <td>Modelo de estadística espacial para identifica...</td>\n",
       "    </tr>\n",
       "    <tr>\n",
       "      <th>2</th>\n",
       "      <td>Primer tesista</td>\n",
       "      <td>Ortiz García, Briggiet Alejandra Janet</td>\n",
       "    </tr>\n",
       "    <tr>\n",
       "      <th>3</th>\n",
       "      <td>Segundo tesista</td>\n",
       "      <td>Rojas Rojas, Henry</td>\n",
       "    </tr>\n",
       "    <tr>\n",
       "      <th>4</th>\n",
       "      <td>Grado</td>\n",
       "      <td>Licenciado (a) en Estadística</td>\n",
       "    </tr>\n",
       "    <tr>\n",
       "      <th>5</th>\n",
       "      <td>Asesor</td>\n",
       "      <td>Antón Pérez, Juan Manuel</td>\n",
       "    </tr>\n",
       "    <tr>\n",
       "      <th>6</th>\n",
       "      <td>Resumen</td>\n",
       "      <td>La presente investigación tuvo como objetivo c...</td>\n",
       "    </tr>\n",
       "    <tr>\n",
       "      <th>7</th>\n",
       "      <td>Año</td>\n",
       "      <td>2020</td>\n",
       "    </tr>\n",
       "  </tbody>\n",
       "</table>\n",
       "</div>"
      ],
      "text/plain": [
       "        Estructura                                              Datos\n",
       "0      Universidad              Universidad Nacional Pedro Ruiz Gallo\n",
       "1           Título  Modelo de estadística espacial para identifica...\n",
       "2   Primer tesista             Ortiz García, Briggiet Alejandra Janet\n",
       "3  Segundo tesista                                 Rojas Rojas, Henry\n",
       "4            Grado                      Licenciado (a) en Estadística\n",
       "5           Asesor                           Antón Pérez, Juan Manuel\n",
       "6          Resumen  La presente investigación tuvo como objetivo c...\n",
       "7              Año                                               2020"
      ]
     },
     "execution_count": 63,
     "metadata": {},
     "output_type": "execute_result"
    }
   ],
   "source": [
    "df=pd.DataFrame()\n",
    "df['Estructura']= [\"Universidad\",\"Título\",\"Primer tesista\",\"Segundo tesista\",\"Grado\",\"Asesor\",\"Resumen\",\"Año\"]\n",
    "df['Datos']=[universidad,titulo,nombre_primer_tesista,nombre_segundo_tesista,obtener_grado,asesor,resumen,fecha_emitida]\n",
    "df"
   ]
  },
  {
   "cell_type": "code",
   "execution_count": 64,
   "id": "6549c7cc",
   "metadata": {},
   "outputs": [],
   "source": [
    "tesis_Alejandra_Ortiz_y_Henry_Rojas = df.to_csv('tesis_Alejandra_Ortiz_y_Henry_Rojas.csv', encoding = 'ANSI',index = False)"
   ]
  },
  {
   "cell_type": "code",
   "execution_count": null,
   "id": "a418723b",
   "metadata": {},
   "outputs": [],
   "source": []
  }
 ],
 "metadata": {
  "kernelspec": {
   "display_name": "Python 3 (ipykernel)",
   "language": "python",
   "name": "python3"
  },
  "language_info": {
   "codemirror_mode": {
    "name": "ipython",
    "version": 3
   },
   "file_extension": ".py",
   "mimetype": "text/x-python",
   "name": "python",
   "nbconvert_exporter": "python",
   "pygments_lexer": "ipython3",
   "version": "3.9.12"
  }
 },
 "nbformat": 4,
 "nbformat_minor": 5
}
