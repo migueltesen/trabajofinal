{
 "cells": [
  {
   "cell_type": "markdown",
   "id": "81ba57c8",
   "metadata": {},
   "source": [
    "PONTIFICIA UNIVERSIDAD CATÓLICA DEL PERÚ"
   ]
  },
  {
   "cell_type": "code",
   "execution_count": 66,
   "id": "b7f00665",
   "metadata": {},
   "outputs": [],
   "source": [
    "#importando librerias necesarias para realziar el trabajo requerido \n",
    "import pandas as pd\n",
    "import requests \n",
    "import re \n",
    "from bs4 import BeautifulSoup as bs \n"
   ]
  },
  {
   "cell_type": "code",
   "execution_count": 67,
   "id": "d56a896c",
   "metadata": {},
   "outputs": [
    {
     "name": "stdout",
     "output_type": "stream",
     "text": [
      "https://tesis.pucp.edu.pe:/repositorio/handle/20.500.12404/19051?show=full\n"
     ]
    }
   ],
   "source": [
    "#ingresamos el codigo para analizar el repositorio\n",
    "url=\"https://tesis.pucp.edu.pe/repositorio/handle/20.500.12404/19051\"\n",
    "html=requests.get(url)\n",
    "content=html.content\n",
    "soup=bs(content,\"lxml\")\n",
    "data=soup.find(\"div\",class_=\"simple-item-view-show-full item-page-field-wrapper table\")\n",
    "link=data.find(\"a\")\n",
    "print(\"https://tesis.pucp.edu.pe:\"+ link[\"href\"]) \n"
   ]
  },
  {
   "cell_type": "code",
   "execution_count": 68,
   "id": "e7ca2e97",
   "metadata": {},
   "outputs": [
    {
     "name": "stdout",
     "output_type": "stream",
     "text": [
      "Bayes Rodríguez, Cristian Luis\n",
      "Esquivel Segura, Henry John\n",
      "2021-05-11T21:36:48Z\n",
      "2021-05-11T21:36:48Z\n",
      "2018\n",
      "2021-05-11\n",
      "http://hdl.handle.net/20.500.12404/19051\n",
      "El presente trabajo de tesis presenta un modelo de regresión semiparamétrico con errores\r\n",
      "t-Student, que permite estudiar el comportamiento de una variable dependiente dado un\r\n",
      "conjunto de variables explicativas cuando los supuestos de linealidad y normalidad no se\r\n",
      "cumplen. La estimación de los parámetros se realiza bajo el enfoque bayesiano a través del\r\n",
      "algoritmo de Gibbs. En el estudio de simulación se observa que el modelo propuesto es más\r\n",
      "robusto ante la presencia de valores atípicos que el usual modelo regresión semiparamétrico\r\n",
      "normal. Asimismo se presenta una aplicación con datos reales para ilustrar esta característica.\n",
      "spa\n",
      "Pontificia Universidad Católica del Perú\n",
      "info:eu-repo/semantics/openAccess\n",
      "Atribución-NoComercial 2.5 Perú\n",
      "http://creativecommons.org/licenses/by-nc/2.5/pe/\n",
      "Análisis de regresión\n",
      "Modelos lineales (Estadística)\n",
      "Estadística bayesiana\n",
      "Modelo de regresión semiparamétrico robusto\n",
      "info:eu-repo/semantics/masterThesis\n",
      "Magíster en Estadística\n",
      "Maestría\n",
      "Pontificia Universidad Católica del Perú. Escuela de Posgrado.\n",
      "Estadística\n",
      "40372640\n",
      "https://orcid.org/0000-0003-0474-7921\n",
      "42725900\n",
      "542037\n",
      "Bayes Rodríguez, Cristian Luis\n",
      "Valdivieso Serrano, Luis Hilmar\n",
      "Maehara Aliaga, Rocio Paola\n",
      "https://purl.org/pe-repo/renati/level#maestro\n",
      "http://purl.org/pe-repo/renati/type#tesis\n",
      "PE\n",
      "http://purl.org/pe-repo/ocde/ford#1.01.03\n",
      "ESQUIVEL_SEGURA_HENRY_MODELO_R ...\n",
      "1.164Mb\n",
      "PDF\n",
      "Texto completo\n",
      "license_rdf\n",
      "920bytes\n",
      "application/rdf+xml\n"
     ]
    }
   ],
   "source": [
    "#código para extraer el contenido de la página\n",
    "url=\"https://tesis.pucp.edu.pe/repositorio/handle/20.500.12404/19051?show=full\"\n",
    "html=requests.get(url)\n",
    "content=html.content\n",
    "soup=bs(content,\"lxml\")\n",
    "data=soup.find(class_=\"ds-static-div primary\")\n",
    "info=data.find_all(class_=\"word-break\")\n",
    "for linea in info:\n",
    "    contenido=linea.text\n",
    "    print(contenido)"
   ]
  },
  {
   "cell_type": "code",
   "execution_count": 69,
   "id": "beaeaa78",
   "metadata": {},
   "outputs": [
    {
     "name": "stdout",
     "output_type": "stream",
     "text": [
      "Pontificia Universidad Católica del Perú\n"
     ]
    }
   ],
   "source": [
    "#extraemos el nombre de la universidad\n",
    "url=\"https://tesis.pucp.edu.pe/repositorio/handle/20.500.12404/19051?show=full\"\n",
    "html=requests.get(url)#hacemos una petición a la pagina web apra escrapearla\n",
    "soup=bs(content,\"lxml\")\n",
    "data=soup.find(class_=\"ds-static-div primary\")#extraemos las clases requeridas\n",
    "universidad=data.find_all(class_=\"word-break\")[9].text\n",
    "print(universidad)"
   ]
  },
  {
   "cell_type": "code",
   "execution_count": 70,
   "id": "74358f26",
   "metadata": {},
   "outputs": [
    {
     "name": "stdout",
     "output_type": "stream",
     "text": [
      "Modelo de regresión semiparamétrico robusto\n"
     ]
    }
   ],
   "source": [
    "#extraemos el título de la tesis\n",
    "url=\"https://tesis.pucp.edu.pe/repositorio/handle/20.500.12404/19051?show=full\"\n",
    "html=requests.get(url)#hacemos una petición a la pagina web apra escrapearla\n",
    "content=html.content#extraemos todo el contenido de la página\n",
    "soup=bs(content,\"lxml\")\n",
    "data=soup.find(class_=\"ds-static-div primary\")#extraemos las clases requeridas\n",
    "titulo=data.find_all(class_=\"word-break\")[16].text\n",
    "print(titulo)"
   ]
  },
  {
   "cell_type": "code",
   "execution_count": 77,
   "id": "06574fff",
   "metadata": {},
   "outputs": [
    {
     "name": "stdout",
     "output_type": "stream",
     "text": [
      "Esquivel Segura, Henry John\n"
     ]
    }
   ],
   "source": [
    "#extraemos el nombre del tesista\n",
    "url=\"https://tesis.pucp.edu.pe/repositorio/handle/20.500.12404/19051?show=full\"\n",
    "html=requests.get(url)#hacemos una petición a la pagina web apra escrapearla\n",
    "content=html.content#extraemos todo el contenido de la página\n",
    "soup=bs(content,\"lxml\")\n",
    "data=soup.find(class_=\"ds-static-div primary\")#extraemos las clases requeridas\n",
    "nombre_tesista=data.find_all(class_=\"word-break\")[1].text\n",
    "print(nombre_tesista)"
   ]
  },
  {
   "cell_type": "code",
   "execution_count": 72,
   "id": "8d90fc33",
   "metadata": {},
   "outputs": [
    {
     "name": "stdout",
     "output_type": "stream",
     "text": [
      "Magíster en Estadística\n"
     ]
    }
   ],
   "source": [
    "#se realiza para obtener el grado de.........\n",
    "url=\"https://tesis.pucp.edu.pe/repositorio/handle/20.500.12404/19051?show=full\"\n",
    "html=requests.get(url)#hacemos una petición a la pagina web apra escrapearla\n",
    "content=html.content#extraemos todo el contenido de la página\n",
    "soup=bs(content,\"lxml\")\n",
    "#extraemos las clases requeridas\n",
    "data=soup.find(class_=\"ds-static-div primary\")\n",
    "grado=data.find_all(class_=\"word-break\")[18].text\n",
    "print(grado)"
   ]
  },
  {
   "cell_type": "code",
   "execution_count": 73,
   "id": "43fdbf50",
   "metadata": {},
   "outputs": [
    {
     "name": "stdout",
     "output_type": "stream",
     "text": [
      "Estadística\n"
     ]
    }
   ],
   "source": [
    "#extraemos la carrera del tesista\n",
    "#guardamos la direccion web  en url\n",
    "url=\"https://tesis.pucp.edu.pe/repositorio/handle/20.500.12404/19051?show=full\"\n",
    "#hacemos una petición a la pagina web apra escrapearla\n",
    "html=requests.get(url)\n",
    "#extraemos todo el contenido de la página\n",
    "content=html.content\n",
    "soup=bs(content,\"lxml\")\n",
    "#extraemos las clases requeridas\n",
    "data=soup.find(class_=\"ds-static-div primary\")\n",
    "profesion=data.find_all(class_=\"word-break\")[21].text\n",
    "print(profesion)"
   ]
  },
  {
   "cell_type": "code",
   "execution_count": 74,
   "id": "06dbd3f0",
   "metadata": {},
   "outputs": [
    {
     "name": "stdout",
     "output_type": "stream",
     "text": [
      "Bayes Rodríguez, Cristian Luis\n"
     ]
    }
   ],
   "source": [
    "#extraemos al asesor del tesista\n",
    "#guardamos la direccion web  en url\n",
    "url=\"https://tesis.pucp.edu.pe/repositorio/handle/20.500.12404/19051?show=full\"\n",
    "#hacemos una petición a la pagina web apra escrapearla\n",
    "html=requests.get(url)\n",
    "#extraemos todo el contenido de la página\n",
    "content=html.content\n",
    "soup=bs(content,\"lxml\")\n",
    "#extraemos las clases requerida\n",
    "data=soup.find(class_=\"ds-static-div primary\")\n",
    "asesor=data.find_all(class_=\"word-break\")[0].text\n",
    "print(asesor)"
   ]
  },
  {
   "cell_type": "code",
   "execution_count": 75,
   "id": "81b2815e",
   "metadata": {},
   "outputs": [
    {
     "name": "stdout",
     "output_type": "stream",
     "text": [
      "El presente trabajo de tesis presenta un modelo de regresión semiparamétrico con errores\r\n",
      "t-Student, que permite estudiar el comportamiento de una variable dependiente dado un\r\n",
      "conjunto de variables explicativas cuando los supuestos de linealidad y normalidad no se\r\n",
      "cumplen. La estimación de los parámetros se realiza bajo el enfoque bayesiano a través del\r\n",
      "algoritmo de Gibbs. En el estudio de simulación se observa que el modelo propuesto es más\r\n",
      "robusto ante la presencia de valores atípicos que el usual modelo regresión semiparamétrico\r\n",
      "normal. Asimismo se presenta una aplicación con datos reales para ilustrar esta característica.\n"
     ]
    }
   ],
   "source": [
    "#estraemos el resumen dela tesis\n",
    "#guardamos la direccion web  en url\n",
    "url=\"https://tesis.pucp.edu.pe/repositorio/handle/20.500.12404/19051?show=full\"\n",
    "#hacemos una petición a la pagina web apra escrapearla\n",
    "html=requests.get(url)\n",
    "#extraemos todo el contenido de la págin\n",
    "content=html.content\n",
    "soup=bs(content,\"lxml\")\n",
    "#extraemos las clases requeridas\n",
    "data=soup.find(class_=\"ds-static-div primary\")\n",
    "resumen=data.find_all(class_=\"word-break\")[7].text\n",
    "print(resumen)"
   ]
  },
  {
   "cell_type": "code",
   "execution_count": 76,
   "id": "4f95c76d",
   "metadata": {},
   "outputs": [
    {
     "name": "stdout",
     "output_type": "stream",
     "text": [
      "2018\n"
     ]
    }
   ],
   "source": [
    "#obtenemos el año de la tesis\n",
    "#guardamos la direccion web  en url\n",
    "url=\"https://tesis.pucp.edu.pe/repositorio/handle/20.500.12404/19051?show=full\"\n",
    "#hacemos una petición a la pagina web apra escrapearla\n",
    "html=requests.get(url)\n",
    "#extraemos todo el contenido de la págin\n",
    "content=html.content\n",
    "soup=bs(content,\"lxml\")\n",
    "#extraemos las clases requerida\n",
    "data=soup.find(class_=\"ds-static-div primary\")\n",
    "fecha_emitida=data.find_all(class_=\"word-break\")[4].text\n",
    "print(fecha_emitida)"
   ]
  },
  {
   "cell_type": "code",
   "execution_count": 43,
   "id": "7cab1bbd",
   "metadata": {},
   "outputs": [
    {
     "data": {
      "text/html": [
       "<div>\n",
       "<style scoped>\n",
       "    .dataframe tbody tr th:only-of-type {\n",
       "        vertical-align: middle;\n",
       "    }\n",
       "\n",
       "    .dataframe tbody tr th {\n",
       "        vertical-align: top;\n",
       "    }\n",
       "\n",
       "    .dataframe thead th {\n",
       "        text-align: right;\n",
       "    }\n",
       "</style>\n",
       "<table border=\"1\" class=\"dataframe\">\n",
       "  <thead>\n",
       "    <tr style=\"text-align: right;\">\n",
       "      <th></th>\n",
       "      <th>Estructura</th>\n",
       "      <th>Datos</th>\n",
       "    </tr>\n",
       "  </thead>\n",
       "  <tbody>\n",
       "    <tr>\n",
       "      <th>0</th>\n",
       "      <td>Universidad</td>\n",
       "      <td>Pontificia Universidad Católica del Perú</td>\n",
       "    </tr>\n",
       "    <tr>\n",
       "      <th>1</th>\n",
       "      <td>Título</td>\n",
       "      <td>Modelo de regresión semiparamétrico robusto</td>\n",
       "    </tr>\n",
       "    <tr>\n",
       "      <th>2</th>\n",
       "      <td>Nombre del tesista</td>\n",
       "      <td>Esquivel Segura, Henry John</td>\n",
       "    </tr>\n",
       "    <tr>\n",
       "      <th>3</th>\n",
       "      <td>Grado</td>\n",
       "      <td>Magíster en Estadística</td>\n",
       "    </tr>\n",
       "    <tr>\n",
       "      <th>4</th>\n",
       "      <td>Profesión</td>\n",
       "      <td>Estadística</td>\n",
       "    </tr>\n",
       "    <tr>\n",
       "      <th>5</th>\n",
       "      <td>Asesor</td>\n",
       "      <td>Bayes Rodríguez, Cristian Luis</td>\n",
       "    </tr>\n",
       "    <tr>\n",
       "      <th>6</th>\n",
       "      <td>Resumen</td>\n",
       "      <td>El presente trabajo de tesis presenta un model...</td>\n",
       "    </tr>\n",
       "    <tr>\n",
       "      <th>7</th>\n",
       "      <td>Año</td>\n",
       "      <td>2018</td>\n",
       "    </tr>\n",
       "  </tbody>\n",
       "</table>\n",
       "</div>"
      ],
      "text/plain": [
       "           Estructura                                              Datos\n",
       "0         Universidad           Pontificia Universidad Católica del Perú\n",
       "1              Título        Modelo de regresión semiparamétrico robusto\n",
       "2  Nombre del tesista                        Esquivel Segura, Henry John\n",
       "3               Grado                            Magíster en Estadística\n",
       "4           Profesión                                        Estadística\n",
       "5              Asesor                     Bayes Rodríguez, Cristian Luis\n",
       "6             Resumen  El presente trabajo de tesis presenta un model...\n",
       "7                 Año                                               2018"
      ]
     },
     "execution_count": 43,
     "metadata": {},
     "output_type": "execute_result"
    }
   ],
   "source": [
    "#creamos un dataframe \n",
    "df=pd.DataFrame()\n",
    "#insertamos:\n",
    "#insertamos estructura del informe\n",
    "df['Estructura']= [\"Universidad\",\"Título\",\"Nombre del tesista\",\"Grado\",\"Profesión\",\"Asesor\",\"Resumen\",\"Año\"]\n",
    "#insertamos los datos extraidos de la tesis\n",
    "df['Datos']=[universidad,titulo,nombre_tesista,grado,profesion,asesor,resumen,fecha_emitida]\n",
    "df"
   ]
  },
  {
   "cell_type": "raw",
   "id": "43ee7b1b",
   "metadata": {},
   "source": []
  },
  {
   "cell_type": "code",
   "execution_count": 65,
   "id": "fc05b8d6",
   "metadata": {},
   "outputs": [],
   "source": [
    "#guardos el data frame \"df\" en un archivo .csv\n",
    "primera_tesis1 = df.to_csv('primeratesis1.csv', encoding = 'ANSI',index = False)"
   ]
  },
  {
   "cell_type": "code",
   "execution_count": null,
   "id": "b2e199fd",
   "metadata": {},
   "outputs": [],
   "source": []
  }
 ],
 "metadata": {
  "kernelspec": {
   "display_name": "Python 3 (ipykernel)",
   "language": "python",
   "name": "python3"
  },
  "language_info": {
   "codemirror_mode": {
    "name": "ipython",
    "version": 3
   },
   "file_extension": ".py",
   "mimetype": "text/x-python",
   "name": "python",
   "nbconvert_exporter": "python",
   "pygments_lexer": "ipython3",
   "version": "3.9.12"
  }
 },
 "nbformat": 4,
 "nbformat_minor": 5
}
