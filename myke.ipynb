{
 "cells": [
  {
   "cell_type": "code",
   "execution_count": 1,
   "id": "55a2e7f8",
   "metadata": {},
   "outputs": [],
   "source": [
    "#importando librerias necesarias para realziar el trabajo requerido \n",
    "import pandas as pd\n",
    "import requests \n",
    "import re \n",
    "from bs4 import BeautifulSoup as bs git\n"
   ]
  },
  {
   "cell_type": "code",
   "execution_count": null,
   "id": "4f32502c",
   "metadata": {},
   "outputs": [],
   "source": [
    "#ingresamos el codigo para analizar el repositorio\n",
    "url=\"https://repositorio.autonoma.edu.pe/handle/20.500.13067/2164\"\n",
    "html=requests.get(url)\n",
    "content=html.content\n",
    "soup=bs(content,\"lxml\")\n",
    "data=soup.find(\"div\",class_=\"simple-item-view-show-full item-page-field-wrapper table\")\n",
    "link=data.find(\"a\")\n",
    "print(\"https://repositorio.autonoma.edu.pe:\"+ link[\"href\"]) \n"
   ]
  }
 ],
 "metadata": {
  "kernelspec": {
   "display_name": "Python 3 (ipykernel)",
   "language": "python",
   "name": "python3"
  },
  "language_info": {
   "codemirror_mode": {
    "name": "ipython",
    "version": 3
   },
   "file_extension": ".py",
   "mimetype": "text/x-python",
   "name": "python",
   "nbconvert_exporter": "python",
   "pygments_lexer": "ipython3",
   "version": "3.9.12"
  }
 },
 "nbformat": 4,
 "nbformat_minor": 5
}
