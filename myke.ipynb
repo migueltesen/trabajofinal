{
 "cells": [
  {
   "cell_type": "code",
   "execution_count": 1,
   "id": "72c38293",
   "metadata": {},
   "outputs": [],
   "source": [
    "#importando librerias necesarias para realziar el trabajo requerido \n",
    "import pandas as pd\n",
    "import requests \n",
    "import re \n",
    "from bs4 import BeautifulSoup as bs git\n"
   ]
  },
  {
   "cell_type": "code",
   "execution_count": 23,
   "id": "e500c99f",
   "metadata": {},
   "outputs": [
    {
     "name": "stdout",
     "output_type": "stream",
     "text": [
      "https://tesis.pucp.edu.pe:/repositorio/handle/20.500.12404/19051?show=full\n"
     ]
    }
   ],
   "source": [
    "#ingresamos el codigo para analizar el repositorio\n",
    "url=\"https://tesis.pucp.edu.pe/repositorio/handle/20.500.12404/19051\"\n",
    "html=requests.get(url)\n",
    "content=html.content\n",
    "soup=bs(content,\"lxml\")\n",
    "data=soup.find(\"div\",class_=\"simple-item-view-show-full item-page-field-wrapper table\")\n",
    "link=data.find(\"a\")\n",
    "print(\"https://tesis.pucp.edu.pe:\"+ link[\"href\"]) \n"
   ]
  },
  {
   "cell_type": "code",
   "execution_count": 25,
   "id": "4eaa2fac",
   "metadata": {},
   "outputs": [
    {
     "name": "stdout",
     "output_type": "stream",
     "text": [
      "Bayes Rodríguez, Cristian Luis\n",
      "Esquivel Segura, Henry John\n",
      "2021-05-11T21:36:48Z\n",
      "2021-05-11T21:36:48Z\n",
      "2018\n",
      "2021-05-11\n",
      "http://hdl.handle.net/20.500.12404/19051\n",
      "El presente trabajo de tesis presenta un modelo de regresión semiparamétrico con errores\r\n",
      "t-Student, que permite estudiar el comportamiento de una variable dependiente dado un\r\n",
      "conjunto de variables explicativas cuando los supuestos de linealidad y normalidad no se\r\n",
      "cumplen. La estimación de los parámetros se realiza bajo el enfoque bayesiano a través del\r\n",
      "algoritmo de Gibbs. En el estudio de simulación se observa que el modelo propuesto es más\r\n",
      "robusto ante la presencia de valores atípicos que el usual modelo regresión semiparamétrico\r\n",
      "normal. Asimismo se presenta una aplicación con datos reales para ilustrar esta característica.\n",
      "spa\n",
      "Pontificia Universidad Católica del Perú\n",
      "info:eu-repo/semantics/openAccess\n",
      "Atribución-NoComercial 2.5 Perú\n",
      "http://creativecommons.org/licenses/by-nc/2.5/pe/\n",
      "Análisis de regresión\n",
      "Modelos lineales (Estadística)\n",
      "Estadística bayesiana\n",
      "Modelo de regresión semiparamétrico robusto\n",
      "info:eu-repo/semantics/masterThesis\n",
      "Magíster en Estadística\n",
      "Maestría\n",
      "Pontificia Universidad Católica del Perú. Escuela de Posgrado.\n",
      "Estadística\n",
      "40372640\n",
      "https://orcid.org/0000-0003-0474-7921\n",
      "42725900\n",
      "542037\n",
      "Bayes Rodríguez, Cristian Luis\n",
      "Valdivieso Serrano, Luis Hilmar\n",
      "Maehara Aliaga, Rocio Paola\n",
      "https://purl.org/pe-repo/renati/level#maestro\n",
      "http://purl.org/pe-repo/renati/type#tesis\n",
      "PE\n",
      "http://purl.org/pe-repo/ocde/ford#1.01.03\n",
      "ESQUIVEL_SEGURA_HENRY_MODELO_R ...\n",
      "1.164Mb\n",
      "PDF\n",
      "Texto completo\n",
      "license_rdf\n",
      "920bytes\n",
      "application/rdf+xml\n"
     ]
    }
   ],
   "source": [
    "#código para extraer el contenido de la página\n",
    "url=\"https://tesis.pucp.edu.pe/repositorio/handle/20.500.12404/19051?show=full\"\n",
    "html=requests.get(url)\n",
    "content=html.content\n",
    "soup=bs(content,\"lxml\")\n",
    "data=soup.find(class_=\"ds-static-div primary\")\n",
    "info=data.find_all(class_=\"word-break\")\n",
    "for linea in info:\n",
    "    contenido=linea.text\n",
    "    print(contenido)"
   ]
  },
  {
   "cell_type": "code",
   "execution_count": 27,
   "id": "5b8f2a41",
   "metadata": {},
   "outputs": [
    {
     "name": "stdout",
     "output_type": "stream",
     "text": [
      "Pontificia Universidad Católica del Perú\n"
     ]
    }
   ],
   "source": [
    "#extraemos el nombre de la universidad\n",
    "url=\"https://tesis.pucp.edu.pe/repositorio/handle/20.500.12404/19051?show=full\"\n",
    "html=requests.get(url)\n",
    "content=html.content\n",
    "soup=bs(content,\"lxml\")\n",
    "data=soup.find(class_=\"ds-static-div primary\")\n",
    "universidad=data.find_all(class_=\"word-break\")[9].text\n",
    "print(universidad)"
   ]
  },
  {
   "cell_type": "code",
   "execution_count": 29,
   "id": "e91edbb4",
   "metadata": {},
   "outputs": [
    {
     "name": "stdout",
     "output_type": "stream",
     "text": [
      "Modelo de regresión semiparamétrico robusto\n"
     ]
    }
   ],
   "source": [
    "#extraemos el título de la tesis\n",
    "url=\"https://tesis.pucp.edu.pe/repositorio/handle/20.500.12404/19051?show=full\"\n",
    "html=requests.get(url)\n",
    "content=html.content\n",
    "soup=bs(content,\"lxml\")\n",
    "data=soup.find(class_=\"ds-static-div primary\")\n",
    "titulo=data.find_all(class_=\"word-break\")[16].text\n",
    "print(titulo)"
   ]
  },
  {
   "cell_type": "code",
   "execution_count": 30,
   "id": "6942f495",
   "metadata": {},
   "outputs": [
    {
     "name": "stdout",
     "output_type": "stream",
     "text": [
      "Esquivel Segura, Henry John\n"
     ]
    }
   ],
   "source": [
    "#extraemos el nombre del tesista\n",
    "url=\"https://tesis.pucp.edu.pe/repositorio/handle/20.500.12404/19051?show=full\"\n",
    "html=requests.get(url)\n",
    "content=html.content\n",
    "soup=bs(content,\"lxml\")\n",
    "data=soup.find(class_=\"ds-static-div primary\")\n",
    "nombre_tesista=data.find_all(class_=\"word-break\")[1].text\n",
    "print(nombre_tesista)"
   ]
  },
  {
   "cell_type": "code",
   "execution_count": 32,
   "id": "ff8b5ed4",
   "metadata": {},
   "outputs": [
    {
     "name": "stdout",
     "output_type": "stream",
     "text": [
      "Estadística\n"
     ]
    }
   ],
   "source": [
    "#extraemos la carrera del tesista\n",
    "url=\"https://tesis.pucp.edu.pe/repositorio/handle/20.500.12404/19051?show=full\"\n",
    "html=requests.get(url)\n",
    "content=html.content\n",
    "soup=bs(content,\"lxml\")\n",
    "data=soup.find(class_=\"ds-static-div primary\")\n",
    "profesion=data.find_all(class_=\"word-break\")[21].text\n",
    "print(profesion)"
   ]
  },
  {
   "cell_type": "code",
   "execution_count": 33,
   "id": "242d824b",
   "metadata": {},
   "outputs": [
    {
     "name": "stdout",
     "output_type": "stream",
     "text": [
      "Bayes Rodríguez, Cristian Luis\n"
     ]
    }
   ],
   "source": [
    "#extraemos al asesor del tesista\n",
    "url=\"https://tesis.pucp.edu.pe/repositorio/handle/20.500.12404/19051?show=full\"\n",
    "html=requests.get(url)\n",
    "content=html.content\n",
    "soup=bs(content,\"lxml\")\n",
    "data=soup.find(class_=\"ds-static-div primary\")\n",
    "asesor=data.find_all(class_=\"word-break\")[0].text\n",
    "print(asesor)"
   ]
  },
  {
   "cell_type": "code",
   "execution_count": 34,
   "id": "84852954",
   "metadata": {},
   "outputs": [
    {
     "name": "stdout",
     "output_type": "stream",
     "text": [
      "El presente trabajo de tesis presenta un modelo de regresión semiparamétrico con errores\r\n",
      "t-Student, que permite estudiar el comportamiento de una variable dependiente dado un\r\n",
      "conjunto de variables explicativas cuando los supuestos de linealidad y normalidad no se\r\n",
      "cumplen. La estimación de los parámetros se realiza bajo el enfoque bayesiano a través del\r\n",
      "algoritmo de Gibbs. En el estudio de simulación se observa que el modelo propuesto es más\r\n",
      "robusto ante la presencia de valores atípicos que el usual modelo regresión semiparamétrico\r\n",
      "normal. Asimismo se presenta una aplicación con datos reales para ilustrar esta característica.\n"
     ]
    }
   ],
   "source": [
    "url=\"https://tesis.pucp.edu.pe/repositorio/handle/20.500.12404/19051?show=full\"\n",
    "html=requests.get(url)\n",
    "content=html.content\n",
    "soup=bs(content,\"lxml\")\n",
    "data=soup.find(class_=\"ds-static-div primary\")\n",
    "resumen=data.find_all(class_=\"word-break\")[7].text\n",
    "print(resumen)"
   ]
  },
  {
   "cell_type": "code",
   "execution_count": 35,
   "id": "903724b0",
   "metadata": {},
   "outputs": [
    {
     "name": "stdout",
     "output_type": "stream",
     "text": [
      "2018\n"
     ]
    }
   ],
   "source": [
    "url=\"https://tesis.pucp.edu.pe/repositorio/handle/20.500.12404/19051?show=full\"\n",
    "html=requests.get(url)\n",
    "content=html.content\n",
    "soup=bs(content,\"lxml\")\n",
    "data=soup.find(class_=\"ds-static-div primary\")\n",
    "fecha_emitida=data.find_all(class_=\"word-break\")[4].text\n",
    "print(fecha_emitida)"
   ]
  }
 ],
 "metadata": {
  "kernelspec": {
   "display_name": "Python 3 (ipykernel)",
   "language": "python",
   "name": "python3"
  },
  "language_info": {
   "codemirror_mode": {
    "name": "ipython",
    "version": 3
   },
   "file_extension": ".py",
   "mimetype": "text/x-python",
   "name": "python",
   "nbconvert_exporter": "python",
   "pygments_lexer": "ipython3",
   "version": "3.9.12"
  }
 },
 "nbformat": 4,
 "nbformat_minor": 5
}
