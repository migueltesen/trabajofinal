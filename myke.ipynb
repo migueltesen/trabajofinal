{
 "cells": [
  {
   "cell_type": "code",
   "execution_count": 1,
   "id": "14448ede",
   "metadata": {},
   "outputs": [],
   "source": [
    "#importando librerias necesarias para realziar el trabajo requerido \n",
    "import pandas as pd\n",
    "import requests \n",
    "import re \n",
    "from bs4 import BeautifulSoup as bs git\n"
   ]
  },
  {
   "cell_type": "code",
   "execution_count": 23,
   "id": "82d0a5d1",
   "metadata": {},
   "outputs": [
    {
     "name": "stdout",
     "output_type": "stream",
     "text": [
      "https://tesis.pucp.edu.pe:/repositorio/handle/20.500.12404/19051?show=full\n"
     ]
    }
   ],
   "source": [
    "#ingresamos el codigo para analizar el repositorio\n",
    "url=\"https://tesis.pucp.edu.pe/repositorio/handle/20.500.12404/19051\"\n",
    "html=requests.get(url)\n",
    "content=html.content\n",
    "soup=bs(content,\"lxml\")\n",
    "data=soup.find(\"div\",class_=\"simple-item-view-show-full item-page-field-wrapper table\")\n",
    "link=data.find(\"a\")\n",
    "print(\"https://tesis.pucp.edu.pe:\"+ link[\"href\"]) \n"
   ]
  },
  {
   "cell_type": "code",
   "execution_count": 5,
   "id": "8d396672",
   "metadata": {},
   "outputs": [
    {
     "name": "stdout",
     "output_type": "stream",
     "text": [
      "Goethals, Yves\n",
      "Timaná De la Flor, Juan\n",
      "2022-09-16T17:01:31Z\n",
      "2022-09-16T17:01:31Z\n",
      "1990\n",
      "https://hdl.handle.net/20.500.12640/3136\n",
      "Trata de satisfacer la necesidad de los estudiantes de estadística que buscan reforzar sus conocimientos mediante un entrenamiento práctico. A diferencia de otros textos, que presentan problemas pero que a lo sumo proporcionan la respuesta correcta, este libro desarrolla y explica detalladamente los problemas propuestos. Se pretende, de esta forma, que su valor didáctico sea mayor. Si bien el contenido se ha orientado al área de los negocios, los estudiantes de otras disciplinas también lo encontrarán útil por su aplicación de conceptos teóricos al mundo real, pues especial atención se puso a la presentación de casos reales que ilustraran la complejidad socioeconómica del Perú. Tal esfuerzo llevó a utilizar el inti como unidad monetaria. Adicionalmente, los precios y costos fueron actualizados al año 1987, a fin de obtener mayor uniformidad en el texto. El libro está dividido en dos partes, la primera comprende los enunciados de los problemas, y la segunda, las soluciones. Se pone énfasis en el análisis e interpretación de la información estadística, evitándose los cálculos que resultan engorrosos. En los temas en que el cálculo intenso resultaba indispensable, se ha hecho uso del computador, utilizando el paquete estadístico MINITAB.\n",
      "application/pdf\n",
      "spa\n",
      "Escuela de Administración de Negocios para Graduados\n",
      "info:eu-repo/semantics/openAccess\n",
      "Atribución-NoComercial-SinDerivadas 2.5 Perú\n",
      "http://creativecommons.org/licenses/by-nc-nd/2.5/pe/\n",
      "Estadística aplicada\n",
      "Negocios\n",
      "Estadística aplicada a los negocios: problemas y soluciones\n",
      "info:eu-repo/semantics/book\n",
      "PE\n",
      "Libro\n",
      "Estadística aplicada a los ...\n",
      "103.2Mb\n",
      "PDF\n",
      "license_rdf\n",
      "811bytes\n",
      "application/rdf+xml\n"
     ]
    }
   ],
   "source": [
    "#ingresamos codigo para obtener el contenido del repositorio\n",
    "url=\"https://repositorio.esan.edu.pe/handle/20.500.12640/3136?show=full\"\n",
    "html=requests.get(url)\n",
    "content=html.content\n",
    "soup=bs(content,\"lxml\")\n",
    "data=soup.find(class_=\"ds-static-div primary\")\n",
    "info=data.find_all(class_=\"word-break\")\n",
    "for linea in info:\n",
    "    contenido=linea.text\n",
    "    print(contenido)"
   ]
  },
  {
   "cell_type": "code",
   "execution_count": 21,
   "id": "380921e1",
   "metadata": {},
   "outputs": [
    {
     "name": "stdout",
     "output_type": "stream",
     "text": [
      "Escuela de Administración de Negocios para Graduados\n"
     ]
    }
   ],
   "source": [
    "#código para sacar el nombre de la universidad a la que pertenece la tesis\n",
    "url=\"https://repositorio.esan.edu.pe/handle/20.500.12640/3136?show=full\"\n",
    "html=requests.get(url)\n",
    "content=html.content\n",
    "soup=bs(content,\"lxml\")\n",
    "data=soup.find(class_=\"ds-static-div primary\")\n",
    "universidad=data.find_all(class_=\"word-break\")[9].text\n",
    "print(universidad)"
   ]
  },
  {
   "cell_type": "code",
   "execution_count": null,
   "id": "e84aac7d",
   "metadata": {},
   "outputs": [],
   "source": []
  }
 ],
 "metadata": {
  "kernelspec": {
   "display_name": "Python 3 (ipykernel)",
   "language": "python",
   "name": "python3"
  },
  "language_info": {
   "codemirror_mode": {
    "name": "ipython",
    "version": 3
   },
   "file_extension": ".py",
   "mimetype": "text/x-python",
   "name": "python",
   "nbconvert_exporter": "python",
   "pygments_lexer": "ipython3",
   "version": "3.9.12"
  }
 },
 "nbformat": 4,
 "nbformat_minor": 5
}
