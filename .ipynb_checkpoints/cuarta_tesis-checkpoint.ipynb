{
 "cells": [
  {
   "cell_type": "code",
   "execution_count": 1,
   "id": "ef8a70ab",
   "metadata": {},
   "outputs": [],
   "source": [
    "#cargamos los paquetes\n",
    "import pandas as pd\n",
    "import requests \n",
    "import re \n",
    "from bs4 import BeautifulSoup as bs "
   ]
  },
  {
   "cell_type": "code",
   "execution_count": 2,
   "id": "75d96ba8",
   "metadata": {},
   "outputs": [
    {
     "name": "stdout",
     "output_type": "stream",
     "text": [
      "https://tesis.pucp.edu.pe:/repositorio/handle/20.500.12404/22095?show=full\n"
     ]
    }
   ],
   "source": [
    "#obtenemos el link de la pagina\n",
    "url=\"https://tesis.pucp.edu.pe/repositorio/handle/20.500.12404/22095\"\n",
    "html=requests.get(url)\n",
    "content=html.content\n",
    "soup=bs(content,\"lxml\")\n",
    "data=soup.find(\"div\",class_=\"simple-item-view-show-full item-page-field-wrapper table\")\n",
    "link=data.find(\"a\")\n",
    "print(\"https://tesis.pucp.edu.pe:\"+ link[\"href\"])"
   ]
  },
  {
   "cell_type": "code",
   "execution_count": 3,
   "id": "573db25f",
   "metadata": {},
   "outputs": [
    {
     "name": "stdout",
     "output_type": "stream",
     "text": [
      "Benites Sanchez, Luis Enrique\n",
      "Cotacallapa Amanqui, Pavel Arturo\n",
      "2022-04-07T21:31:33Z\n",
      "2022-04-07T21:31:33Z\n",
      "2022\n",
      "2022-04-07\n",
      "http://hdl.handle.net/20.500.12404/22095\n",
      "En muchas situaciones prácticas es necesario el uso de modelos que puedan predecir una colección\r\n",
      "de datos limitados por un intervalo cuya suma sea una constante por cada unidad estadística.\r\n",
      "Este tipo de variable respuesta se conoce como datos composicionales. Por otro lado, el número de\r\n",
      "covariables que se usan para el entrenamiento de este tipo de modelos pueden provenir de datos\r\n",
      "asociados a imágenes como la intensidad de los pixeles. En ese contexto, se propone el uso de las\r\n",
      "redes neuronales convolucionales como una primera alternativa para intentar estimar este tipo de\r\n",
      "variable respuesta. Se utiliza la distribución de Dirichlet como distribución condicional de los datos\r\n",
      "y  nalmente se propone una aplicación del modelo utilizando imágenes de prendas de vestir que se\r\n",
      "venden por catálogo en donde el objetivo es predecir las participaciones de las tallas que se venden\r\n",
      "por cada unidad estadística.\n",
      "spa\n",
      "Pontificia Universidad Católica del Perú\n",
      "info:eu-repo/semantics/openAccess\n",
      "Atribución-CompartirIgual 2.5 Perú\n",
      "http://creativecommons.org/licenses/by-sa/2.5/pe/\n",
      "Redes neuronales\n",
      "Procesamiento de datos\n",
      "Variables (Estadística)\n",
      "Redes neuronales convolucionales para datos composicionales: Una aplicación a la industria textil de la moda\n",
      "info:eu-repo/semantics/masterThesis\n",
      "Magíster en Estadística\n",
      "Maestría\n",
      "Pontificia Universidad Católica del Perú. Escuela de Posgrado.\n",
      "Estadística\n",
      "42987865\n",
      "https://orcid.org/0000-0001-5998-7098\n",
      "47450199\n",
      "542037\n",
      "Bayes Rodriguez, Cristian Luis\n",
      "Benites Sanchez, Luis Enrique\n",
      "Quiróz Cornejo, Zaida Jesús\n",
      "https://purl.org/pe-repo/renati/level#maestro\n",
      "https://purl.org/pe-repo/renati/type#tesis\n",
      "PE\n",
      "https://purl.org/pe-repo/ocde/ford#1.01.03\n",
      "COTACALLAPA_AMANQUI_PAVEL_REDE ...\n",
      "916.1Kb\n",
      "PDF\n",
      "Texto completo\n",
      "license_rdf\n",
      "1.006Kb\n",
      "application/rdf+xml\n"
     ]
    }
   ],
   "source": [
    "#código para extraer el contenido de la página\n",
    "url=\"https://tesis.pucp.edu.pe/repositorio/handle/20.500.12404/22095?show=full\"\n",
    "html=requests.get(url)\n",
    "content=html.content\n",
    "soup=bs(content,\"lxml\")\n",
    "data=soup.find(class_=\"ds-static-div primary\")\n",
    "info=data.find_all(class_=\"word-break\")\n",
    "for linea in info:\n",
    "    contenido=linea.text\n",
    "    print(contenido)"
   ]
  },
  {
   "cell_type": "code",
   "execution_count": 6,
   "id": "8cf7dd60",
   "metadata": {},
   "outputs": [
    {
     "name": "stdout",
     "output_type": "stream",
     "text": [
      "Pontificia Universidad Católica del Perú\n"
     ]
    }
   ],
   "source": [
    "#extraemos el nombre de la universidad \n",
    "url=\"https://tesis.pucp.edu.pe/repositorio/handle/20.500.12404/22095?show=full\"\n",
    "html=requests.get(url)\n",
    "content=html.content\n",
    "soup=bs(content,\"lxml\")\n",
    "data=soup.find(class_=\"ds-static-div primary\")\n",
    "universidad=data.find_all(class_=\"word-break\")[9].text\n",
    "print(universidad)"
   ]
  },
  {
   "cell_type": "code",
   "execution_count": 9,
   "id": "384aa988",
   "metadata": {},
   "outputs": [
    {
     "name": "stdout",
     "output_type": "stream",
     "text": [
      "Redes neuronales convolucionales para datos composicionales: Una aplicación a la industria textil de la moda\n"
     ]
    }
   ],
   "source": [
    "#conseguimos el título de la tesis\n",
    "url=\"https://tesis.pucp.edu.pe/repositorio/handle/20.500.12404/22095?show=full\"\n",
    "html=requests.get(url)\n",
    "content=html.content\n",
    "soup=bs(content,\"lxml\")\n",
    "data=soup.find(class_=\"ds-static-div primary\")\n",
    "titulo=data.find_all(class_=\"word-break\")[16].text\n",
    "print(titulo)"
   ]
  }
 ],
 "metadata": {
  "kernelspec": {
   "display_name": "Python 3 (ipykernel)",
   "language": "python",
   "name": "python3"
  },
  "language_info": {
   "codemirror_mode": {
    "name": "ipython",
    "version": 3
   },
   "file_extension": ".py",
   "mimetype": "text/x-python",
   "name": "python",
   "nbconvert_exporter": "python",
   "pygments_lexer": "ipython3",
   "version": "3.9.12"
  }
 },
 "nbformat": 4,
 "nbformat_minor": 5
}
