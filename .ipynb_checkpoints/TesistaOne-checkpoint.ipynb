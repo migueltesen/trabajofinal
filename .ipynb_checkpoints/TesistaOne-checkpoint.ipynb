{
 "cells": [
  {
   "cell_type": "markdown",
   "id": "53a42c6e",
   "metadata": {},
   "source": [
    "# <center><u><b><span style=\"color:red\">UNIVERSIDAD PERUANA DE CIENCIAS APLICADAS</span></b></u></center>  \n",
    "<p style=\"color:red;\">"
   ]
  },
  {
   "cell_type": "markdown",
   "id": "58eb4b8a",
   "metadata": {},
   "source": [
    "<div>\n",
    "<p style = 'text-align:center;'>\n",
    "<img src=\"https://upload.wikimedia.org/wikipedia/commons/f/fc/UPC_logo_transparente.png\" alt=\"JuveYell\" width=\"250px\">\n",
    "</p>\n",
    "</div>"
   ]
  },
  {
   "cell_type": "markdown",
   "id": "436c6933",
   "metadata": {},
   "source": [
    "### <span style=\"color:black\"> _Información de la primera tesis_ </span><p style=\"color:black;\">"
   ]
  },
  {
   "cell_type": "code",
   "execution_count": 13,
   "id": "fe6f0704",
   "metadata": {},
   "outputs": [
    {
     "name": "stdout",
     "output_type": "stream",
     "text": [
      "https://repositorioacademico.upc.edu.pe:/handle/10757/660192?show=full\n"
     ]
    }
   ],
   "source": [
    "#Cargando los paquetes y obtenemos el link de la pagina\n",
    "import pandas as pd\n",
    "import requests \n",
    "import re \n",
    "from bs4 import BeautifulSoup as bs \n",
    "url=\"https://repositorioacademico.upc.edu.pe/handle/10757/660192\"\n",
    "html=requests.get(url)\n",
    "content=html.content\n",
    "soup=bs(content,\"lxml\")\n",
    "data=soup.find(\"div\",class_=\"simple-item-view-show-full item-page-field-wrapper table\")\n",
    "link=data.find(\"a\")\n",
    "print(\"https://repositorioacademico.upc.edu.pe:\"+ link[\"href\"]) "
   ]
  },
  {
   "cell_type": "code",
   "execution_count": 14,
   "id": "0f850837",
   "metadata": {},
   "outputs": [
    {
     "name": "stdout",
     "output_type": "stream",
     "text": [
      "Flores Solís, Fernando Rolyn\n",
      "Felices Gomez, Sandi Madeleine\n",
      "2022-06-23T21:51:07Z\n",
      "2022-06-23T21:51:07Z\n",
      "2022-03-05\n",
      "http://hdl.handle.net/10757/660192\n",
      "En el presente proyecto se ha diseñado un modelo de gestión de incidentes de seguridad informática para un organismo del estado peruano en base a la norma ISO/IEC 27035 y otros lineamientos o estándares internacionales con el fin de detectar, evaluar, tratar y responder adecuadamente los incidentes que puedan presentar los sistemas y componentes tecnológicos, ya que se encuentran expuestos a amenazas y vulnerabilidades. El proyecto cuenta con cinco capítulos, en la primera parte se definen los aspectos introductorios que nos acerca a la realidad de la organización, la problemática, el problema a resolver, y el objetivo general que busca este proyecto que es “Diseñar un modelo de Gestión de incidentes de Seguridad Informática basado en las buenas prácticas y directrices de la ISO/IEC 27035 para un organismo del estado peruano, que permita determinar las acciones requeridas para el tratamiento efectivo de los incidentes a los que se encuentran expuestos”. En el segundo capítulo se define el marco teórico en el que se analiza la norma ISO/IEC 27035 en profundidad, con el fin de conocer los conceptos necesarios para comprender el modelo de gestión de incidentes de seguridad informática propuesto En el capítulo 3, se analiza el problema que presenta la organización, para conocer la situación actual de esta, se desarrolla un análisis de brechas que determinara el cumplimiento actual de los controles de gestión de incidentes de seguridad informática en la organización, del mismo modo se realiza un análisis de riesgo con el fin de determinar las posibles amenazas que pueden materializarse. En el capítulo 4, se desarrolla el modelo de gestión de incidentes de seguridad informática alineado a la ISO/IEC 27035, el cual consta de cinco fases: planeamiento y preparación, detección y reporte, evaluación, respuestas y lecciones aprendidas; para el cumplimiento de estas se establecen actividades y tareas por cada fase. En el capítulo 5, se realiza las pruebas correspondientes a cada objetivo específico y, por último, se brinda conclusiones y recomendaciones del presente proyecto.\n",
      "This project has designed an information security incident management model for a Peruvian government agency based on ISO/IEC 27035 and other international guidelines or standards in order to detect, evaluate, treat and respond appropriately to incidents that may occur in technological systems and components, as they are exposed to threats and vulnerabilities. The project has five chapters. The first part defines the introductory aspects that bring us closer to the reality of the organization, the problem to be solved, and the general objective of this project, which is \"To design an Information Security Incident Management model based on the good practices and guidelines of ISO/IEC 27035 for a Peruvian government agency, to determine the actions required for the effective treatment of incidents to which they are exposed\". The second chapter defines the theoretical framework in which the ISO/IEC 27035 standard is analyzed in depth, in order to know the concepts necessary to understand the proposed computer security incident management model. In chapter 3, the problem presented by the organization is analyzed, in order to know its current situation, a gap analysis is developed to determine the current compliance of the organization's computer security incident management controls, and a risk analysis is performed in order to determine the possible threats that may materialize.  Chapter 4 develops the computer security incident management model aligned with ISO/IEC 27035, which consists of five phases: planning and preparation, detection and reporting, evaluation, response and lessons learned; activities and tasks are established for each phase. In chapter 5, the tests corresponding to each specific objective are carried out and, finally, conclusions and recommendations of this project are provided.\n",
      "Tesis\n",
      "application/pdf\n",
      "application/msword\n",
      "application/epub\n",
      "spa\n",
      "Universidad Peruana de Ciencias Aplicadas (UPC)\n",
      "info:eu-repo/semantics/openAccess\n",
      "Attribution-NonCommercial-ShareAlike 4.0 International\n",
      "http://creativecommons.org/licenses/by-nc-sa/4.0/\n",
      "Universidad Peruana de Ciencias Aplicadas (UPC)\n",
      "Repositorio Académico - UPC\n",
      "Gestión de incidentes\n",
      "Seguridad informática\n",
      "Redes y comunicaciones\n",
      "Incident management\n",
      "Informatic security\n",
      "Communication & Networking\n",
      "Diseño de un modelo de gestión de incidentes de seguridad informática basado en las buenas prácticas y directrices de la ISO/IEC 27035 para un organismo del estado peruano\n",
      "Design of an IT security incident management model based on ISO/IEC 27035 best practices and guidelines for a Peruvian government agency\n",
      "info:eu-repo/semantics/bachelorThesis\n",
      "Universidad Peruana de Ciencias Aplicadas (UPC). División de Estudios Profesionales para Ejecutivos (EPE)\n",
      "Licenciatura\n",
      "Ingeniería de Redes y Comunicaciones\n",
      "Ingeniero de Redes y Comunicaciones\n",
      "División de Estudios Profesionales para Ejecutivos (EPE)\n",
      "2022-06-24T21:03:55Z\n",
      "https://purl.org/pe-repo/ocde/ford#2.00.00\n",
      "https://purl.org/pe-repo/ocde/ford#2.02.04\n",
      "0000 0001 2196 144X\n",
      "https://purl.org/pe-repo/renati/type#tesis\n",
      "https://orcid.org/0000-0002-6105-3371\n",
      "https://purl.org/pe-repo/renati/level#tituloProfesional\n",
      "613046\n",
      "PE\n",
      "Tesis\n",
      "Felices_GS.pdf\n",
      "9.632Mb\n",
      "PDF\n",
      "Felices_GS.docx\n",
      "2092-06-24\n",
      "13.44Mb\n",
      "Microsoft Word 2007\n",
      "Felices_GS_Ficha.pdf\n",
      "2092-06-24\n",
      "1.694Mb\n",
      "PDF\n"
     ]
    }
   ],
   "source": [
    "#código para extraer el contenido de la página\n",
    "url=\"https://repositorioacademico.upc.edu.pe:/handle/10757/660192?show=full\"\n",
    "html=requests.get(url)\n",
    "content=html.content\n",
    "soup=bs(content,\"lxml\")\n",
    "data=soup.find(class_=\"ds-static-div primary\")\n",
    "info=data.find_all(class_=\"word-break\")\n",
    "for linea in info:\n",
    "    contenido=linea.text\n",
    "    print(contenido)"
   ]
  },
  {
   "cell_type": "markdown",
   "id": "832ed729",
   "metadata": {},
   "source": [
    "### _Universidad_"
   ]
  },
  {
   "cell_type": "code",
   "execution_count": 20,
   "id": "b282e06d",
   "metadata": {},
   "outputs": [
    {
     "name": "stdout",
     "output_type": "stream",
     "text": [
      "Universidad Peruana de Ciencias Aplicadas (UPC)\n"
     ]
    }
   ],
   "source": [
    "#extraemos el nombre de la universidad \n",
    "url=\"https://repositorioacademico.upc.edu.pe:/handle/10757/660192?show=full\"\n",
    "html=requests.get(url)\n",
    "content=html.content\n",
    "soup=bs(content,\"lxml\")\n",
    "data=soup.find(class_=\"ds-static-div primary\")\n",
    "universidad=data.find_all(class_=\"word-break\")[13].text\n",
    "print(universidad)"
   ]
  },
  {
   "cell_type": "markdown",
   "id": "8f30b13c",
   "metadata": {},
   "source": [
    "### _Título de la tesis_"
   ]
  },
  {
   "cell_type": "code",
   "execution_count": 19,
   "id": "cc74314a",
   "metadata": {},
   "outputs": [
    {
     "name": "stdout",
     "output_type": "stream",
     "text": [
      "Diseño de un modelo de gestión de incidentes de seguridad informática basado en las buenas prácticas y directrices de la ISO/IEC 27035 para un organismo del estado peruano\n"
     ]
    }
   ],
   "source": [
    "#Codigo para la extracción de el titulo de la tesis\n",
    "url=\"https://repositorioacademico.upc.edu.pe:/handle/10757/660192?show=full\"\n",
    "html=requests.get(url)\n",
    "content=html.content\n",
    "soup=bs(content,\"lxml\")\n",
    "data=soup.find(class_=\"ds-static-div primary\")\n",
    "titulo=data.find_all(class_=\"word-break\")[25].text\n",
    "print(titulo)"
   ]
  },
  {
   "cell_type": "markdown",
   "id": "c15e83de",
   "metadata": {},
   "source": [
    "### _Nombre del tesista_"
   ]
  },
  {
   "cell_type": "code",
   "execution_count": 21,
   "id": "1212c9f1",
   "metadata": {},
   "outputs": [
    {
     "name": "stdout",
     "output_type": "stream",
     "text": [
      "Felices Gomez, Sandi Madeleine\n"
     ]
    }
   ],
   "source": [
    "#Extraemos el nombre del o los tesistas\n",
    "url=\"https://repositorioacademico.upc.edu.pe:/handle/10757/660192?show=full\"\n",
    "html=requests.get(url)\n",
    "content=html.content\n",
    "soup=bs(content,\"lxml\")\n",
    "data=soup.find(class_=\"ds-static-div primary\")\n",
    "nombre_tesista=data.find_all(class_=\"word-break\")[1].text\n",
    "print(nombre_tesista)"
   ]
  },
  {
   "cell_type": "markdown",
   "id": "c7dea3bc",
   "metadata": {},
   "source": [
    "### _Grado_ "
   ]
  },
  {
   "cell_type": "code",
   "execution_count": 39,
   "id": "ac78b6ea",
   "metadata": {},
   "outputs": [
    {
     "name": "stdout",
     "output_type": "stream",
     "text": [
      "Para obtener el grado de: Licenciatura en Ingeniería de Redes y Comunicaciones\n"
     ]
    }
   ],
   "source": [
    "#Codigo para  extraer e unir el grado y la carrera de la misma\n",
    "url=\"https://repositorioacademico.upc.edu.pe:/handle/10757/660192?show=full\"\n",
    "html=requests.get(url)\n",
    "content=html.content\n",
    "soup=bs(content,\"lxml\")\n",
    "data=soup.find(class_=\"ds-static-div primary\")\n",
    "grado=data.find_all(class_=\"word-break\")[29].text\n",
    "profesion=data.find_all(class_=\"word-break\")[30].text\n",
    "print(\"Para obtener el grado de:\", grado ,\"en\", profesion)"
   ]
  },
  {
   "cell_type": "markdown",
   "id": "31e09466",
   "metadata": {},
   "source": [
    "### _Nombre del asesor_"
   ]
  },
  {
   "cell_type": "code",
   "execution_count": 23,
   "id": "7075c1ab",
   "metadata": {},
   "outputs": [
    {
     "name": "stdout",
     "output_type": "stream",
     "text": [
      "Flores Solís, Fernando Rolyn\n"
     ]
    }
   ],
   "source": [
    "#Obtenemos en o los nombres de los asesores\n",
    "url=\"https://repositorioacademico.upc.edu.pe:/handle/10757/660192?show=full\"\n",
    "html=requests.get(url)\n",
    "content=html.content\n",
    "soup=bs(content,\"lxml\")\n",
    "data=soup.find(class_=\"ds-static-div primary\")\n",
    "asesor=data.find_all(class_=\"word-break\")[0].text\n",
    "print(asesor)"
   ]
  },
  {
   "cell_type": "markdown",
   "id": "e1aa7686",
   "metadata": {},
   "source": [
    "### _Resumen_"
   ]
  },
  {
   "cell_type": "code",
   "execution_count": 25,
   "id": "14b15566",
   "metadata": {},
   "outputs": [
    {
     "name": "stdout",
     "output_type": "stream",
     "text": [
      "En el presente proyecto se ha diseñado un modelo de gestión de incidentes de seguridad informática para un organismo del estado peruano en base a la norma ISO/IEC 27035 y otros lineamientos o estándares internacionales con el fin de detectar, evaluar, tratar y responder adecuadamente los incidentes que puedan presentar los sistemas y componentes tecnológicos, ya que se encuentran expuestos a amenazas y vulnerabilidades. El proyecto cuenta con cinco capítulos, en la primera parte se definen los aspectos introductorios que nos acerca a la realidad de la organización, la problemática, el problema a resolver, y el objetivo general que busca este proyecto que es “Diseñar un modelo de Gestión de incidentes de Seguridad Informática basado en las buenas prácticas y directrices de la ISO/IEC 27035 para un organismo del estado peruano, que permita determinar las acciones requeridas para el tratamiento efectivo de los incidentes a los que se encuentran expuestos”. En el segundo capítulo se define el marco teórico en el que se analiza la norma ISO/IEC 27035 en profundidad, con el fin de conocer los conceptos necesarios para comprender el modelo de gestión de incidentes de seguridad informática propuesto En el capítulo 3, se analiza el problema que presenta la organización, para conocer la situación actual de esta, se desarrolla un análisis de brechas que determinara el cumplimiento actual de los controles de gestión de incidentes de seguridad informática en la organización, del mismo modo se realiza un análisis de riesgo con el fin de determinar las posibles amenazas que pueden materializarse. En el capítulo 4, se desarrolla el modelo de gestión de incidentes de seguridad informática alineado a la ISO/IEC 27035, el cual consta de cinco fases: planeamiento y preparación, detección y reporte, evaluación, respuestas y lecciones aprendidas; para el cumplimiento de estas se establecen actividades y tareas por cada fase. En el capítulo 5, se realiza las pruebas correspondientes a cada objetivo específico y, por último, se brinda conclusiones y recomendaciones del presente proyecto.\n"
     ]
    }
   ],
   "source": [
    "#Se obtiene el resumen de la tesis\n",
    "url=\"https://repositorioacademico.upc.edu.pe:/handle/10757/660192?show=full\"\n",
    "html=requests.get(url)\n",
    "content=html.content\n",
    "soup=bs(content,\"lxml\")\n",
    "data=soup.find(class_=\"ds-static-div primary\")\n",
    "resumen=data.find_all(class_=\"word-break\")[6].text\n",
    "print(resumen)"
   ]
  },
  {
   "cell_type": "markdown",
   "id": "f535f9c2",
   "metadata": {},
   "source": [
    "### _Fecha de tesis_"
   ]
  },
  {
   "cell_type": "code",
   "execution_count": 27,
   "id": "59b5d5d7",
   "metadata": {},
   "outputs": [
    {
     "name": "stdout",
     "output_type": "stream",
     "text": [
      "2022-03-05\n"
     ]
    }
   ],
   "source": [
    "#Fecha de cuando de emitio la tesis\n",
    "url=\"https://repositorioacademico.upc.edu.pe:/handle/10757/660192?show=full\"\n",
    "html=requests.get(url)\n",
    "content=html.content\n",
    "soup=bs(content,\"lxml\")\n",
    "data=soup.find(class_=\"ds-static-div primary\")\n",
    "fecha_emitida=data.find_all(class_=\"word-break\")[4].text\n",
    "print(fecha_emitida)"
   ]
  },
  {
   "cell_type": "markdown",
   "id": "fe5b96f7",
   "metadata": {},
   "source": [
    "### <span style=\"color:red\"> _Agrupando la información del tesista 1_ </span><p style=\"color:red;\">"
   ]
  },
  {
   "cell_type": "code",
   "execution_count": 52,
   "id": "daecab70",
   "metadata": {},
   "outputs": [
    {
     "name": "stdout",
     "output_type": "stream",
     "text": [
      "Universidad: Universidad Peruana de Ciencias Aplicadas (UPC)\n",
      "\n",
      "Título de la tesis: Diseño de un modelo de gestión de incidentes de seguridad informática basado en las buenas prácticas y directrices de la ISO/IEC 27035 para un organismo del estado peruano\n",
      "\n",
      "Nombre del tesista: Felices Gomez, Sandi Madeleine\n",
      "\n",
      "Grado: Para obtener el grado de Licenciatura en Ingeniería de Redes y Comunicaciones\n",
      "\n",
      "Asesor: Flores Solís, Fernando Rolyn\n",
      "\n",
      "Resumen: En el presente proyecto se ha diseñado un modelo de gestión de incidentes de seguridad informática para un organismo del estado peruano en base a la norma ISO/IEC 27035 y otros lineamientos o estándares internacionales con el fin de detectar, evaluar, tratar y responder adecuadamente los incidentes que puedan presentar los sistemas y componentes tecnológicos, ya que se encuentran expuestos a amenazas y vulnerabilidades. El proyecto cuenta con cinco capítulos, en la primera parte se definen los aspectos introductorios que nos acerca a la realidad de la organización, la problemática, el problema a resolver, y el objetivo general que busca este proyecto que es “Diseñar un modelo de Gestión de incidentes de Seguridad Informática basado en las buenas prácticas y directrices de la ISO/IEC 27035 para un organismo del estado peruano, que permita determinar las acciones requeridas para el tratamiento efectivo de los incidentes a los que se encuentran expuestos”. En el segundo capítulo se define el marco teórico en el que se analiza la norma ISO/IEC 27035 en profundidad, con el fin de conocer los conceptos necesarios para comprender el modelo de gestión de incidentes de seguridad informática propuesto En el capítulo 3, se analiza el problema que presenta la organización, para conocer la situación actual de esta, se desarrolla un análisis de brechas que determinara el cumplimiento actual de los controles de gestión de incidentes de seguridad informática en la organización, del mismo modo se realiza un análisis de riesgo con el fin de determinar las posibles amenazas que pueden materializarse. En el capítulo 4, se desarrolla el modelo de gestión de incidentes de seguridad informática alineado a la ISO/IEC 27035, el cual consta de cinco fases: planeamiento y preparación, detección y reporte, evaluación, respuestas y lecciones aprendidas; para el cumplimiento de estas se establecen actividades y tareas por cada fase. En el capítulo 5, se realiza las pruebas correspondientes a cada objetivo específico y, por último, se brinda conclusiones y recomendaciones del presente proyecto.\n",
      "\n",
      "Fecha emitida: 2022-03-05\n"
     ]
    }
   ],
   "source": [
    "#Conjunto de los print agrupado para que nos agrupe la informacion\n",
    "print(\"Universidad:\" , universidad)\n",
    "print(\"\")\n",
    "print(\"Título de la tesis:\" , titulo)\n",
    "print(\"\")\n",
    "print(\"Nombre del tesista:\" , nombre_tesista)\n",
    "print(\"\")\n",
    "print(\"Grado:\", \"Para obtener el grado de\", grado ,\"en\", profesion)\n",
    "print(\"\")\n",
    "print(\"Asesor:\", asesor)\n",
    "print(\"\")\n",
    "print(\"Resumen:\", resumen)\n",
    "print(\"\")\n",
    "print(\"Fecha emitida:\", fecha_emitida)"
   ]
  },
  {
   "cell_type": "code",
   "execution_count": 53,
   "id": "dcc9bfa9",
   "metadata": {},
   "outputs": [
    {
     "data": {
      "text/html": [
       "<div>\n",
       "<style scoped>\n",
       "    .dataframe tbody tr th:only-of-type {\n",
       "        vertical-align: middle;\n",
       "    }\n",
       "\n",
       "    .dataframe tbody tr th {\n",
       "        vertical-align: top;\n",
       "    }\n",
       "\n",
       "    .dataframe thead th {\n",
       "        text-align: right;\n",
       "    }\n",
       "</style>\n",
       "<table border=\"1\" class=\"dataframe\">\n",
       "  <thead>\n",
       "    <tr style=\"text-align: right;\">\n",
       "      <th></th>\n",
       "      <th>Estructura</th>\n",
       "      <th>Datos</th>\n",
       "    </tr>\n",
       "  </thead>\n",
       "  <tbody>\n",
       "    <tr>\n",
       "      <th>0</th>\n",
       "      <td>Universidad</td>\n",
       "      <td>Universidad Peruana de Ciencias Aplicadas (UPC)</td>\n",
       "    </tr>\n",
       "    <tr>\n",
       "      <th>1</th>\n",
       "      <td>Título</td>\n",
       "      <td>Diseño de un modelo de gestión de incidentes d...</td>\n",
       "    </tr>\n",
       "    <tr>\n",
       "      <th>2</th>\n",
       "      <td>Nombre de tesista</td>\n",
       "      <td>Felices Gomez, Sandi Madeleine</td>\n",
       "    </tr>\n",
       "    <tr>\n",
       "      <th>3</th>\n",
       "      <td>Grado</td>\n",
       "      <td>Licenciatura Ingeniería de Redes y Comunicaciones</td>\n",
       "    </tr>\n",
       "    <tr>\n",
       "      <th>4</th>\n",
       "      <td>Asesor</td>\n",
       "      <td>Flores Solís, Fernando Rolyn</td>\n",
       "    </tr>\n",
       "    <tr>\n",
       "      <th>5</th>\n",
       "      <td>Resumen</td>\n",
       "      <td>En el presente proyecto se ha diseñado un mode...</td>\n",
       "    </tr>\n",
       "    <tr>\n",
       "      <th>6</th>\n",
       "      <td>Fecha emitida</td>\n",
       "      <td>2022-03-05</td>\n",
       "    </tr>\n",
       "  </tbody>\n",
       "</table>\n",
       "</div>"
      ],
      "text/plain": [
       "          Estructura                                              Datos\n",
       "0        Universidad    Universidad Peruana de Ciencias Aplicadas (UPC)\n",
       "1             Título  Diseño de un modelo de gestión de incidentes d...\n",
       "2  Nombre de tesista                     Felices Gomez, Sandi Madeleine\n",
       "3              Grado  Licenciatura Ingeniería de Redes y Comunicaciones\n",
       "4             Asesor                       Flores Solís, Fernando Rolyn\n",
       "5            Resumen  En el presente proyecto se ha diseñado un mode...\n",
       "6      Fecha emitida                                         2022-03-05"
      ]
     },
     "execution_count": 53,
     "metadata": {},
     "output_type": "execute_result"
    }
   ],
   "source": [
    "#Creando data frame y adjuntando los datos obtenidos\n",
    "df=pd.DataFrame()\n",
    "df['Estructura']= [\"Universidad\",\"Título\",\"Nombre de tesista\",\"Grado\",\"Asesor\",\"Resumen\",\"Fecha emitida\"]\n",
    "df['Datos']=[universidad,titulo,nombre_tesista,grado + \" \" + profesion,asesor,resumen,fecha_emitida]\n",
    "df"
   ]
  },
  {
   "cell_type": "code",
   "execution_count": 54,
   "id": "bd010b79",
   "metadata": {},
   "outputs": [],
   "source": [
    "#Adjuntamos los datos del data frame y lo almacenamos y se descarga en csv\n",
    "tesis_1x = df.to_csv('Tesis_Sandi_Felices.csv', encoding = 'ANSI',index = False)"
   ]
  }
 ],
 "metadata": {
  "kernelspec": {
   "display_name": "Python 3 (ipykernel)",
   "language": "python",
   "name": "python3"
  },
  "language_info": {
   "codemirror_mode": {
    "name": "ipython",
    "version": 3
   },
   "file_extension": ".py",
   "mimetype": "text/x-python",
   "name": "python",
   "nbconvert_exporter": "python",
   "pygments_lexer": "ipython3",
   "version": "3.9.12"
  }
 },
 "nbformat": 4,
 "nbformat_minor": 5
}
