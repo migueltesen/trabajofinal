{
 "cells": [
  {
   "cell_type": "markdown",
   "id": "0a3b7c7b",
   "metadata": {},
   "source": [
    "# <center><b><span style=\"color:red\">Universidad Peruana de Ciencias Aplicadas</span></b></center>  \n",
    "<p style=\"color:red;\">"
   ]
  },
  {
   "cell_type": "markdown",
   "id": "5811da50",
   "metadata": {},
   "source": [
    "<br><center>[![RLS](https://upload.wikimedia.org/wikipedia/commons/f/fc/UPC_logo_transparente.png)](https://www.youtube.com/watch?v=jhY81V5Bg8g)</center></br>"
   ]
  },
  {
   "cell_type": "markdown",
   "id": "4ecf8080",
   "metadata": {},
   "source": [
    "En 1997 se creó la Escuela de Empresa de la UPC, que hoy se conoce como la Escuela de Postgrado de la UPC, para ofrecer cursos de postgrado y de especialización profesional. También se crea el primer Congreso Nacional de Educadores, hoy llamado Congreso Internacional de Educadores. En septiembre de 2004 la universidad se incorpora a la red de instituciones académicas privadas Laureate International Universities. \n",
    "En 2010, la UPC realiza la primera edición del \"Premio Protagonistas del Cambio UPC\" ahora \"Programa Protagonistas del Cambio\". En 2011 se inaugura el campus San Isidro. Al año siguiente se inaugura el campus Villa, y en 2015, se inaugura el campus San Miguel.\n",
    "En 2016, la UPC firmó acuerdo de cooperación académica con el Columbia Instituto ."
   ]
  },
  {
   "cell_type": "markdown",
   "id": "35448a36",
   "metadata": {},
   "source": [
    "## Misión"
   ]
  },
  {
   "cell_type": "markdown",
   "id": "555a2c14",
   "metadata": {},
   "source": [
    "Formar líderes íntegros e innovadores con visión global para que transformen el Perú."
   ]
  },
  {
   "cell_type": "markdown",
   "id": "8d421863",
   "metadata": {},
   "source": [
    "## Visión"
   ]
  },
  {
   "cell_type": "markdown",
   "id": "e4230f76",
   "metadata": {},
   "source": [
    "Ser líder en la educación superior por su excelencia académica y su capacidad de innovación."
   ]
  },
  {
   "cell_type": "code",
   "execution_count": null,
   "id": "3d086657",
   "metadata": {},
   "outputs": [],
   "source": []
  }
 ],
 "metadata": {
  "kernelspec": {
   "display_name": "Python 3 (ipykernel)",
   "language": "python",
   "name": "python3"
  },
  "language_info": {
   "codemirror_mode": {
    "name": "ipython",
    "version": 3
   },
   "file_extension": ".py",
   "mimetype": "text/x-python",
   "name": "python",
   "nbconvert_exporter": "python",
   "pygments_lexer": "ipython3",
   "version": "3.9.12"
  }
 },
 "nbformat": 4,
 "nbformat_minor": 5
}
