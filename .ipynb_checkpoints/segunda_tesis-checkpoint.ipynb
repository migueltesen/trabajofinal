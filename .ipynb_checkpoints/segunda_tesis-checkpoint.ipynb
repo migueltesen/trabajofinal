{
 "cells": [
  {
   "cell_type": "code",
   "execution_count": 2,
   "id": "f0f804ce",
   "metadata": {},
   "outputs": [],
   "source": [
    "#cargamos los paquetes\n",
    "import pandas as pd\n",
    "import requests \n",
    "import re \n",
    "from bs4 import BeautifulSoup as bs "
   ]
  },
  {
   "cell_type": "code",
   "execution_count": 3,
   "id": "cb206df1",
   "metadata": {},
   "outputs": [
    {
     "name": "stdout",
     "output_type": "stream",
     "text": [
      "https://tesis.pucp.edu.pe:/repositorio/handle/20.500.12404/4474?show=full\n"
     ]
    }
   ],
   "source": [
    "#obtenemos el link de la pagina\n",
    "url=\"https://tesis.pucp.edu.pe/repositorio/handle/20.500.12404/4474\"\n",
    "html=requests.get(url)\n",
    "content=html.content\n",
    "soup=bs(content,\"lxml\")\n",
    "data=soup.find(\"div\",class_=\"simple-item-view-show-full item-page-field-wrapper table\")\n",
    "link=data.find(\"a\")\n",
    "print(\"https://tesis.pucp.edu.pe:\"+ link[\"href\"])"
   ]
  },
  {
   "cell_type": "code",
   "execution_count": 4,
   "id": "8b350068",
   "metadata": {},
   "outputs": [
    {
     "name": "stdout",
     "output_type": "stream",
     "text": [
      "Valdivieso Serrano, Luis Hilmar\n",
      "Ruíz Arias, Raúl Alberto\n",
      "2013-04-08T21:14:34Z\n",
      "2013-04-08T21:14:34Z\n",
      "2012\n",
      "2013-04-08\n",
      "http://hdl.handle.net/20.500.12404/4474\n",
      "La teoría de la credibilidad provee un conjunto de métodos que permiten a una compañía de seguros ajustar las primas futuras, sobre la base de la experiencia pasada individual e información de toda la  cartera. En este trabajo presentaremos los principales modelos de credibilidad utilizados en la práctica, como lo son los  modelos de Bühlmann (1967), Bühlmann-Straub (1970), Jewell (1975) y Hachemeister (1975), todos ellos analizados en  sus propiedades desde un punto de vista geométrico a través de la teoría de espacios de Hilbert y en su estimación mediante el uso de los modelos lineales mixtos. Mediante un estudio de simulación se mostrará la ventaja de utilizar este último enfoque de estimación.\n",
      "Tesis\n",
      "spa\n",
      "Pontificia Universidad Católica del Perú\n",
      "Atribución-NoComercial-SinDerivadas 2.5 Perú\n",
      "info:eu-repo/semantics/openAccess\n",
      "http://creativecommons.org/licenses/by-nc-nd/2.5/pe/\n",
      "Estadística bayesiana\n",
      "Espacios de Hilbert\n",
      "Modelos lineales (Estadística)\n",
      "Modelos matemáticos\n",
      "Un enfoque de credibilidad bajo espacios de Hilbert y su estimación mediante modelos lineales mixtos\n",
      "info:eu-repo/semantics/masterThesis\n",
      "Magíster en Estadística\n",
      "Maestría\n",
      "Pontificia Universidad Católica del Perú. Escuela de Posgrado\n",
      "Estadística\n",
      "542037\n",
      "https://purl.org/pe-repo/renati/level#maestro\n",
      "http://purl.org/pe-repo/renati/type#tesis\n",
      "PE\n",
      "https://purl.org/pe-repo/ocde/ford#1.01.03\n",
      "RUIZ_ARIAS_RAUL_CREDIBILIDAD_E ...\n",
      "812.2Kb\n",
      "PDF\n"
     ]
    }
   ],
   "source": [
    "#código para extraer el contenido de la página\n",
    "url=\"https://tesis.pucp.edu.pe/repositorio/handle/20.500.12404/4474?show=full\"\n",
    "html=requests.get(url)\n",
    "content=html.content\n",
    "soup=bs(content,\"lxml\")\n",
    "data=soup.find(class_=\"ds-static-div primary\")\n",
    "info=data.find_all(class_=\"word-break\")\n",
    "for linea in info:\n",
    "    contenido=linea.text\n",
    "    print(contenido)"
   ]
  },
  {
   "cell_type": "code",
   "execution_count": 6,
   "id": "fe671a0a",
   "metadata": {},
   "outputs": [
    {
     "name": "stdout",
     "output_type": "stream",
     "text": [
      "Pontificia Universidad Católica del Perú\n"
     ]
    }
   ],
   "source": [
    "#extraemos el nombre de la universidad \n",
    "url=\"https://tesis.pucp.edu.pe/repositorio/handle/20.500.12404/4474?show=full\"\n",
    "html=requests.get(url)\n",
    "content=html.content\n",
    "soup=bs(content,\"lxml\")\n",
    "data=soup.find(class_=\"ds-static-div primary\")\n",
    "universidad=data.find_all(class_=\"word-break\")[10].text\n",
    "print(universidad)"
   ]
  },
  {
   "cell_type": "code",
   "execution_count": null,
   "id": "dc4ee922",
   "metadata": {},
   "outputs": [],
   "source": []
  }
 ],
 "metadata": {
  "kernelspec": {
   "display_name": "Python 3 (ipykernel)",
   "language": "python",
   "name": "python3"
  },
  "language_info": {
   "codemirror_mode": {
    "name": "ipython",
    "version": 3
   },
   "file_extension": ".py",
   "mimetype": "text/x-python",
   "name": "python",
   "nbconvert_exporter": "python",
   "pygments_lexer": "ipython3",
   "version": "3.9.12"
  }
 },
 "nbformat": 4,
 "nbformat_minor": 5
}
