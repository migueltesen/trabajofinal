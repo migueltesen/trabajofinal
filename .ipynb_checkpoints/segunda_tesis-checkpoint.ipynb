{
 "cells": [
  {
   "cell_type": "markdown",
   "id": "b0ad4a29",
   "metadata": {},
   "source": [
    "PONTIFICIA UNIVERSIDAD CATÓLICA DEL PERÚ"
   ]
  },
  {
   "cell_type": "code",
   "execution_count": 2,
   "id": "58760388",
   "metadata": {},
   "outputs": [],
   "source": [
    "#cargamos los paquetes\n",
    "import pandas as pd\n",
    "import requests \n",
    "import re \n",
    "from bs4 import BeautifulSoup as bs "
   ]
  },
  {
   "cell_type": "code",
   "execution_count": 3,
   "id": "fcd4f9f2",
   "metadata": {},
   "outputs": [
    {
     "name": "stdout",
     "output_type": "stream",
     "text": [
      "https://tesis.pucp.edu.pe:/repositorio/handle/20.500.12404/4474?show=full\n"
     ]
    }
   ],
   "source": [
    "#obtenemos el link de la pagina\n",
    "url=\"https://tesis.pucp.edu.pe/repositorio/handle/20.500.12404/4474\"\n",
    "html=requests.get(url)\n",
    "content=html.content\n",
    "soup=bs(content,\"lxml\")\n",
    "data=soup.find(\"div\",class_=\"simple-item-view-show-full item-page-field-wrapper table\")\n",
    "link=data.find(\"a\")\n",
    "print(\"https://tesis.pucp.edu.pe:\"+ link[\"href\"])"
   ]
  },
  {
   "cell_type": "code",
   "execution_count": 4,
   "id": "7e9181e4",
   "metadata": {},
   "outputs": [
    {
     "name": "stdout",
     "output_type": "stream",
     "text": [
      "Valdivieso Serrano, Luis Hilmar\n",
      "Ruíz Arias, Raúl Alberto\n",
      "2013-04-08T21:14:34Z\n",
      "2013-04-08T21:14:34Z\n",
      "2012\n",
      "2013-04-08\n",
      "http://hdl.handle.net/20.500.12404/4474\n",
      "La teoría de la credibilidad provee un conjunto de métodos que permiten a una compañía de seguros ajustar las primas futuras, sobre la base de la experiencia pasada individual e información de toda la  cartera. En este trabajo presentaremos los principales modelos de credibilidad utilizados en la práctica, como lo son los  modelos de Bühlmann (1967), Bühlmann-Straub (1970), Jewell (1975) y Hachemeister (1975), todos ellos analizados en  sus propiedades desde un punto de vista geométrico a través de la teoría de espacios de Hilbert y en su estimación mediante el uso de los modelos lineales mixtos. Mediante un estudio de simulación se mostrará la ventaja de utilizar este último enfoque de estimación.\n",
      "Tesis\n",
      "spa\n",
      "Pontificia Universidad Católica del Perú\n",
      "Atribución-NoComercial-SinDerivadas 2.5 Perú\n",
      "info:eu-repo/semantics/openAccess\n",
      "http://creativecommons.org/licenses/by-nc-nd/2.5/pe/\n",
      "Estadística bayesiana\n",
      "Espacios de Hilbert\n",
      "Modelos lineales (Estadística)\n",
      "Modelos matemáticos\n",
      "Un enfoque de credibilidad bajo espacios de Hilbert y su estimación mediante modelos lineales mixtos\n",
      "info:eu-repo/semantics/masterThesis\n",
      "Magíster en Estadística\n",
      "Maestría\n",
      "Pontificia Universidad Católica del Perú. Escuela de Posgrado\n",
      "Estadística\n",
      "542037\n",
      "https://purl.org/pe-repo/renati/level#maestro\n",
      "http://purl.org/pe-repo/renati/type#tesis\n",
      "PE\n",
      "https://purl.org/pe-repo/ocde/ford#1.01.03\n",
      "RUIZ_ARIAS_RAUL_CREDIBILIDAD_E ...\n",
      "812.2Kb\n",
      "PDF\n"
     ]
    }
   ],
   "source": [
    "#código para extraer el contenido de la página\n",
    "url=\"https://tesis.pucp.edu.pe/repositorio/handle/20.500.12404/4474?show=full\"\n",
    "html=requests.get(url)\n",
    "content=html.content\n",
    "soup=bs(content,\"lxml\")\n",
    "data=soup.find(class_=\"ds-static-div primary\")\n",
    "info=data.find_all(class_=\"word-break\")\n",
    "for linea in info:\n",
    "    contenido=linea.text\n",
    "    print(contenido)"
   ]
  },
  {
   "cell_type": "code",
   "execution_count": 6,
   "id": "60f69fc6",
   "metadata": {},
   "outputs": [
    {
     "name": "stdout",
     "output_type": "stream",
     "text": [
      "Pontificia Universidad Católica del Perú\n"
     ]
    }
   ],
   "source": [
    "#extraemos el nombre de la universidad \n",
    "url=\"https://tesis.pucp.edu.pe/repositorio/handle/20.500.12404/4474?show=full\"\n",
    "html=requests.get(url)\n",
    "content=html.content\n",
    "soup=bs(content,\"lxml\")\n",
    "data=soup.find(class_=\"ds-static-div primary\")\n",
    "universidad=data.find_all(class_=\"word-break\")[10].text\n",
    "print(universidad)"
   ]
  },
  {
   "cell_type": "code",
   "execution_count": 8,
   "id": "96646ab1",
   "metadata": {},
   "outputs": [
    {
     "name": "stdout",
     "output_type": "stream",
     "text": [
      "Un enfoque de credibilidad bajo espacios de Hilbert y su estimación mediante modelos lineales mixtos\n"
     ]
    }
   ],
   "source": [
    "#conseguimos el título de la tesis\n",
    "url=\"https://tesis.pucp.edu.pe/repositorio/handle/20.500.12404/4474?show=ful\"\n",
    "html=requests.get(url)\n",
    "content=html.content\n",
    "soup=bs(content,\"lxml\")\n",
    "data=soup.find(class_=\"ds-static-div primary\")\n",
    "titulo=data.find_all(class_=\"word-break\")[18].text\n",
    "print(titulo)"
   ]
  },
  {
   "cell_type": "code",
   "execution_count": 9,
   "id": "a7309214",
   "metadata": {},
   "outputs": [
    {
     "name": "stdout",
     "output_type": "stream",
     "text": [
      "Ruíz Arias, Raúl Alberto\n"
     ]
    }
   ],
   "source": [
    "#conseguimos el nombre del tesista\n",
    "url=\"https://tesis.pucp.edu.pe/repositorio/handle/20.500.12404/4474?show=ful\"\n",
    "html=requests.get(url)\n",
    "content=html.content\n",
    "soup=bs(content,\"lxml\")\n",
    "data=soup.find(class_=\"ds-static-div primary\")\n",
    "nombre_tesista=data.find_all(class_=\"word-break\")[1].text\n",
    "print(nombre_tesista)"
   ]
  },
  {
   "cell_type": "code",
   "execution_count": 13,
   "id": "dcbc3ab8",
   "metadata": {},
   "outputs": [
    {
     "name": "stdout",
     "output_type": "stream",
     "text": [
      "Magíster en Estadística\n"
     ]
    }
   ],
   "source": [
    "#se realiza para obtener le grado de ....\n",
    "url=\"https://tesis.pucp.edu.pe/repositorio/handle/20.500.12404/4474?show=ful\"\n",
    "html=requests.get(url)\n",
    "content=html.content\n",
    "soup=bs(content,\"lxml\")\n",
    "data=soup.find(class_=\"ds-static-div primary\")\n",
    "grado=data.find_all(class_=\"word-break\")[20].text\n",
    "print(grado)"
   ]
  },
  {
   "cell_type": "code",
   "execution_count": 15,
   "id": "3b5dcaac",
   "metadata": {},
   "outputs": [
    {
     "name": "stdout",
     "output_type": "stream",
     "text": [
      "Estadística\n"
     ]
    }
   ],
   "source": [
    "#extraemos la carrera del tesista\n",
    "url=\"https://tesis.pucp.edu.pe/repositorio/handle/20.500.12404/4474?show=ful\"\n",
    "html=requests.get(url)\n",
    "content=html.content\n",
    "soup=bs(content,\"lxml\")\n",
    "data=soup.find(class_=\"ds-static-div primary\")\n",
    "profesion=data.find_all(class_=\"word-break\")[23].text\n",
    "print(profesion)"
   ]
  },
  {
   "cell_type": "code",
   "execution_count": 16,
   "id": "b51c9d53",
   "metadata": {},
   "outputs": [
    {
     "name": "stdout",
     "output_type": "stream",
     "text": [
      "Valdivieso Serrano, Luis Hilmar\n"
     ]
    }
   ],
   "source": [
    "#extraemos el nombre del asesor \n",
    "url=\"https://tesis.pucp.edu.pe/repositorio/handle/20.500.12404/4474?show=ful\"\n",
    "html=requests.get(url)\n",
    "content=html.content\n",
    "soup=bs(content,\"lxml\")\n",
    "data=soup.find(class_=\"ds-static-div primary\")\n",
    "asesor=data.find_all(class_=\"word-break\")[0].text\n",
    "print(asesor)"
   ]
  },
  {
   "cell_type": "code",
   "execution_count": 17,
   "id": "bbfc4194",
   "metadata": {},
   "outputs": [
    {
     "name": "stdout",
     "output_type": "stream",
     "text": [
      "La teoría de la credibilidad provee un conjunto de métodos que permiten a una compañía de seguros ajustar las primas futuras, sobre la base de la experiencia pasada individual e información de toda la  cartera. En este trabajo presentaremos los principales modelos de credibilidad utilizados en la práctica, como lo son los  modelos de Bühlmann (1967), Bühlmann-Straub (1970), Jewell (1975) y Hachemeister (1975), todos ellos analizados en  sus propiedades desde un punto de vista geométrico a través de la teoría de espacios de Hilbert y en su estimación mediante el uso de los modelos lineales mixtos. Mediante un estudio de simulación se mostrará la ventaja de utilizar este último enfoque de estimación.\n"
     ]
    }
   ],
   "source": [
    "#obtenemos un resumen de la tesis\n",
    "url=\"https://tesis.pucp.edu.pe/repositorio/handle/20.500.12404/4474?show=ful\"\n",
    "html=requests.get(url)\n",
    "content=html.content\n",
    "soup=bs(content,\"lxml\")\n",
    "data=soup.find(class_=\"ds-static-div primary\")\n",
    "resumen=data.find_all(class_=\"word-break\")[7].text\n",
    "print(resumen)"
   ]
  },
  {
   "cell_type": "code",
   "execution_count": 18,
   "id": "040db5cc",
   "metadata": {},
   "outputs": [
    {
     "name": "stdout",
     "output_type": "stream",
     "text": [
      "2012\n"
     ]
    }
   ],
   "source": [
    "#fecha de emsión de la tesis\n",
    "url=\"https://tesis.pucp.edu.pe/repositorio/handle/20.500.12404/4474?show=ful\"\n",
    "html=requests.get(url)\n",
    "content=html.content\n",
    "soup=bs(content,\"lxml\")\n",
    "data=soup.find(class_=\"ds-static-div primary\")\n",
    "fecha_emitida=data.find_all(class_=\"word-break\")[4].text\n",
    "print(fecha_emitida)"
   ]
  },
  {
   "cell_type": "code",
   "execution_count": null,
   "id": "0a159a8b",
   "metadata": {},
   "outputs": [],
   "source": []
  }
 ],
 "metadata": {
  "kernelspec": {
   "display_name": "Python 3 (ipykernel)",
   "language": "python",
   "name": "python3"
  },
  "language_info": {
   "codemirror_mode": {
    "name": "ipython",
    "version": 3
   },
   "file_extension": ".py",
   "mimetype": "text/x-python",
   "name": "python",
   "nbconvert_exporter": "python",
   "pygments_lexer": "ipython3",
   "version": "3.9.12"
  }
 },
 "nbformat": 4,
 "nbformat_minor": 5
}
