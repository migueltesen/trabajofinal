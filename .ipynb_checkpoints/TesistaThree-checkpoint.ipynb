{
 "cells": [
  {
   "cell_type": "markdown",
   "id": "0c98f088",
   "metadata": {},
   "source": [
    "# <center><u><b><span style=\"color:red\">UNIVERSIDAD PERUANA DE CIENCIAS APLICADAS</span></b></u></center>  \n",
    "<p style=\"color:red;\">"
   ]
  },
  {
   "cell_type": "markdown",
   "id": "bb4236e6",
   "metadata": {},
   "source": [
    "<div>\n",
    "<p style = 'text-align:center;'>\n",
    "<img src=\"https://upload.wikimedia.org/wikipedia/commons/f/fc/UPC_logo_transparente.png\" alt=\"JuveYell\" width=\"250px\">\n",
    "</p>\n",
    "</div>"
   ]
  },
  {
   "cell_type": "code",
   "execution_count": null,
   "id": "06028dec",
   "metadata": {},
   "outputs": [],
   "source": []
  }
 ],
 "metadata": {
  "kernelspec": {
   "display_name": "Python 3 (ipykernel)",
   "language": "python",
   "name": "python3"
  },
  "language_info": {
   "codemirror_mode": {
    "name": "ipython",
    "version": 3
   },
   "file_extension": ".py",
   "mimetype": "text/x-python",
   "name": "python",
   "nbconvert_exporter": "python",
   "pygments_lexer": "ipython3",
   "version": "3.9.12"
  }
 },
 "nbformat": 4,
 "nbformat_minor": 5
}
