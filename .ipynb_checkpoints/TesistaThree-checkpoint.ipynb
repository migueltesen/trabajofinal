{
 "cells": [
  {
   "cell_type": "markdown",
   "id": "2da7150d",
   "metadata": {},
   "source": [
    "# <center><u><b><span style=\"color:red\">UNIVERSIDAD PERUANA DE CIENCIAS APLICADAS</span></b></u></center>  \n",
    "<p style=\"color:red;\">"
   ]
  },
  {
   "cell_type": "markdown",
   "id": "895d8a17",
   "metadata": {},
   "source": [
    "<div>\n",
    "<p style = 'text-align:center;'>\n",
    "<img src=\"https://upload.wikimedia.org/wikipedia/commons/f/fc/UPC_logo_transparente.png\" alt=\"JuveYell\" width=\"250px\">\n",
    "</p>\n",
    "</div>"
   ]
  },
  {
   "cell_type": "markdown",
   "id": "bed19d2c",
   "metadata": {},
   "source": [
    "### _Información de la tesis_"
   ]
  },
  {
   "cell_type": "code",
   "execution_count": 1,
   "id": "53048e2c",
   "metadata": {},
   "outputs": [
    {
     "name": "stdout",
     "output_type": "stream",
     "text": [
      "https://repositorioacademico.upc.edu.pe:/handle/10757/625726?show=full\n"
     ]
    }
   ],
   "source": [
    "#Cargando los paquetes y obtenemos el link de la pagina\n",
    "import pandas as pd\n",
    "import requests \n",
    "import re \n",
    "from bs4 import BeautifulSoup as bs \n",
    "url=\"https://repositorioacademico.upc.edu.pe/handle/10757/625726\"\n",
    "html=requests.get(url)\n",
    "content=html.content\n",
    "soup=bs(content,\"lxml\")\n",
    "data=soup.find(\"div\",class_=\"simple-item-view-show-full item-page-field-wrapper table\")\n",
    "link=data.find(\"a\")\n",
    "print(\"https://repositorioacademico.upc.edu.pe:\"+ link[\"href\"])"
   ]
  },
  {
   "cell_type": "code",
   "execution_count": 2,
   "id": "1e879692",
   "metadata": {},
   "outputs": [
    {
     "name": "stdout",
     "output_type": "stream",
     "text": [
      "Seminario García, Hernán Augusto\n",
      "Ochoa Palomino, Angel\n",
      "2019-05-21T23:20:07Z\n",
      "2019-05-21T23:20:07Z\n",
      "2019-04-03\n",
      "[1] O. Palomino, “Diseño de una Red de Seguridad Informática para la Protección del Sistema Web de un Call Center ante Ataques Informáticos Aplicando la Norma ISO 27033,” Universidad Peruana de Ciencias Aplicadas(UPC)., Lima, Perú, 2019. Doi:http://doi.org/10.19083/tesis/625726\n",
      "10.19083/tesis/625726\n",
      "http://hdl.handle.net/10757/625726\n",
      "El presente trabajo de investigación presenta el Diseño de una Red de Seguridad Informática para la protección del Sistema Web del Call Center que ha estado bajo ataques informáticos con el objetivo de aumentar la disponibilidad del sistema.\r\n",
      "Asimismo, se apunta a reducir las vulnerabilidades tecnológicas a las que está expuesta la empresa y, finalmente, a implementar una mejora sustancial en la red de datos del Call Center.\r\n",
      "El principal instrumento utilizado para elaborar las medidas que permitan aumentar el nivel de seguridad de la empresa estudiada ha sido la norma ISO 27033 basada en recomendaciones, gestión de riesgos y que puede afianzarse con otras normas. \r\n",
      "Cabe mencionar, que el modelo puede aplicarse a cualquier empresa sea o no del mismo ámbito comercial. \r\n",
      "También, presentamos los costos de los elementos sugeridos para mejorar la situación del Call Center y una metodología desarrollada para determinar los tiempos con una precisión del 95.46% que servirán como guía en caso se quiera implementar el proyecto.\n",
      "The present research work presents the design of a secure network based on Security Information concepts for the protection of a Web System of the Call Center that has been under computer attacks with the aim of increasing the availability of the system.\r\n",
      "Likewise, it aims to reduce the technological vulnerabilities that the company is exposed and, finally, to implement a substantial improvement in the data network infrastructure Call Center.\r\n",
      "The main instrument used to develop the measures to increase the level of safety of the company studied is the ISO 27033 standard based on recommendations, risk management and that can be established with other standards.\r\n",
      "It is worth mentioning that the model can be applied to any company, whether it is in the same commercial area or not.\r\n",
      "Also, we present the costs of the suggested elements to improve the situation of the Call Center and a methodology developed to determine the times with an accuracy of 95.46% that will serve as a guide in case you want to implement the project.\n",
      "Trabajo de Suficiencia Profesional\n",
      "application/pdf\n",
      "application/epub\n",
      "application/msword\n",
      "spa\n",
      "Universidad Peruana de Ciencias Aplicadas (UPC)\n",
      "info:eu-repo/semantics/openAccess\n",
      "Attribution-NonCommercial-ShareAlike 3.0 United States\n",
      "http://creativecommons.org/licenses/by-nc-sa/3.0/us/\n",
      "Universidad Peruana de Ciencias Aplicadas (UPC)\n",
      "Repositorio Académico - UPC\n",
      "Sistemas electrónicos de seguridad\n",
      "Soluciones Tecnológicas\n",
      "Seguridad de datos\n",
      "Sistemas de información administrativa\n",
      "Administración de proyectos informáticos\n",
      "Normas técnicas\n",
      "Diseño de una Red de Seguridad Informática para la Protección del Sistema Web de un Call Center ante Ataques Informáticos Aplicando la Norma ISO 27033\n",
      "Design of a Computer Security Network for the Protection of the Web System of a Call Center against Computer Attacks Applying ISO 27033\n",
      "info:eu-repo/semantics/bachelorThesis\n",
      "Universidad Peruana de Ciencias Aplicadas (UPC). División de Estudios Profesionales para Ejecutivos (EPE\n",
      "Licenciatura\n",
      "Ingeniería de Redes y Comunicaciones\n",
      "Ingenierío en Redes y Comunicaciones\n",
      "División de Estudios Profesionales para Ejecutivos (EPE\n",
      "2019-05-21T23:20:07Z\n",
      "0000 0001 2196 144X\n",
      "http://purl.org/pe-repo/renati/type#trabajoDeSuficienciaProfesional\n",
      "http://purl.org/pe-repo/renati/nivel#tituloProfesional\n",
      "PE\n",
      "Trabajo de suficiencia profesional\n",
      "ochoa_pa.pdf\n",
      "2.458Mb\n",
      "PDF\n",
      "ochoa_pa.Ficha.pdf\n",
      "2089-04-03\n",
      "77.75Kb\n",
      "PDF\n",
      "ochoa_pa.docx\n",
      "2089-04-03\n",
      "4.853Mb\n",
      "Microsoft Word 2007\n",
      "ochoa_pa.docx\n",
      "2089-04-03\n",
      "4.853Mb\n",
      "Microsoft Word 2007\n"
     ]
    }
   ],
   "source": [
    "#código para extraer el contenido de la página\n",
    "url=\"https://repositorioacademico.upc.edu.pe:/handle/10757/625726?show=full\"\n",
    "html=requests.get(url)\n",
    "content=html.content\n",
    "soup=bs(content,\"lxml\")\n",
    "data=soup.find(class_=\"ds-static-div primary\")\n",
    "info=data.find_all(class_=\"word-break\")\n",
    "for linea in info:\n",
    "    contenido=linea.text\n",
    "    print(contenido)"
   ]
  },
  {
   "cell_type": "markdown",
   "id": "d172ba38",
   "metadata": {},
   "source": [
    "### _Universidad_"
   ]
  },
  {
   "cell_type": "code",
   "execution_count": 5,
   "id": "a43fd9cd",
   "metadata": {},
   "outputs": [
    {
     "name": "stdout",
     "output_type": "stream",
     "text": [
      "Universidad Peruana de Ciencias Aplicadas (UPC)\n"
     ]
    }
   ],
   "source": [
    "#extraemos el nombre de la universidad \n",
    "url=\"https://repositorioacademico.upc.edu.pe:/handle/10757/625726?show=full\"\n",
    "html=requests.get(url)\n",
    "content=html.content\n",
    "soup=bs(content,\"lxml\")\n",
    "data=soup.find(class_=\"ds-static-div primary\")\n",
    "universidad=data.find_all(class_=\"word-break\")[15].text\n",
    "print(universidad)"
   ]
  },
  {
   "cell_type": "markdown",
   "id": "0cee2aac",
   "metadata": {},
   "source": [
    "### _Título de la tesis_"
   ]
  },
  {
   "cell_type": "code",
   "execution_count": 8,
   "id": "cc17de92",
   "metadata": {},
   "outputs": [
    {
     "name": "stdout",
     "output_type": "stream",
     "text": [
      "Diseño de una Red de Seguridad Informática para la Protección del Sistema Web de un Call Center ante Ataques Informáticos Aplicando la Norma ISO 27033\n"
     ]
    }
   ],
   "source": [
    "#Codigo para la extracción de el titulo de la tesis\n",
    "url=\"https://repositorioacademico.upc.edu.pe:/handle/10757/625726?show=full\"\n",
    "html=requests.get(url)\n",
    "content=html.content\n",
    "soup=bs(content,\"lxml\")\n",
    "data=soup.find(class_=\"ds-static-div primary\")\n",
    "titulo=data.find_all(class_=\"word-break\")[27].text\n",
    "print(titulo)"
   ]
  },
  {
   "cell_type": "markdown",
   "id": "b035d5ea",
   "metadata": {},
   "source": [
    "### _Nombre del tesista_"
   ]
  },
  {
   "cell_type": "code",
   "execution_count": 10,
   "id": "8e839a56",
   "metadata": {},
   "outputs": [
    {
     "name": "stdout",
     "output_type": "stream",
     "text": [
      "Ochoa Palomino, Angel\n"
     ]
    }
   ],
   "source": [
    "#Extraemos el nombre del o los tesistas\n",
    "url=\"https://repositorioacademico.upc.edu.pe:/handle/10757/625726?show=full\"\n",
    "html=requests.get(url)\n",
    "content=html.content\n",
    "soup=bs(content,\"lxml\")\n",
    "data=soup.find(class_=\"ds-static-div primary\")\n",
    "nombre_tesista=data.find_all(class_=\"word-break\")[1].text\n",
    "print(nombre_tesista)"
   ]
  },
  {
   "cell_type": "markdown",
   "id": "ac30b4fb",
   "metadata": {},
   "source": [
    "### _Grado_"
   ]
  },
  {
   "cell_type": "code",
   "execution_count": 14,
   "id": "d56bd539",
   "metadata": {},
   "outputs": [
    {
     "name": "stdout",
     "output_type": "stream",
     "text": [
      "Para obtener el grado de: Licenciatura en Ingeniería de Redes y Comunicaciones\n"
     ]
    }
   ],
   "source": [
    "#Codigo para  extraer e unir el grado y la carrera de la misma\n",
    "url=\"https://repositorioacademico.upc.edu.pe:/handle/10757/625726?show=full\"\n",
    "html=requests.get(url)\n",
    "content=html.content\n",
    "soup=bs(content,\"lxml\")\n",
    "data=soup.find(class_=\"ds-static-div primary\")\n",
    "grado=data.find_all(class_=\"word-break\")[31].text\n",
    "profesion=data.find_all(class_=\"word-break\")[32].text\n",
    "print(\"Para obtener el grado de:\", grado ,\"en\", profesion)"
   ]
  },
  {
   "cell_type": "markdown",
   "id": "e1a40385",
   "metadata": {},
   "source": [
    "### _Nombre del asesor_"
   ]
  },
  {
   "cell_type": "code",
   "execution_count": 15,
   "id": "f0d2065d",
   "metadata": {},
   "outputs": [
    {
     "name": "stdout",
     "output_type": "stream",
     "text": [
      "Seminario García, Hernán Augusto\n"
     ]
    }
   ],
   "source": [
    "#Obtenemos en o los nombres de los asesores\n",
    "url=\"https://repositorioacademico.upc.edu.pe:/handle/10757/625726?show=full\"\n",
    "html=requests.get(url)\n",
    "content=html.content\n",
    "soup=bs(content,\"lxml\")\n",
    "data=soup.find(class_=\"ds-static-div primary\")\n",
    "asesor=data.find_all(class_=\"word-break\")[0].text\n",
    "print(asesor)"
   ]
  },
  {
   "cell_type": "markdown",
   "id": "184dc1bf",
   "metadata": {},
   "source": [
    "### _Resumen_"
   ]
  },
  {
   "cell_type": "code",
   "execution_count": 17,
   "id": "b49762b7",
   "metadata": {},
   "outputs": [
    {
     "name": "stdout",
     "output_type": "stream",
     "text": [
      "El presente trabajo de investigación presenta el Diseño de una Red de Seguridad Informática para la protección del Sistema Web del Call Center que ha estado bajo ataques informáticos con el objetivo de aumentar la disponibilidad del sistema.\r\n",
      "Asimismo, se apunta a reducir las vulnerabilidades tecnológicas a las que está expuesta la empresa y, finalmente, a implementar una mejora sustancial en la red de datos del Call Center.\r\n",
      "El principal instrumento utilizado para elaborar las medidas que permitan aumentar el nivel de seguridad de la empresa estudiada ha sido la norma ISO 27033 basada en recomendaciones, gestión de riesgos y que puede afianzarse con otras normas. \r\n",
      "Cabe mencionar, que el modelo puede aplicarse a cualquier empresa sea o no del mismo ámbito comercial. \r\n",
      "También, presentamos los costos de los elementos sugeridos para mejorar la situación del Call Center y una metodología desarrollada para determinar los tiempos con una precisión del 95.46% que servirán como guía en caso se quiera implementar el proyecto.\n"
     ]
    }
   ],
   "source": [
    "#Se obtiene el resumen de la tesis\n",
    "url=\"https://repositorioacademico.upc.edu.pe:/handle/10757/625726?show=full\"\n",
    "html=requests.get(url)\n",
    "content=html.content\n",
    "soup=bs(content,\"lxml\")\n",
    "data=soup.find(class_=\"ds-static-div primary\")\n",
    "resumen=data.find_all(class_=\"word-break\")[8].text\n",
    "print(resumen)"
   ]
  },
  {
   "cell_type": "markdown",
   "id": "b80bf639",
   "metadata": {},
   "source": [
    "### _Fecha de tesis_"
   ]
  },
  {
   "cell_type": "code",
   "execution_count": 18,
   "id": "06b09fa5",
   "metadata": {},
   "outputs": [
    {
     "name": "stdout",
     "output_type": "stream",
     "text": [
      "2019-04-03\n"
     ]
    }
   ],
   "source": [
    "#Fecha de cuando de emitio la tesis\n",
    "url=\"https://repositorioacademico.upc.edu.pe:/handle/10757/625726?show=full\"\n",
    "html=requests.get(url)\n",
    "content=html.content\n",
    "soup=bs(content,\"lxml\")\n",
    "data=soup.find(class_=\"ds-static-div primary\")\n",
    "fecha_emitida=data.find_all(class_=\"word-break\")[4].text\n",
    "print(fecha_emitida)"
   ]
  },
  {
   "cell_type": "markdown",
   "id": "52dc2e9d",
   "metadata": {},
   "source": [
    "### <span style=\"color:red\"> _Agrupando la información del tesista 3_ </span><p style=\"color:red;\">"
   ]
  },
  {
   "cell_type": "code",
   "execution_count": 19,
   "id": "a51597b7",
   "metadata": {},
   "outputs": [
    {
     "name": "stdout",
     "output_type": "stream",
     "text": [
      "Universidad: Universidad Peruana de Ciencias Aplicadas (UPC)\n",
      "\n",
      "Título de la tesis: Diseño de una Red de Seguridad Informática para la Protección del Sistema Web de un Call Center ante Ataques Informáticos Aplicando la Norma ISO 27033\n",
      "\n",
      "Nombre del tesista: Ochoa Palomino, Angel\n",
      "\n",
      "Grado: Para obtener el grado de Licenciatura en Ingeniería de Redes y Comunicaciones\n",
      "\n",
      "Asesor: Seminario García, Hernán Augusto\n",
      "\n",
      "Resumen: El presente trabajo de investigación presenta el Diseño de una Red de Seguridad Informática para la protección del Sistema Web del Call Center que ha estado bajo ataques informáticos con el objetivo de aumentar la disponibilidad del sistema.\r\n",
      "Asimismo, se apunta a reducir las vulnerabilidades tecnológicas a las que está expuesta la empresa y, finalmente, a implementar una mejora sustancial en la red de datos del Call Center.\r\n",
      "El principal instrumento utilizado para elaborar las medidas que permitan aumentar el nivel de seguridad de la empresa estudiada ha sido la norma ISO 27033 basada en recomendaciones, gestión de riesgos y que puede afianzarse con otras normas. \r\n",
      "Cabe mencionar, que el modelo puede aplicarse a cualquier empresa sea o no del mismo ámbito comercial. \r\n",
      "También, presentamos los costos de los elementos sugeridos para mejorar la situación del Call Center y una metodología desarrollada para determinar los tiempos con una precisión del 95.46% que servirán como guía en caso se quiera implementar el proyecto.\n",
      "\n",
      "Fecha emitida: 2019-04-03\n"
     ]
    }
   ],
   "source": [
    "#Conjunto de los print agrupado para que nos agrupe la informacion\n",
    "print(\"Universidad:\" , universidad)\n",
    "print(\"\")\n",
    "print(\"Título de la tesis:\" , titulo)\n",
    "print(\"\")\n",
    "print(\"Nombre del tesista:\" , nombre_tesista)\n",
    "print(\"\")\n",
    "print(\"Grado:\", \"Para obtener el grado de\", grado ,\"en\", profesion)\n",
    "print(\"\")\n",
    "print(\"Asesor:\", asesor)\n",
    "print(\"\")\n",
    "print(\"Resumen:\", resumen)\n",
    "print(\"\")\n",
    "print(\"Fecha emitida:\", fecha_emitida)"
   ]
  },
  {
   "cell_type": "code",
   "execution_count": 25,
   "id": "1678a535",
   "metadata": {},
   "outputs": [
    {
     "data": {
      "text/html": [
       "<div>\n",
       "<style scoped>\n",
       "    .dataframe tbody tr th:only-of-type {\n",
       "        vertical-align: middle;\n",
       "    }\n",
       "\n",
       "    .dataframe tbody tr th {\n",
       "        vertical-align: top;\n",
       "    }\n",
       "\n",
       "    .dataframe thead th {\n",
       "        text-align: right;\n",
       "    }\n",
       "</style>\n",
       "<table border=\"1\" class=\"dataframe\">\n",
       "  <thead>\n",
       "    <tr style=\"text-align: right;\">\n",
       "      <th></th>\n",
       "      <th>Estructura</th>\n",
       "      <th>Datos</th>\n",
       "    </tr>\n",
       "  </thead>\n",
       "  <tbody>\n",
       "    <tr>\n",
       "      <th>0</th>\n",
       "      <td>Universidad</td>\n",
       "      <td>Universidad Peruana de Ciencias Aplicadas (UPC)</td>\n",
       "    </tr>\n",
       "    <tr>\n",
       "      <th>1</th>\n",
       "      <td>Título</td>\n",
       "      <td>Diseño de una Red de Seguridad Informática par...</td>\n",
       "    </tr>\n",
       "    <tr>\n",
       "      <th>2</th>\n",
       "      <td>Nombre de tesista</td>\n",
       "      <td>Ochoa Palomino, Angel</td>\n",
       "    </tr>\n",
       "    <tr>\n",
       "      <th>3</th>\n",
       "      <td>Grado</td>\n",
       "      <td>Licenciatura Ingeniería de Redes y Comunicaciones</td>\n",
       "    </tr>\n",
       "    <tr>\n",
       "      <th>4</th>\n",
       "      <td>Asesor</td>\n",
       "      <td>Seminario García, Hernán Augusto</td>\n",
       "    </tr>\n",
       "    <tr>\n",
       "      <th>5</th>\n",
       "      <td>Resumen</td>\n",
       "      <td>El presente trabajo de investigación presenta ...</td>\n",
       "    </tr>\n",
       "    <tr>\n",
       "      <th>6</th>\n",
       "      <td>Fecha emitida</td>\n",
       "      <td>2019-04-03</td>\n",
       "    </tr>\n",
       "  </tbody>\n",
       "</table>\n",
       "</div>"
      ],
      "text/plain": [
       "          Estructura                                              Datos\n",
       "0        Universidad    Universidad Peruana de Ciencias Aplicadas (UPC)\n",
       "1             Título  Diseño de una Red de Seguridad Informática par...\n",
       "2  Nombre de tesista                              Ochoa Palomino, Angel\n",
       "3              Grado  Licenciatura Ingeniería de Redes y Comunicaciones\n",
       "4             Asesor                   Seminario García, Hernán Augusto\n",
       "5            Resumen  El presente trabajo de investigación presenta ...\n",
       "6      Fecha emitida                                         2019-04-03"
      ]
     },
     "execution_count": 25,
     "metadata": {},
     "output_type": "execute_result"
    }
   ],
   "source": [
    "#Creando data frame y adjuntando los datos obtenidos\n",
    "df=pd.DataFrame()\n",
    "df['Estructura']= [\"Universidad\",\"Título\",\"Nombre de tesista\",\"Grado\",\"Asesor\",\"Resumen\",\"Fecha emitida\"]\n",
    "df['Datos']=[universidad,titulo,nombre_tesista,grado + \" \" + profesion,asesor,resumen,fecha_emitida]\n",
    "df"
   ]
  },
  {
   "cell_type": "code",
   "execution_count": 26,
   "id": "92dfe00d",
   "metadata": {},
   "outputs": [],
   "source": [
    "#Adjuntamos los datos del data frame y lo almacenamos y se descarga en csv\n",
    "tesis_3x = df.to_csv('Tesis_Angel_Ochoa.csv', encoding = 'ANSI',index = False)"
   ]
  }
 ],
 "metadata": {
  "kernelspec": {
   "display_name": "Python 3 (ipykernel)",
   "language": "python",
   "name": "python3"
  },
  "language_info": {
   "codemirror_mode": {
    "name": "ipython",
    "version": 3
   },
   "file_extension": ".py",
   "mimetype": "text/x-python",
   "name": "python",
   "nbconvert_exporter": "python",
   "pygments_lexer": "ipython3",
   "version": "3.9.12"
  }
 },
 "nbformat": 4,
 "nbformat_minor": 5
}
