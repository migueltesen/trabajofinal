{
 "cells": [
  {
   "cell_type": "code",
   "execution_count": 13,
   "id": "6dd88968",
   "metadata": {},
   "outputs": [
    {
     "name": "stdout",
     "output_type": "stream",
     "text": [
      "https://repositorio.unprg.edu.pe:/handle/20.500.12893/10815?show=full\n"
     ]
    }
   ],
   "source": [
    "import pandas as pd\n",
    "import requests \n",
    "import re \n",
    "from bs4 import BeautifulSoup as bs \n",
    "url=\"https://repositorio.unprg.edu.pe/handle/20.500.12893/10815\"\n",
    "html=requests.get(url)\n",
    "content=html.content\n",
    "soup=bs(content,\"lxml\")\n",
    "data=soup.find(\"div\",class_=\"simple-item-view-show-full item-page-field-wrapper table\")\n",
    "link=data.find(\"a\")\n",
    "print(\"https://repositorio.unprg.edu.pe:\"+ link[\"href\"])"
   ]
  },
  {
   "cell_type": "code",
   "execution_count": 17,
   "id": "93ccf104",
   "metadata": {},
   "outputs": [
    {
     "name": "stdout",
     "output_type": "stream",
     "text": [
      "Universidad Nacional Pedro Ruiz Gallo\n"
     ]
    }
   ],
   "source": [
    "url=\"https://repositorio.unprg.edu.pe:/handle/20.500.12893/10815?show=full\"\n",
    "html=requests.get(url)\n",
    "content=html.content\n",
    "soup=bs(content,\"lxml\")\n",
    "data=soup.find(class_=\"ds-static-div primary\")\n",
    "universidad=data.find_all(class_=\"word-break\")[9].text\n",
    "print(universidad)"
   ]
  },
  {
   "cell_type": "code",
   "execution_count": 22,
   "id": "f1f82f44",
   "metadata": {},
   "outputs": [
    {
     "name": "stdout",
     "output_type": "stream",
     "text": [
      "Modelo de Gestión de Riesgos de TI que dan soporte a los procesos de evaluación, financiamiento y cobranza de la empresa CHANCAFE NORTE S.A.C. basada en  la metodología MAGERIT\n"
     ]
    }
   ],
   "source": [
    "url=\"https://repositorio.unprg.edu.pe:/handle/20.500.12893/10815?show=full\"\n",
    "html=requests.get(url)\n",
    "content=html.content\n",
    "soup=bs(content,\"lxml\")\n",
    "data=soup.find(class_=\"ds-static-div primary\")\n",
    "titulo=data.find_all(class_=\"word-break\")[16].text\n",
    "print(titulo)"
   ]
  },
  {
   "cell_type": "code",
   "execution_count": 23,
   "id": "94dbf279",
   "metadata": {},
   "outputs": [
    {
     "name": "stdout",
     "output_type": "stream",
     "text": [
      "Dávila Puicón, Soledad Milagros\n"
     ]
    }
   ],
   "source": [
    "url=\"https://repositorio.unprg.edu.pe:/handle/20.500.12893/10815?show=full\"\n",
    "html=requests.get(url)\n",
    "content=html.content\n",
    "soup=bs(content,\"lxml\")\n",
    "data=soup.find(class_=\"ds-static-div primary\")\n",
    "nombre_tesista=data.find_all(class_=\"word-break\")[1].text\n",
    "print(nombre_tesista)"
   ]
  },
  {
   "cell_type": "code",
   "execution_count": 27,
   "id": "eeff4b91",
   "metadata": {},
   "outputs": [
    {
     "name": "stdout",
     "output_type": "stream",
     "text": [
      "Para obtener el título profesional de  Ingeniería de Sistemas\n"
     ]
    }
   ],
   "source": [
    "url=\"https://repositorio.unprg.edu.pe:/handle/20.500.12893/10815?show=full\"\n",
    "html=requests.get(url)\n",
    "content=html.content\n",
    "soup=bs(content,\"lxml\")\n",
    "data=soup.find(class_=\"ds-static-div primary\")\n",
    "obtener_grado=data.find_all(class_=\"word-break\")[20].text\n",
    "print(\"Para obtener el título profesional de \" , obtener_grado)"
   ]
  },
  {
   "cell_type": "code",
   "execution_count": 29,
   "id": "8191742c",
   "metadata": {},
   "outputs": [
    {
     "name": "stdout",
     "output_type": "stream",
     "text": [
      "Celi Arévalo, Ernesto Karlo\n"
     ]
    }
   ],
   "source": [
    "url=\"https://repositorio.unprg.edu.pe:/handle/20.500.12893/10815?show=full\"\n",
    "html=requests.get(url)\n",
    "content=html.content\n",
    "soup=bs(content,\"lxml\")\n",
    "data=soup.find(class_=\"ds-static-div primary\")\n",
    "asesor=data.find_all(class_=\"word-break\")[0].text\n",
    "print(asesor)"
   ]
  },
  {
   "cell_type": "code",
   "execution_count": 30,
   "id": "24df0220",
   "metadata": {},
   "outputs": [
    {
     "name": "stdout",
     "output_type": "stream",
     "text": [
      "Conforme la tecnología se impone como soporte a los procesos críticos, las\r\n",
      "organizaciones enfocan sus esfuerzos en proteger los activos que generen valor para el\r\n",
      "negocio por medio de controles con la finalidad de garantizar la seguridad de cada uno de ellos; siendo la información su principal activo. \r\n",
      "CHANCAFE NORTE SAC es una empresa dedicada a la venta al crédito y contado\r\n",
      "principalmente de electrodomésticos. Los procesos críticos que soportan dicha actividad\r\n",
      "son los de evaluación, financiamiento y cobranza; en donde los activos en que se soportan dichos procesos se encuentran expuestos a riesgos accidentales, internos y externos; lo cual genera interrupciones en los mismos, perdida de información, e incluso daños económicos; todo ello afecta la imagen de la institución.\r\n",
      "Existen métodos, estándares y modelos de referencia para el análisis y gestión de riesgo, pero el hecho de conocerlos no asegura que el proceso se lleve a cargo de forma exitosa.\r\n",
      "Es por ello que se ha diseñado y propuesto un modelo de gestión de riesgos tomando\r\n",
      "como referencia los estándares ISO/IEC (31001, 27001, 27002 y 27005) y basado en la\r\n",
      "metodología MAGERIT que en forma eficaz y eficiente aplique los marcos de referencia\r\n",
      "de manera exitosa en la labor de análisis de riesgos de tecnologías de información (TI).\r\n",
      "El modelo desarrollado en la investigación es descriptivo propositivo no experimental\r\n",
      "porque se describirán los componentes que conforman el modelo, los procedimientos de\r\n",
      "las actividades, tareas y forma de cálculos; por lo que no se pretende modificar la realidad\r\n",
      "actual de la empresa, ya que no se va a implementar, sino que sólo se propone.\r\n",
      "Finalmente, esta investigación evidencia como resultado que el modelo propuesto es\r\n",
      "aceptable acorde a las etapas de identificación del riesgo, análisis y evaluación del riesgo y tratamiento del riesgo bajo los criterios de suficiencia, claridad, coherencia y relevancia.\n"
     ]
    }
   ],
   "source": [
    "url=\"https://repositorio.unprg.edu.pe:/handle/20.500.12893/10815?show=full\"\n",
    "html=requests.get(url)\n",
    "content=html.content\n",
    "soup=bs(content,\"lxml\")\n",
    "data=soup.find(class_=\"ds-static-div primary\")\n",
    "resumen=data.find_all(class_=\"word-break\")[6].text\n",
    "print(resumen)"
   ]
  },
  {
   "cell_type": "code",
   "execution_count": 33,
   "id": "8414d3a6",
   "metadata": {},
   "outputs": [
    {
     "name": "stdout",
     "output_type": "stream",
     "text": [
      "2022\n"
     ]
    }
   ],
   "source": [
    "url=\"https://repositorio.unprg.edu.pe:/handle/20.500.12893/10815?show=full\"\n",
    "html=requests.get(url)\n",
    "content=html.content\n",
    "soup=bs(content,\"lxml\")\n",
    "data=soup.find(class_=\"ds-static-div primary\")\n",
    "fecha_emitida=data.find_all(class_=\"word-break\")[4].text\n",
    "print(fecha_emitida)"
   ]
  },
  {
   "cell_type": "code",
   "execution_count": 40,
   "id": "26fac748",
   "metadata": {},
   "outputs": [
    {
     "ename": "AttributeError",
     "evalue": "module 'pandas' has no attribute 'Dataframe'",
     "output_type": "error",
     "traceback": [
      "\u001b[1;31m---------------------------------------------------------------------------\u001b[0m",
      "\u001b[1;31mAttributeError\u001b[0m                            Traceback (most recent call last)",
      "Input \u001b[1;32mIn [40]\u001b[0m, in \u001b[0;36m<cell line: 2>\u001b[1;34m()\u001b[0m\n\u001b[0;32m      1\u001b[0m \u001b[38;5;28;01mimport\u001b[39;00m \u001b[38;5;21;01mpandas\u001b[39;00m \u001b[38;5;28;01mas\u001b[39;00m \u001b[38;5;21;01mpd\u001b[39;00m\n\u001b[1;32m----> 2\u001b[0m df\u001b[38;5;241m=\u001b[39m\u001b[43mpd\u001b[49m\u001b[38;5;241;43m.\u001b[39;49m\u001b[43mDataframe\u001b[49m()\n\u001b[0;32m      3\u001b[0m lista\u001b[38;5;241m=\u001b[39m[\u001b[38;5;124m\"\u001b[39m\u001b[38;5;124muniversidad\u001b[39m\u001b[38;5;124m\"\u001b[39m,\u001b[38;5;124m\"\u001b[39m\u001b[38;5;124mtitulo\u001b[39m\u001b[38;5;124m\"\u001b[39m,\u001b[38;5;124m\"\u001b[39m\u001b[38;5;124mnombre_tesista\u001b[39m\u001b[38;5;124m\"\u001b[39m,\u001b[38;5;124m\"\u001b[39m\u001b[38;5;124mobtener_grado\u001b[39m\u001b[38;5;124m\"\u001b[39m,\u001b[38;5;124m\"\u001b[39m\u001b[38;5;124masesor\u001b[39m\u001b[38;5;124m\"\u001b[39m,\u001b[38;5;124m\"\u001b[39m\u001b[38;5;124mresumen\u001b[39m\u001b[38;5;124m\"\u001b[39m,\u001b[38;5;124m\"\u001b[39m\u001b[38;5;124mfecha_emitida\u001b[39m\u001b[38;5;124m\"\u001b[39m]\n\u001b[0;32m      4\u001b[0m lista1\u001b[38;5;241m=\u001b[39m[universidad,titulo,nombre_tesista,obtener_grado,asesor,resumen,fecha_emitida]\n",
      "File \u001b[1;32m~\\anaconda3\\lib\\site-packages\\pandas\\__init__.py:261\u001b[0m, in \u001b[0;36m__getattr__\u001b[1;34m(name)\u001b[0m\n\u001b[0;32m    257\u001b[0m     \u001b[38;5;28;01mfrom\u001b[39;00m \u001b[38;5;21;01mpandas\u001b[39;00m\u001b[38;5;21;01m.\u001b[39;00m\u001b[38;5;21;01mcore\u001b[39;00m\u001b[38;5;21;01m.\u001b[39;00m\u001b[38;5;21;01marrays\u001b[39;00m\u001b[38;5;21;01m.\u001b[39;00m\u001b[38;5;21;01msparse\u001b[39;00m \u001b[38;5;28;01mimport\u001b[39;00m SparseArray \u001b[38;5;28;01mas\u001b[39;00m _SparseArray\n\u001b[0;32m    259\u001b[0m     \u001b[38;5;28;01mreturn\u001b[39;00m _SparseArray\n\u001b[1;32m--> 261\u001b[0m \u001b[38;5;28;01mraise\u001b[39;00m \u001b[38;5;167;01mAttributeError\u001b[39;00m(\u001b[38;5;124mf\u001b[39m\u001b[38;5;124m\"\u001b[39m\u001b[38;5;124mmodule \u001b[39m\u001b[38;5;124m'\u001b[39m\u001b[38;5;124mpandas\u001b[39m\u001b[38;5;124m'\u001b[39m\u001b[38;5;124m has no attribute \u001b[39m\u001b[38;5;124m'\u001b[39m\u001b[38;5;132;01m{\u001b[39;00mname\u001b[38;5;132;01m}\u001b[39;00m\u001b[38;5;124m'\u001b[39m\u001b[38;5;124m\"\u001b[39m)\n",
      "\u001b[1;31mAttributeError\u001b[0m: module 'pandas' has no attribute 'Dataframe'"
     ]
    }
   ],
   "source": [
    "df=pd.DataFrame()\n",
    "df['Estructura']= [\"Universidad\",\"Título\",\"nombre tesista\",\"Grado\",\"Asesor\",\"Resumen\",\"Año\"]\n",
    "df['Datos']=[universidad,titulo,nombre_primer_tesista,nombre_segundo_tesista,obtener_grado,asesor,resumen,fecha_emitida]\n",
    "df"
   ]
  }
 ],
 "metadata": {
  "kernelspec": {
   "display_name": "Python 3 (ipykernel)",
   "language": "python",
   "name": "python3"
  },
  "language_info": {
   "codemirror_mode": {
    "name": "ipython",
    "version": 3
   },
   "file_extension": ".py",
   "mimetype": "text/x-python",
   "name": "python",
   "nbconvert_exporter": "python",
   "pygments_lexer": "ipython3",
   "version": "3.9.12"
  }
 },
 "nbformat": 4,
 "nbformat_minor": 5
}
