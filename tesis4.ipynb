{
 "cells": [
  {
   "cell_type": "markdown",
   "id": "94f91c3a",
   "metadata": {},
   "source": [
    "### <center><span style=\"color:blue\"> Univesidad Nacional Pedro Ruiz Gallo  </sapn></center>\n",
    "\n",
    "<div>\n",
    "<p style = 'text-align:center;'>\n",
    "<img src=\"https://www.carrerasadistancia.com.pe/logos/original/logo-universidad-nacional-pedro-ruiz-gallo.png\" alt=\"JuveYell\" width=\"250px\">\n",
    "</p>\n",
    "</div>"
   ]
  },
  {
   "cell_type": "code",
   "execution_count": 13,
   "id": "db652f56",
   "metadata": {},
   "outputs": [
    {
     "name": "stdout",
     "output_type": "stream",
     "text": [
      "https://repositorio.unprg.edu.pe:/handle/20.500.12893/10815?show=full\n"
     ]
    }
   ],
   "source": [
    "import pandas as pd\n",
    "import requests \n",
    "import re \n",
    "from bs4 import BeautifulSoup as bs \n",
    "url=\"https://repositorio.unprg.edu.pe/handle/20.500.12893/10815\"\n",
    "html=requests.get(url)\n",
    "content=html.content\n",
    "soup=bs(content,\"lxml\")\n",
    "data=soup.find(\"div\",class_=\"simple-item-view-show-full item-page-field-wrapper table\")\n",
    "link=data.find(\"a\")\n",
    "print(\"https://repositorio.unprg.edu.pe:\"+ link[\"href\"])"
   ]
  },
  {
   "cell_type": "code",
   "execution_count": 17,
   "id": "95ecf751",
   "metadata": {},
   "outputs": [
    {
     "name": "stdout",
     "output_type": "stream",
     "text": [
      "Universidad Nacional Pedro Ruiz Gallo\n"
     ]
    }
   ],
   "source": [
    "url=\"https://repositorio.unprg.edu.pe:/handle/20.500.12893/10815?show=full\"\n",
    "html=requests.get(url)\n",
    "content=html.content\n",
    "soup=bs(content,\"lxml\")\n",
    "data=soup.find(class_=\"ds-static-div primary\")\n",
    "universidad=data.find_all(class_=\"word-break\")[9].text\n",
    "print(universidad)"
   ]
  },
  {
   "cell_type": "code",
   "execution_count": null,
   "id": "41b81405",
   "metadata": {},
   "outputs": [],
   "source": [
    "url=\"https://repositorio.unprg.edu.pe:/handle/20.500.12893/10815?show=full\"\n",
    "html=requests.get(url)\n",
    "content=html.content\n",
    "soup=bs(content,\"lxml\")\n",
    "data=soup.find(class_=\"ds-static-div primary\")\n",
    "titulo=data.find_all(class_=\"word-break\")[16].text\n",
    "print(tituloo)"
   ]
  },
  {
   "cell_type": "code",
   "execution_count": null,
   "id": "d103b9ce",
   "metadata": {},
   "outputs": [],
   "source": []
  }
 ],
 "metadata": {
  "kernelspec": {
   "display_name": "Python 3 (ipykernel)",
   "language": "python",
   "name": "python3"
  },
  "language_info": {
   "codemirror_mode": {
    "name": "ipython",
    "version": 3
   },
   "file_extension": ".py",
   "mimetype": "text/x-python",
   "name": "python",
   "nbconvert_exporter": "python",
   "pygments_lexer": "ipython3",
   "version": "3.9.12"
  }
 },
 "nbformat": 4,
 "nbformat_minor": 5
}
