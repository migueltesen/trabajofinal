{
 "cells": [
  {
   "cell_type": "markdown",
   "id": "a6519daa",
   "metadata": {},
   "source": [
    "### <center><span style=\"color:blue\"> Univesidad Nacional Pedro Ruiz Gallo  </sapn></center>\n",
    "\n",
    "<div>\n",
    "<p style = 'text-align:center;'>\n",
    "<img src=\"https://www.carrerasadistancia.com.pe/logos/original/logo-universidad-nacional-pedro-ruiz-gallo.png\" alt=\"JuveYell\" width=\"250px\">\n",
    "</p>\n",
    "</div>"
   ]
  },
  {
   "cell_type": "code",
   "execution_count": 7,
   "id": "417d7ede",
   "metadata": {},
   "outputs": [],
   "source": [
    "import pandas as pd\n",
    "import requests \n",
    "import re \n",
    "from bs4 import BeautifulSoup as bs \n",
    "url=\"https://repositorio.unprg.edu.pe/handle/20.500.12893/10815\""
   ]
  },
  {
   "cell_type": "code",
   "execution_count": null,
   "id": "62412432",
   "metadata": {},
   "outputs": [],
   "source": []
  }
 ],
 "metadata": {
  "kernelspec": {
   "display_name": "Python 3 (ipykernel)",
   "language": "python",
   "name": "python3"
  },
  "language_info": {
   "codemirror_mode": {
    "name": "ipython",
    "version": 3
   },
   "file_extension": ".py",
   "mimetype": "text/x-python",
   "name": "python",
   "nbconvert_exporter": "python",
   "pygments_lexer": "ipython3",
   "version": "3.9.12"
  }
 },
 "nbformat": 4,
 "nbformat_minor": 5
}
