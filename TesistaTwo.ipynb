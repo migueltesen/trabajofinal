{
 "cells": [
  {
   "cell_type": "markdown",
   "id": "1e5ceebc",
   "metadata": {},
   "source": [
    "# <center><u><b><span style=\"color:red\">UNIVERSIDAD PERUANA DE CIENCIAS APLICADAS</span></b></u></center>  \n",
    "<p style=\"color:red;\">"
   ]
  },
  {
   "cell_type": "markdown",
   "id": "02182461",
   "metadata": {},
   "source": [
    "<div>\n",
    "<p style = 'text-align:center;'>\n",
    "<img src=\"https://upload.wikimedia.org/wikipedia/commons/f/fc/UPC_logo_transparente.png\" alt=\"JuveYell\" width=\"250px\">\n",
    "</p>\n",
    "</div>"
   ]
  },
  {
   "cell_type": "markdown",
   "id": "faad133d",
   "metadata": {},
   "source": [
    "### _Información de la segunda tesis_"
   ]
  },
  {
   "cell_type": "code",
   "execution_count": 10,
   "id": "4a0584d2",
   "metadata": {},
   "outputs": [
    {
     "name": "stdout",
     "output_type": "stream",
     "text": [
      "https://repositorioacademico.upc.edu.pe:/handle/10757/628108?show=full\n"
     ]
    }
   ],
   "source": [
    "#Cargando los paquetes y obtenemos el link de la pagina\n",
    "import pandas as pd\n",
    "import requests \n",
    "import re \n",
    "from bs4 import BeautifulSoup as bs \n",
    "url=\"https://repositorioacademico.upc.edu.pe/handle/10757/628108\"\n",
    "html=requests.get(url)\n",
    "content=html.content\n",
    "soup=bs(content,\"lxml\")\n",
    "data=soup.find(\"div\",class_=\"simple-item-view-show-full item-page-field-wrapper table\")\n",
    "link=data.find(\"a\")\n",
    "print(\"https://repositorioacademico.upc.edu.pe:\"+ link[\"href\"])"
   ]
  },
  {
   "cell_type": "code",
   "execution_count": 14,
   "id": "1c9913b3",
   "metadata": {},
   "outputs": [
    {
     "name": "stdout",
     "output_type": "stream",
     "text": [
      "Caldas Nuñez, Manuel\n",
      "Muedas Higginson, Ana Cristina\n",
      "Rojas Velásquez, Renato Germán\n",
      "2019-11-21T19:47:23Z\n",
      "2019-11-21T19:47:23Z\n",
      "2019-10-30\n",
      "http://hdl.handle.net/10757/628108\n",
      "La creciente competitividad del mercado, genera una dificultad cada vez mayor en las organizaciones para alcanzar el éxito en sus proyectos. Tal hecho busca priorizar criterios económicos, tiempo, costo, calidad y alcance, ocasionando falta de controles que resultan en brechas de seguridad en la compañía. De esa forma se deja en segundo plano procedimientos de seguridad como por ejemplo el testeo de aplicaciones web. Estas poseen vulnerabilidades que podrían proporcionar los medios para que usuarios finales maliciosos violen mecanismos de protección de un sistema y obtengan acceso a información privada o recursos de la empresa. \r\n",
      "Los pronósticos referentes a la violación de datos indican que la industria de salud será el blanco más buscado para los ataques cibernéticos en 2017 ya que el alto valor de los registros de salud electrónicos (EHRs) llama cada vez más la atención de los cibercriminales. Dichos registros representan una fuente de ganancias mayor a la que si se accediera a información de tarjetas o cuentas bancarias. \r\n",
      "El presente proyecto propone un modelo de madurez de seguridad de aplicaciones web ante ciberataques para clínicas de nivel 2 bajo la norma técnica del MINSA, orientada a mostrar las debilidades de las aplicaciones web y las mejoras que se puedan realizar en aspectos de seguridad. El proyecto permitió la implementación de mejoras por parte de las empresas clientes en sus plataformas web mediante la recomendación propuesta por la guía de mejora luego de haber realizado el pentesting propuesto.\n",
      "Bearing in mind that the projections made for the area of information security point to an increase in attacks on the health sector, added to the lack or little diffusion of security maturity models that allow organizations to know the status of their website in terms of security and that the existing models lack a post-evaluation monitoring, it is necessary to propose a model of security maturity of web applications against cyber-attacks, oriented to the health sector, which is simple to apply. \r\n",
      "The maturity model proposes to offer the user a portfolio of tools that asks them to apply tests and obtain their results, interpret them and place them at a level of maturity before cyberattacks, then proposing controls to improve the security of the web. This model will be based on the International Professional Practice Framework methodology and will include the main vulnerabilities published by the Open Web Application Security Project to propose attacks that identify the weakness of the evaluated web system, so that the client company has the possibility to reinforce its weaknesses. Guides will also be proposed to select strategies to improve critical points from a security perspective. \r\n",
      "Because of the validation, it was found that, of the 14 tests applied, five were approved, positioning the web at level 3 of maturity, which means that there are validations in the structure of the web; however, they are partial or inefficient.\n",
      "Tesis\n",
      "application/pdf\n",
      "application/epub\n",
      "application/msword\n",
      "spa\n",
      "Universidad Peruana de Ciencias Aplicadas (UPC)\n",
      "info:eu-repo/semantics/openAccess\n",
      "Attribution-NonCommercial-ShareAlike 4.0 International\n",
      "http://creativecommons.org/licenses/by-nc-sa/4.0/\n",
      "Universidad Peruana de Ciencias Aplicadas (UPC)\n",
      "Repositorio Académico - UPC\n",
      "Seguridad informática\n",
      "Aplicaciones informáticas\n",
      "Ciberseguridad\n",
      "Informatic security\n",
      "Computer applications\n",
      "Cybersecurity\n",
      "Modelo de madurez de seguridad de aplicaciones web ante ciberataques para clínicas de nivel 2\n",
      "Security maturity model of web applications for cyber attacks for level 2 clinics\n",
      "info:eu-repo/semantics/bachelorThesis\n",
      "Universidad Peruana de Ciencias Aplicadas (UPC). Facultad de Ingeniería\n",
      "Licenciatura\n",
      "Ingeniería de Sistemas de Información\n",
      "Ingeniero de sistemas de información\n",
      "2019-11-25T16:42:35Z\n",
      "0000 0001 2196 144X\n",
      "http://purl.org/pe-repo/renati/type#tesis\n",
      "http://purl.org/pe-repo/renati/nivel#tituloProfesional\n",
      "PE\n",
      "Tesis\n",
      "Muedas_HA.pdf\n",
      "3.302Mb\n",
      "PDF\n",
      "Muedas_HA.docx\n",
      "2089-10-30\n",
      "2.970Mb\n",
      "Microsoft Word 2007\n",
      "Muedas_HA_Ficha.pdf\n",
      "2089-10-30\n",
      "121.7Kb\n",
      "PDF\n"
     ]
    }
   ],
   "source": [
    "#código para extraer el contenido de la página\n",
    "url=\"https://repositorioacademico.upc.edu.pe:/handle/10757/628108?show=full\"\n",
    "html=requests.get(url)\n",
    "content=html.content\n",
    "soup=bs(content,\"lxml\")\n",
    "data=soup.find(class_=\"ds-static-div primary\")\n",
    "info=data.find_all(class_=\"word-break\")\n",
    "for linea in info:\n",
    "    contenido=linea.text\n",
    "    print(contenido)"
   ]
  },
  {
   "cell_type": "markdown",
   "id": "534e36bd",
   "metadata": {},
   "source": [
    "### _Universidad_"
   ]
  },
  {
   "cell_type": "code",
   "execution_count": 20,
   "id": "b81b62c9",
   "metadata": {},
   "outputs": [
    {
     "name": "stdout",
     "output_type": "stream",
     "text": [
      "Universidad Peruana de Ciencias Aplicadas (UPC)\n"
     ]
    }
   ],
   "source": [
    "#extraemos el nombre de la universidad \n",
    "url=\"https://repositorioacademico.upc.edu.pe:/handle/10757/628108?show=full\"\n",
    "html=requests.get(url)\n",
    "content=html.content\n",
    "soup=bs(content,\"lxml\")\n",
    "data=soup.find(class_=\"ds-static-div primary\")\n",
    "universidad=data.find_all(class_=\"word-break\")[14].text\n",
    "print(universidad)"
   ]
  },
  {
   "cell_type": "markdown",
   "id": "a36ff54c",
   "metadata": {},
   "source": [
    "### _Título de la tesis_"
   ]
  },
  {
   "cell_type": "code",
   "execution_count": 18,
   "id": "0e252ad7",
   "metadata": {},
   "outputs": [
    {
     "name": "stdout",
     "output_type": "stream",
     "text": [
      "Modelo de madurez de seguridad de aplicaciones web ante ciberataques para clínicas de nivel 2\n"
     ]
    }
   ],
   "source": [
    "#Codigo para la extracción de el titulo de la tesis\n",
    "url=\"https://repositorioacademico.upc.edu.pe:/handle/10757/628108?show=full\"\n",
    "html=requests.get(url)\n",
    "content=html.content\n",
    "soup=bs(content,\"lxml\")\n",
    "data=soup.find(class_=\"ds-static-div primary\")\n",
    "titulo=data.find_all(class_=\"word-break\")[26].text\n",
    "print(titulo)"
   ]
  },
  {
   "cell_type": "markdown",
   "id": "ced63dc5",
   "metadata": {},
   "source": [
    "### _Nombres de los tesistas_"
   ]
  },
  {
   "cell_type": "code",
   "execution_count": 27,
   "id": "595f5b02",
   "metadata": {},
   "outputs": [
    {
     "name": "stdout",
     "output_type": "stream",
     "text": [
      "Muedas Higginson, Ana Cristina ; Rojas Velásquez, Renato Germán\n"
     ]
    }
   ],
   "source": [
    "#Extraemos el nombre del o los tesistas\n",
    "url=\"https://repositorioacademico.upc.edu.pe:/handle/10757/628108?show=full\"\n",
    "html=requests.get(url)\n",
    "content=html.content\n",
    "soup=bs(content,\"lxml\")\n",
    "data=soup.find(class_=\"ds-static-div primary\")\n",
    "nombre_tesista=data.find_all(class_=\"word-break\")[1].text\n",
    "nombre_tesista2=data.find_all(class_=\"word-break\")[2].text\n",
    "print(nombre_tesista, \";\" ,nombre_tesista2)"
   ]
  },
  {
   "cell_type": "markdown",
   "id": "8ea598e4",
   "metadata": {},
   "source": [
    "### _Grado_"
   ]
  },
  {
   "cell_type": "code",
   "execution_count": 30,
   "id": "8a0b9d84",
   "metadata": {},
   "outputs": [
    {
     "name": "stdout",
     "output_type": "stream",
     "text": [
      "Para obtener el grado de: Licenciatura en Ingeniería de Sistemas de Información\n"
     ]
    }
   ],
   "source": [
    "#Codigo para  extraer e unir el grado y la carrera de la misma\n",
    "url=\"https://repositorioacademico.upc.edu.pe:/handle/10757/628108?show=full\"\n",
    "html=requests.get(url)\n",
    "content=html.content\n",
    "soup=bs(content,\"lxml\")\n",
    "data=soup.find(class_=\"ds-static-div primary\")\n",
    "grado=data.find_all(class_=\"word-break\")[30].text\n",
    "profesion=data.find_all(class_=\"word-break\")[31].text\n",
    "print(\"Para obtener el grado de:\", grado ,\"en\", profesion)"
   ]
  },
  {
   "cell_type": "markdown",
   "id": "b36f37a4",
   "metadata": {},
   "source": [
    "### _Nombre del asesor_"
   ]
  },
  {
   "cell_type": "code",
   "execution_count": 31,
   "id": "8de31d09",
   "metadata": {},
   "outputs": [
    {
     "name": "stdout",
     "output_type": "stream",
     "text": [
      "Caldas Nuñez, Manuel\n"
     ]
    }
   ],
   "source": [
    "#Obtenemos en o los nombres de los asesores\n",
    "url=\"https://repositorioacademico.upc.edu.pe:/handle/10757/628108?show=full\"\n",
    "html=requests.get(url)\n",
    "content=html.content\n",
    "soup=bs(content,\"lxml\")\n",
    "data=soup.find(class_=\"ds-static-div primary\")\n",
    "asesor=data.find_all(class_=\"word-break\")[0].text\n",
    "print(asesor)"
   ]
  },
  {
   "cell_type": "markdown",
   "id": "59f60cb3",
   "metadata": {},
   "source": [
    "### _Resumen_"
   ]
  },
  {
   "cell_type": "code",
   "execution_count": 34,
   "id": "510a4a54",
   "metadata": {},
   "outputs": [
    {
     "name": "stdout",
     "output_type": "stream",
     "text": [
      "La creciente competitividad del mercado, genera una dificultad cada vez mayor en las organizaciones para alcanzar el éxito en sus proyectos. Tal hecho busca priorizar criterios económicos, tiempo, costo, calidad y alcance, ocasionando falta de controles que resultan en brechas de seguridad en la compañía. De esa forma se deja en segundo plano procedimientos de seguridad como por ejemplo el testeo de aplicaciones web. Estas poseen vulnerabilidades que podrían proporcionar los medios para que usuarios finales maliciosos violen mecanismos de protección de un sistema y obtengan acceso a información privada o recursos de la empresa. \r\n",
      "Los pronósticos referentes a la violación de datos indican que la industria de salud será el blanco más buscado para los ataques cibernéticos en 2017 ya que el alto valor de los registros de salud electrónicos (EHRs) llama cada vez más la atención de los cibercriminales. Dichos registros representan una fuente de ganancias mayor a la que si se accediera a información de tarjetas o cuentas bancarias. \r\n",
      "El presente proyecto propone un modelo de madurez de seguridad de aplicaciones web ante ciberataques para clínicas de nivel 2 bajo la norma técnica del MINSA, orientada a mostrar las debilidades de las aplicaciones web y las mejoras que se puedan realizar en aspectos de seguridad. El proyecto permitió la implementación de mejoras por parte de las empresas clientes en sus plataformas web mediante la recomendación propuesta por la guía de mejora luego de haber realizado el pentesting propuesto.\n"
     ]
    }
   ],
   "source": [
    "#Se obtiene el resumen de la tesis\n",
    "url=\"https://repositorioacademico.upc.edu.pe:/handle/10757/628108?show=full\"\n",
    "html=requests.get(url)\n",
    "content=html.content\n",
    "soup=bs(content,\"lxml\")\n",
    "data=soup.find(class_=\"ds-static-div primary\")\n",
    "resumen=data.find_all(class_=\"word-break\")[7].text\n",
    "print(resumen)"
   ]
  },
  {
   "cell_type": "markdown",
   "id": "ae011f3c",
   "metadata": {},
   "source": [
    "### _Fecha de tesis_"
   ]
  },
  {
   "cell_type": "code",
   "execution_count": 36,
   "id": "dce7dd62",
   "metadata": {},
   "outputs": [
    {
     "name": "stdout",
     "output_type": "stream",
     "text": [
      "2019-10-30\n"
     ]
    }
   ],
   "source": [
    "#Fecha de cuando de emitio la tesis\n",
    "url=\"https://repositorioacademico.upc.edu.pe:/handle/10757/628108?show=full\"\n",
    "html=requests.get(url)\n",
    "content=html.content\n",
    "soup=bs(content,\"lxml\")\n",
    "data=soup.find(class_=\"ds-static-div primary\")\n",
    "fecha_emitida=data.find_all(class_=\"word-break\")[5].text\n",
    "print(fecha_emitida)"
   ]
  },
  {
   "cell_type": "markdown",
   "id": "b7401699",
   "metadata": {},
   "source": [
    "### <span style=\"color:red\"> _Agrupando la información del tesista 2_ </span><p style=\"color:red;\">"
   ]
  },
  {
   "cell_type": "code",
   "execution_count": 39,
   "id": "17496f2e",
   "metadata": {},
   "outputs": [
    {
     "name": "stdout",
     "output_type": "stream",
     "text": [
      "Universidad: Universidad Peruana de Ciencias Aplicadas (UPC)\n",
      "\n",
      "Título de la tesis: Modelo de madurez de seguridad de aplicaciones web ante ciberataques para clínicas de nivel 2\n",
      "\n",
      "Nombres del tesistas: Muedas Higginson, Ana Cristina ; Rojas Velásquez, Renato Germán\n",
      "\n",
      "Grado: Para obtener el grado de Licenciatura en Ingeniería de Sistemas de Información\n",
      "\n",
      "Asesor: Caldas Nuñez, Manuel\n",
      "\n",
      "Resumen: La creciente competitividad del mercado, genera una dificultad cada vez mayor en las organizaciones para alcanzar el éxito en sus proyectos. Tal hecho busca priorizar criterios económicos, tiempo, costo, calidad y alcance, ocasionando falta de controles que resultan en brechas de seguridad en la compañía. De esa forma se deja en segundo plano procedimientos de seguridad como por ejemplo el testeo de aplicaciones web. Estas poseen vulnerabilidades que podrían proporcionar los medios para que usuarios finales maliciosos violen mecanismos de protección de un sistema y obtengan acceso a información privada o recursos de la empresa. \r\n",
      "Los pronósticos referentes a la violación de datos indican que la industria de salud será el blanco más buscado para los ataques cibernéticos en 2017 ya que el alto valor de los registros de salud electrónicos (EHRs) llama cada vez más la atención de los cibercriminales. Dichos registros representan una fuente de ganancias mayor a la que si se accediera a información de tarjetas o cuentas bancarias. \r\n",
      "El presente proyecto propone un modelo de madurez de seguridad de aplicaciones web ante ciberataques para clínicas de nivel 2 bajo la norma técnica del MINSA, orientada a mostrar las debilidades de las aplicaciones web y las mejoras que se puedan realizar en aspectos de seguridad. El proyecto permitió la implementación de mejoras por parte de las empresas clientes en sus plataformas web mediante la recomendación propuesta por la guía de mejora luego de haber realizado el pentesting propuesto.\n",
      "\n",
      "Fecha emitida: 2019-10-30\n"
     ]
    }
   ],
   "source": [
    "#Conjunto de los print agrupado para que nos agrupe la informacion\n",
    "print(\"Universidad:\" , universidad)\n",
    "print(\"\")\n",
    "print(\"Título de la tesis:\" , titulo)\n",
    "print(\"\")\n",
    "print(\"Nombres del tesistas:\" , nombre_tesista, \";\", nombre_tesista2)\n",
    "print(\"\")\n",
    "print(\"Grado:\", \"Para obtener el grado de\", grado ,\"en\", profesion)\n",
    "print(\"\")\n",
    "print(\"Asesor:\", asesor)\n",
    "print(\"\")\n",
    "print(\"Resumen:\", resumen)\n",
    "print(\"\")\n",
    "print(\"Fecha emitida:\", fecha_emitida)"
   ]
  },
  {
   "cell_type": "code",
   "execution_count": 40,
   "id": "19e5f4b9",
   "metadata": {},
   "outputs": [
    {
     "data": {
      "text/html": [
       "<div>\n",
       "<style scoped>\n",
       "    .dataframe tbody tr th:only-of-type {\n",
       "        vertical-align: middle;\n",
       "    }\n",
       "\n",
       "    .dataframe tbody tr th {\n",
       "        vertical-align: top;\n",
       "    }\n",
       "\n",
       "    .dataframe thead th {\n",
       "        text-align: right;\n",
       "    }\n",
       "</style>\n",
       "<table border=\"1\" class=\"dataframe\">\n",
       "  <thead>\n",
       "    <tr style=\"text-align: right;\">\n",
       "      <th></th>\n",
       "      <th>Estructura</th>\n",
       "      <th>Datos</th>\n",
       "    </tr>\n",
       "  </thead>\n",
       "  <tbody>\n",
       "    <tr>\n",
       "      <th>0</th>\n",
       "      <td>Universidad</td>\n",
       "      <td>Universidad Peruana de Ciencias Aplicadas (UPC)</td>\n",
       "    </tr>\n",
       "    <tr>\n",
       "      <th>1</th>\n",
       "      <td>Título</td>\n",
       "      <td>Modelo de madurez de seguridad de aplicaciones...</td>\n",
       "    </tr>\n",
       "    <tr>\n",
       "      <th>2</th>\n",
       "      <td>Primer tesista</td>\n",
       "      <td>Muedas Higginson, Ana Cristina</td>\n",
       "    </tr>\n",
       "    <tr>\n",
       "      <th>3</th>\n",
       "      <td>Segundo tesista</td>\n",
       "      <td>Rojas Velásquez, Renato Germán</td>\n",
       "    </tr>\n",
       "    <tr>\n",
       "      <th>4</th>\n",
       "      <td>Grado</td>\n",
       "      <td>Licenciatura Ingeniería de Sistemas de Informa...</td>\n",
       "    </tr>\n",
       "    <tr>\n",
       "      <th>5</th>\n",
       "      <td>Asesor</td>\n",
       "      <td>Caldas Nuñez, Manuel</td>\n",
       "    </tr>\n",
       "    <tr>\n",
       "      <th>6</th>\n",
       "      <td>Resumen</td>\n",
       "      <td>La creciente competitividad del mercado, gener...</td>\n",
       "    </tr>\n",
       "    <tr>\n",
       "      <th>7</th>\n",
       "      <td>Fecha emitida</td>\n",
       "      <td>2019-10-30</td>\n",
       "    </tr>\n",
       "  </tbody>\n",
       "</table>\n",
       "</div>"
      ],
      "text/plain": [
       "        Estructura                                              Datos\n",
       "0      Universidad    Universidad Peruana de Ciencias Aplicadas (UPC)\n",
       "1           Título  Modelo de madurez de seguridad de aplicaciones...\n",
       "2   Primer tesista                     Muedas Higginson, Ana Cristina\n",
       "3  Segundo tesista                     Rojas Velásquez, Renato Germán\n",
       "4            Grado  Licenciatura Ingeniería de Sistemas de Informa...\n",
       "5           Asesor                               Caldas Nuñez, Manuel\n",
       "6          Resumen  La creciente competitividad del mercado, gener...\n",
       "7    Fecha emitida                                         2019-10-30"
      ]
     },
     "execution_count": 40,
     "metadata": {},
     "output_type": "execute_result"
    }
   ],
   "source": [
    "#Creando data frame y adjuntando los datos obtenidos\n",
    "df=pd.DataFrame()\n",
    "df['Estructura']= [\"Universidad\",\"Título\",\"Primer tesista\",\"Segundo tesista\",\"Grado\",\"Asesor\",\"Resumen\",\"Fecha emitida\"]\n",
    "df['Datos']=[universidad,titulo,nombre_tesista,nombre_tesista2,grado + \" \" + profesion,asesor,resumen,fecha_emitida]\n",
    "df"
   ]
  },
  {
   "cell_type": "code",
   "execution_count": 41,
   "id": "d799c20d",
   "metadata": {},
   "outputs": [],
   "source": [
    "#Adjuntamos los datos del data frame y lo almacenamos y se descarga en csv\n",
    "tesis_Ana_Renato = df.to_csv('tesis_Ana_Renato.csv', encoding = 'ANSI',index = False)"
   ]
  }
 ],
 "metadata": {
  "kernelspec": {
   "display_name": "Python 3 (ipykernel)",
   "language": "python",
   "name": "python3"
  },
  "language_info": {
   "codemirror_mode": {
    "name": "ipython",
    "version": 3
   },
   "file_extension": ".py",
   "mimetype": "text/x-python",
   "name": "python",
   "nbconvert_exporter": "python",
   "pygments_lexer": "ipython3",
   "version": "3.9.12"
  }
 },
 "nbformat": 4,
 "nbformat_minor": 5
}
