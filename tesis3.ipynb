{
 "cells": [
  {
   "cell_type": "markdown",
   "id": "5d8d6dc1",
   "metadata": {},
   "source": [
    "#### Extreremos los datos más esenciales de la tesis de TAPIA CARRILLO JHOELY MAILIS y VIDAL CASTILLO JOSUE LUIS\n"
   ]
  },
  {
   "cell_type": "code",
   "execution_count": 1,
   "id": "bea83114",
   "metadata": {},
   "outputs": [],
   "source": [
    "import pandas as pd\n",
    "import requests \n",
    "import re \n",
    "from bs4 import BeautifulSoup as bs "
   ]
  },
  {
   "cell_type": "code",
   "execution_count": null,
   "id": "904d71cc",
   "metadata": {},
   "outputs": [],
   "source": []
  }
 ],
 "metadata": {
  "kernelspec": {
   "display_name": "Python 3 (ipykernel)",
   "language": "python",
   "name": "python3"
  },
  "language_info": {
   "codemirror_mode": {
    "name": "ipython",
    "version": 3
   },
   "file_extension": ".py",
   "mimetype": "text/x-python",
   "name": "python",
   "nbconvert_exporter": "python",
   "pygments_lexer": "ipython3",
   "version": "3.9.12"
  }
 },
 "nbformat": 4,
 "nbformat_minor": 5
}
