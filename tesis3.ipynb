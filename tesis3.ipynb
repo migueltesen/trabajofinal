{
 "cells": [
  {
   "cell_type": "markdown",
   "id": "f96074af",
   "metadata": {},
   "source": [
    "#### Extreremos los datos más esenciales de la tesis de TAPIA CARRILLO JHOELY MAILIS y VIDAL CASTILLO JOSUE LUIS\n"
   ]
  },
  {
   "cell_type": "code",
   "execution_count": null,
   "id": "dd6c1abf",
   "metadata": {},
   "outputs": [],
   "source": []
  }
 ],
 "metadata": {
  "kernelspec": {
   "display_name": "Python 3 (ipykernel)",
   "language": "python",
   "name": "python3"
  },
  "language_info": {
   "codemirror_mode": {
    "name": "ipython",
    "version": 3
   },
   "file_extension": ".py",
   "mimetype": "text/x-python",
   "name": "python",
   "nbconvert_exporter": "python",
   "pygments_lexer": "ipython3",
   "version": "3.9.12"
  }
 },
 "nbformat": 4,
 "nbformat_minor": 5
}
