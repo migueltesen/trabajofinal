{
 "cells": [
  {
   "cell_type": "markdown",
   "id": "8d6c8c41",
   "metadata": {},
   "source": [
    "#### Extreremos los datos más esenciales de la tesis de TAPIA CARRILLO JHOELY MAILIS y VIDAL CASTILLO JOSUE LUIS\n"
   ]
  },
  {
   "cell_type": "code",
   "execution_count": 13,
   "id": "02d3d455",
   "metadata": {},
   "outputs": [
    {
     "name": "stdout",
     "output_type": "stream",
     "text": [
      "https://repositorio.unprg.edu.pe:/handle/20.500.12893/10632?show=full\n"
     ]
    }
   ],
   "source": [
    "import pandas as pd\n",
    "import requests \n",
    "import re \n",
    "from bs4 import BeautifulSoup as bs \n",
    "url=\"https://repositorio.unprg.edu.pe/handle/20.500.12893/10632\"\n",
    "html=requests.get(url)\n",
    "content=html.content\n",
    "soup=bs(content,\"lxml\")\n",
    "data=soup.find(\"div\",class_=\"simple-item-view-show-full item-page-field-wrapper table\")\n",
    "link=data.find(\"a\")\n",
    "print(\"https://repositorio.unprg.edu.pe:\"+ link[\"href\"]) "
   ]
  },
  {
   "cell_type": "code",
   "execution_count": 15,
   "id": "af8c2af5",
   "metadata": {},
   "outputs": [
    {
     "name": "stdout",
     "output_type": "stream",
     "text": [
      "Celi Arévalo, Ernesto Karlo\n",
      "Tapia Carrillo, Jhoely Mailis\n",
      "Vidal Castillo, Josue Luis\n",
      "2022-10-06T22:15:58Z\n",
      "2022-10-06T22:15:58Z\n",
      "2020\n",
      "https://hdl.handle.net/20.500.12893/10632\n",
      "Uno de los aspectos más críticos de la administración de una organización es la\r\n",
      "gestión de sus activos que generan valor a los procesos del negocio. La información,\r\n",
      "puede considerarse como uno de los activos más críticos que hay que proteger,\r\n",
      "porque su disponibilidad e integridad, no solo se utiliza como insumo para la toma de\r\n",
      "decisiones, si no también asegura la continuidad de los procesos.\r\n",
      "La gestión de la información no solo implica incorporar tecnologías que le den soporte\r\n",
      "a su captura, almacenamiento, procesamiento y comunicación; si no también se debe\r\n",
      "implementar procesos y sistemas que gestionen este recurso para lograr su seguridad.\r\n",
      "La implementación de sistemas de gestión de la seguridad de la información (SGSI)\r\n",
      "permite que ésta logre niveles aceptables de confidencialidad, integridad y disponibilidad.\r\n",
      "Un proceso de implementación de un SGSI, metodológicamente hablando, implica una\r\n",
      "serie de actividades y tareas, que van desde la planificación de su alcance hasta la\r\n",
      "planificación de los planes de mejora continua. Sin embargo, el aspecto más crítico\r\n",
      "que debe considerarse en la implementación de un SGSI es la gestión de los riesgos.\r\n",
      "La gestión de los riesgos es una estrategia preventiva que permite identificar y evaluar\r\n",
      "los diferentes escenarios de riesgo a los que está expuesta la información, en sus\r\n",
      "diferentes formas de expresión, y las tecnologías que le dan soporte a lo largo de su\r\n",
      "ciclo de vida. Con esta información, se podrá implantar los controles y salvaguardas\r\n",
      "necesarias para la mitigación de aquellos niveles de exposición al riesgo que la\r\n",
      "organización considere no aceptables.\r\n",
      "El propósito de este trabajo de investigación se centró en el desarrollo de un modelo\r\n",
      "de Sistema de gestión de riesgos de seguridad de la información, usando como\r\n",
      "referencia la norma ISO/IEC 27005, en los procesos productivos de las empresas\r\n",
      "azucareras de la Región Lambayeque.\n",
      "application/pdf\n",
      "spa\n",
      "Universidad Nacional Pedro Ruiz Gallo\n",
      "info:eu-repo/semantics/openAccess\n",
      "Atribución-CompartirIgual 4.0 Internacional\n",
      "http://creativecommons.org/licenses/by-sa/4.0/\n",
      "Seguridad informática\n",
      "Automatización de datos\n",
      "Riesgos de seguridad\n",
      "La seguridad de la información y su relación con la gestión de los riesgos de negocio en las empresas agroindustriales azucareras\n",
      "info:eu-repo/semantics/bachelorThesis\n",
      "Ingeniero de Sistemas\n",
      "Universidad Nacional Pedro Ruiz Gallo. Facultad de Ingeniería Civil, Sistemas y Arquitectura\n",
      "Ingeniería de Sistemas\n",
      "info:eu-repo/semantics/publishedVersion\n",
      "PE\n",
      "http://purl.org/pe-repo/ocde/ford#2.02.03\n",
      "72147618\n",
      "72757348\n",
      "18068078\n",
      "https://orcid.org/0000-0003-1628-8988\n",
      "http://purl.org/pe-repo/renati/type#tesis\n",
      "http://purl.org/pe-repo/renati/nivel#tituloProfesional\n",
      "612076\n",
      "Haro Maldonado, Edward Ronald\n",
      "Ríos Campos, Pilar del Rosario\n",
      "Capuñay Uceda, Oscar Efrain\n",
      "Tapia_Carrillo_Jhoely Mailis y ...\n",
      "7.312Mb\n",
      "PDF\n",
      "license_rdf\n",
      "1.000Kb\n",
      "application/rdf+xml\n"
     ]
    }
   ],
   "source": [
    "url=\"https://repositorio.unprg.edu.pe:/handle/20.500.12893/10632?show=full\"\n",
    "html=requests.get(url)\n",
    "content=html.content\n",
    "soup=bs(content,\"lxml\")\n",
    "data=soup.find(class_=\"ds-static-div primary\")\n",
    "info=data.find_all(class_=\"word-break\")\n",
    "for linea in info:\n",
    "    contenido=linea.text\n",
    "    print(contenido)"
   ]
  },
  {
   "cell_type": "code",
   "execution_count": 16,
   "id": "6e223575",
   "metadata": {},
   "outputs": [
    {
     "name": "stdout",
     "output_type": "stream",
     "text": [
      "Universidad Nacional Pedro Ruiz Gallo\n"
     ]
    }
   ],
   "source": [
    "url=\"https://repositorio.unprg.edu.pe:/handle/20.500.12893/10632?show=full\"\n",
    "html=requests.get(url)\n",
    "content=html.content\n",
    "soup=bs(content,\"lxml\")\n",
    "data=soup.find(class_=\"ds-static-div primary\")\n",
    "universidad=data.find_all(class_=\"word-break\")[10].text\n",
    "print(universidad)"
   ]
  },
  {
   "cell_type": "code",
   "execution_count": 18,
   "id": "6a94b923",
   "metadata": {},
   "outputs": [
    {
     "name": "stdout",
     "output_type": "stream",
     "text": [
      "La seguridad de la información y su relación con la gestión de los riesgos de negocio en las empresas agroindustriales azucareras\n"
     ]
    }
   ],
   "source": [
    "url=\"https://repositorio.unprg.edu.pe:/handle/20.500.12893/10632?show=full\"\n",
    "html=requests.get(url)\n",
    "content=html.content\n",
    "soup=bs(content,\"lxml\")\n",
    "data=soup.find(class_=\"ds-static-div primary\")\n",
    "titulo=data.find_all(class_=\"word-break\")[17].text\n",
    "print(titulo)"
   ]
  },
  {
   "cell_type": "code",
   "execution_count": 19,
   "id": "65d42b50",
   "metadata": {},
   "outputs": [
    {
     "name": "stdout",
     "output_type": "stream",
     "text": [
      "Tapia Carrillo, Jhoely Mailis\n"
     ]
    }
   ],
   "source": [
    "url=\"https://repositorio.unprg.edu.pe:/handle/20.500.12893/10632?show=full\"\n",
    "html=requests.get(url)\n",
    "content=html.content\n",
    "soup=bs(content,\"lxml\")\n",
    "data=soup.find(class_=\"ds-static-div primary\")\n",
    "nombre_primer_tesista=data.find_all(class_=\"word-break\")[1].text\n",
    "print(nombre_primer_tesista)"
   ]
  },
  {
   "cell_type": "code",
   "execution_count": 20,
   "id": "c46cc5db",
   "metadata": {},
   "outputs": [
    {
     "name": "stdout",
     "output_type": "stream",
     "text": [
      "Vidal Castillo, Josue Luis\n"
     ]
    }
   ],
   "source": [
    "url=\"https://repositorio.unprg.edu.pe:/handle/20.500.12893/10632?show=full\"\n",
    "html=requests.get(url)\n",
    "content=html.content\n",
    "soup=bs(content,\"lxml\")\n",
    "data=soup.find(class_=\"ds-static-div primary\")\n",
    "nombre_segundo_tesista=data.find_all(class_=\"word-break\")[2].text\n",
    "print(nombre_segundo_tesista)"
   ]
  },
  {
   "cell_type": "code",
   "execution_count": 22,
   "id": "96a6dcbe",
   "metadata": {},
   "outputs": [
    {
     "name": "stdout",
     "output_type": "stream",
     "text": [
      "Ingeniería de Sistemas\n"
     ]
    }
   ],
   "source": [
    "url=\"https://repositorio.unprg.edu.pe:/handle/20.500.12893/10632?show=full\"\n",
    "html=requests.get(url)\n",
    "content=html.content\n",
    "soup=bs(content,\"lxml\")\n",
    "data=soup.find(class_=\"ds-static-div primary\")\n",
    "obtener_grado=data.find_all(class_=\"word-break\")[21].text\n",
    "print(obtener_grado)"
   ]
  },
  {
   "cell_type": "code",
   "execution_count": 27,
   "id": "70880973",
   "metadata": {},
   "outputs": [
    {
     "name": "stdout",
     "output_type": "stream",
     "text": [
      "Celi Arévalo, Ernesto Karlo\n"
     ]
    }
   ],
   "source": [
    "url=\"https://repositorio.unprg.edu.pe:/handle/20.500.12893/10632?show=full\"\n",
    "html=requests.get(url)\n",
    "content=html.content\n",
    "soup=bs(content,\"lxml\")\n",
    "data=soup.find(class_=\"ds-static-div primary\")\n",
    "asesor=data.find_all(class_=\"word-break\")[0].text\n",
    "print(asesor)"
   ]
  },
  {
   "cell_type": "code",
   "execution_count": 28,
   "id": "527da6d2",
   "metadata": {},
   "outputs": [
    {
     "name": "stdout",
     "output_type": "stream",
     "text": [
      "Uno de los aspectos más críticos de la administración de una organización es la\r\n",
      "gestión de sus activos que generan valor a los procesos del negocio. La información,\r\n",
      "puede considerarse como uno de los activos más críticos que hay que proteger,\r\n",
      "porque su disponibilidad e integridad, no solo se utiliza como insumo para la toma de\r\n",
      "decisiones, si no también asegura la continuidad de los procesos.\r\n",
      "La gestión de la información no solo implica incorporar tecnologías que le den soporte\r\n",
      "a su captura, almacenamiento, procesamiento y comunicación; si no también se debe\r\n",
      "implementar procesos y sistemas que gestionen este recurso para lograr su seguridad.\r\n",
      "La implementación de sistemas de gestión de la seguridad de la información (SGSI)\r\n",
      "permite que ésta logre niveles aceptables de confidencialidad, integridad y disponibilidad.\r\n",
      "Un proceso de implementación de un SGSI, metodológicamente hablando, implica una\r\n",
      "serie de actividades y tareas, que van desde la planificación de su alcance hasta la\r\n",
      "planificación de los planes de mejora continua. Sin embargo, el aspecto más crítico\r\n",
      "que debe considerarse en la implementación de un SGSI es la gestión de los riesgos.\r\n",
      "La gestión de los riesgos es una estrategia preventiva que permite identificar y evaluar\r\n",
      "los diferentes escenarios de riesgo a los que está expuesta la información, en sus\r\n",
      "diferentes formas de expresión, y las tecnologías que le dan soporte a lo largo de su\r\n",
      "ciclo de vida. Con esta información, se podrá implantar los controles y salvaguardas\r\n",
      "necesarias para la mitigación de aquellos niveles de exposición al riesgo que la\r\n",
      "organización considere no aceptables.\r\n",
      "El propósito de este trabajo de investigación se centró en el desarrollo de un modelo\r\n",
      "de Sistema de gestión de riesgos de seguridad de la información, usando como\r\n",
      "referencia la norma ISO/IEC 27005, en los procesos productivos de las empresas\r\n",
      "azucareras de la Región Lambayeque.\n"
     ]
    }
   ],
   "source": [
    "url=\"https://repositorio.unprg.edu.pe:/handle/20.500.12893/10632?show=full\"\n",
    "html=requests.get(url)\n",
    "content=html.content\n",
    "soup=bs(content,\"lxml\")\n",
    "data=soup.find(class_=\"ds-static-div primary\")\n",
    "resumen=data.find_all(class_=\"word-break\")[7].text\n",
    "print(resumen)"
   ]
  },
  {
   "cell_type": "code",
   "execution_count": null,
   "id": "35dae69e",
   "metadata": {},
   "outputs": [],
   "source": []
  }
 ],
 "metadata": {
  "kernelspec": {
   "display_name": "Python 3 (ipykernel)",
   "language": "python",
   "name": "python3"
  },
  "language_info": {
   "codemirror_mode": {
    "name": "ipython",
    "version": 3
   },
   "file_extension": ".py",
   "mimetype": "text/x-python",
   "name": "python",
   "nbconvert_exporter": "python",
   "pygments_lexer": "ipython3",
   "version": "3.9.12"
  }
 },
 "nbformat": 4,
 "nbformat_minor": 5
}
