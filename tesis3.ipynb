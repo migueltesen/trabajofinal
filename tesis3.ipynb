{
 "cells": [
  {
   "cell_type": "markdown",
   "id": "ad9dee05",
   "metadata": {},
   "source": [
    "#### Extreremos los datos más esenciales de la tesis de TAPIA CARRILLO JHOELY MAILIS y VIDAL CASTILLO JOSUE LUIS\n"
   ]
  },
  {
   "cell_type": "code",
   "execution_count": 9,
   "id": "c99807a3",
   "metadata": {},
   "outputs": [
    {
     "name": "stdout",
     "output_type": "stream",
     "text": [
      "<a href=\"/handle/20.500.12893/10632?show=full\">Mostrar el registro completo del ítem</a>\n"
     ]
    }
   ],
   "source": [
    "import pandas as pd\n",
    "import requests \n",
    "import re \n",
    "from bs4 import BeautifulSoup as bs \n",
    "url=\"https://repositorio.unprg.edu.pe/handle/20.500.12893/10632\"\n",
    "html=requests.get(url)\n",
    "content=html.content\n",
    "soup=bs(content,\"lxml\")\n",
    "data=soup.find(\"div\",class_=\"simple-item-view-show-full item-page-field-wrapper table\")\n",
    "link=data.find(\"a\")\n",
    "#print(\"https://repositorio.unprg.edu.pe:\"+ link[\"href\"]) "
   ]
  },
  {
   "cell_type": "code",
   "execution_count": null,
   "id": "037c1b35",
   "metadata": {},
   "outputs": [],
   "source": []
  }
 ],
 "metadata": {
  "kernelspec": {
   "display_name": "Python 3 (ipykernel)",
   "language": "python",
   "name": "python3"
  },
  "language_info": {
   "codemirror_mode": {
    "name": "ipython",
    "version": 3
   },
   "file_extension": ".py",
   "mimetype": "text/x-python",
   "name": "python",
   "nbconvert_exporter": "python",
   "pygments_lexer": "ipython3",
   "version": "3.9.12"
  }
 },
 "nbformat": 4,
 "nbformat_minor": 5
}
