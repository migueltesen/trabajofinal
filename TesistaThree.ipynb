{
 "cells": [
  {
   "cell_type": "markdown",
   "id": "31648f32",
   "metadata": {},
   "source": [
    "# <center><u><b><span style=\"color:red\">UNIVERSIDAD PERUANA DE CIENCIAS APLICADAS</span></b></u></center>  \n",
    "<p style=\"color:red;\">"
   ]
  },
  {
   "cell_type": "markdown",
   "id": "4ee76eb1",
   "metadata": {},
   "source": [
    "<div>\n",
    "<p style = 'text-align:center;'>\n",
    "<img src=\"https://upload.wikimedia.org/wikipedia/commons/f/fc/UPC_logo_transparente.png\" alt=\"JuveYell\" width=\"250px\">\n",
    "</p>\n",
    "</div>"
   ]
  },
  {
   "cell_type": "markdown",
   "id": "51e8199d",
   "metadata": {},
   "source": [
    "### _Información de la tesis_"
   ]
  },
  {
   "cell_type": "code",
   "execution_count": 1,
   "id": "5b77da82",
   "metadata": {},
   "outputs": [
    {
     "name": "stdout",
     "output_type": "stream",
     "text": [
      "https://repositorioacademico.upc.edu.pe:/handle/10757/625726?show=full\n"
     ]
    }
   ],
   "source": [
    "import pandas as pd\n",
    "import requests \n",
    "import re \n",
    "from bs4 import BeautifulSoup as bs \n",
    "url=\"https://repositorioacademico.upc.edu.pe/handle/10757/625726\"\n",
    "html=requests.get(url)\n",
    "content=html.content\n",
    "soup=bs(content,\"lxml\")\n",
    "data=soup.find(\"div\",class_=\"simple-item-view-show-full item-page-field-wrapper table\")\n",
    "link=data.find(\"a\")\n",
    "print(\"https://repositorioacademico.upc.edu.pe:\"+ link[\"href\"])"
   ]
  },
  {
   "cell_type": "code",
   "execution_count": null,
   "id": "70500f91",
   "metadata": {},
   "outputs": [],
   "source": []
  }
 ],
 "metadata": {
  "kernelspec": {
   "display_name": "Python 3 (ipykernel)",
   "language": "python",
   "name": "python3"
  },
  "language_info": {
   "codemirror_mode": {
    "name": "ipython",
    "version": 3
   },
   "file_extension": ".py",
   "mimetype": "text/x-python",
   "name": "python",
   "nbconvert_exporter": "python",
   "pygments_lexer": "ipython3",
   "version": "3.9.12"
  }
 },
 "nbformat": 4,
 "nbformat_minor": 5
}
