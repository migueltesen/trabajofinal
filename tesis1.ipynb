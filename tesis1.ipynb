{
 "cells": [
  {
   "cell_type": "code",
   "execution_count": 22,
   "id": "450c9e94",
   "metadata": {},
   "outputs": [
    {
     "name": "stdout",
     "output_type": "stream",
     "text": [
      "https://repositorio.autonoma.edu.pe:/handle/20.500.13067/2164?show=full\n"
     ]
    }
   ],
   "source": [
    "import pandas as pd\n",
    "import requests \n",
    "import re \n",
    "from bs4 import BeautifulSoup as bs \n",
    "url=\"https://repositorio.autonoma.edu.pe/handle/20.500.13067/2164\"\n",
    "html=requests.get(url)\n",
    "content=html.content\n",
    "soup=bs(content,\"lxml\")\n",
    "data=soup.find(\"div\",class_=\"simple-item-view-show-full item-page-field-wrapper table\")\n",
    "link=data.find(\"a\")\n",
    "print(\"https://repositorio.autonoma.edu.pe:\"+ link[\"href\"]) \n"
   ]
  },
  {
   "cell_type": "code",
   "execution_count": 143,
   "id": "158379a8",
   "metadata": {},
   "outputs": [
    {
     "name": "stdout",
     "output_type": "stream",
     "text": [
      "Gamboa Cruzado, Javier Arturo\n",
      "Carranza Quiroz, Andy Ronald\n",
      "2022-12-07T23:25:12Z\n",
      "2022-12-07T23:25:12Z\n",
      "2022-12-07\n",
      "Carranza Quiroz, A. R. (2022). Sistema web para mejorar la administración de imágenes en la creación de catálogos de la empresa Litho Laser S.A. aplicando la metodología Scrum [Tesis de pregrado, Universidad Autónoma del Perú]. Repositorio de la Universidad Autónoma del Perú.\n",
      "https://hdl.handle.net/20.500.13067/2164\n",
      "El presente documento se desarrolló para la Empresa Litho Laser S.A. dedicada a la preprensa y prensa, en donde se analizó el proceso de administración de imágenes. El problema radica en una mala administración de este proceso, pues existían demoras al momento de ubicar y codificar imágenes, al momento de generar las solicitudes para las sesiones fotográficas, lo cual generaba un descontento entre los miembros del equipo debido a los problemas mencionados. La metodología de estudio utilizada fue aplicada, de nivel descriptivo y diseño experimental puro, utilizando un grupo de control y otro experimental. El objetivo de estudio fue implementar un sistema web, aplicando el método scrum, con el fin de optimizar la administración de imágenes en la creación de catálogos de la empresa. El sistema web fue diseñado específicamente para ayudar en la gestión de las imágenes, lo cual permitió subirlas en menor tiempo y agruparlas en colecciones, agregándole metadata a los archivos para elaborar filtros de búsqueda. Además de acceder a la información de forma descentralizada, dentro y fuera de la organización. En cuanto a los resultados se logró disminuir un 53% en el tiempo de ubicar imágenes, un 50% en codificar las mismas y una reducción del 67% de errores en solicitudes luego de su implementación.\n",
      "application/pdf\n",
      "spa\n",
      "Universidad Autónoma del Perú\n",
      "info:eu-repo/semantics/openAccess\n",
      "https://creativecommons.org/licenses/by/4.0/\n",
      "AUTONOMA\n",
      "Búsqueda\n",
      "Imágenes\n",
      "Metadata\n",
      "Administración\n",
      "Sistema web para mejorar la administración de imágenes en la creación de catálogos de la empresa Litho Laser S.A. aplicando la metodología Scrum\n",
      "Web system to improve the administration of images in the creation of catalogs for the company Litho Laser S.A. applying the methodology Scrum\n",
      "info:eu-repo/semantics/bachelorThesis\n",
      "Ingeniero de Sistemas\n",
      "Universidad Autónoma del Perú. Facultad de Ingeniería y Arquitectura\n",
      "Ingeniería de Sistemas\n",
      "17906323\n",
      "https://orcid.org/0000-0002-0461-4152\n",
      "41545239\n",
      "612076\n",
      "Cruzado Puente de La Vega, Carlos Francisco\n",
      "Lon Kan Prado, Carlos Alberto\n",
      "Gamboa Cruzado, Javier Arturo\n",
      "https://purl.org/pe-repo/renati/level#tituloProfesional\n",
      "https://purl.org/pe-repo/renati/type#tesis\n",
      "https://purl.org/pe-repo/ocde/ford#2.02.04\n",
      "PE\n",
      "Carranza Quiroz, Andy Ronald.pdf\n",
      "4.696Mb\n",
      "application/pdf\n",
      "Tesis\n",
      "Autorización.pdf\n",
      "303.9Kb\n",
      "application/pdf\n",
      "Documentación\n",
      "Turnitin.pdf\n",
      "7.750Mb\n",
      "application/pdf\n",
      "Documentación\n"
     ]
    }
   ],
   "source": [
    "url=\"https://repositorio.autonoma.edu.pe:/handle/20.500.13067/2164?show=full\"\n",
    "html=requests.get(url)\n",
    "content=html.content\n",
    "soup=bs(content,\"lxml\")\n",
    "data=soup.find(class_=\"ds-static-div primary\")\n",
    "info=data.find_all(class_=\"word-break\")\n",
    "for linea in info:\n",
    "    contenido=linea.text\n",
    "    print(contenido)"
   ]
  },
  {
   "cell_type": "code",
   "execution_count": 150,
   "id": "2a8d42cd",
   "metadata": {},
   "outputs": [
    {
     "name": "stdout",
     "output_type": "stream",
     "text": [
      "Universidad Autónoma del Perú\n"
     ]
    }
   ],
   "source": [
    "url=\"https://repositorio.autonoma.edu.pe:/handle/20.500.13067/2164?show=full\"\n",
    "html=requests.get(url)\n",
    "content=html.content\n",
    "soup=bs(content,\"lxml\")\n",
    "data=soup.find(class_=\"ds-static-div primary\")\n",
    "universidad=data.find_all(class_=\"word-break\")[10].text\n",
    "print(universidad)"
   ]
  },
  {
   "cell_type": "code",
   "execution_count": 153,
   "id": "f96ee0f7",
   "metadata": {},
   "outputs": [
    {
     "name": "stdout",
     "output_type": "stream",
     "text": [
      "Carranza Quiroz, A. R. (2022). Sistema web para mejorar la administración de imágenes en la creación de catálogos de la empresa Litho Laser S.A. aplicando la metodología Scrum [Tesis de pregrado, Universidad Autónoma del Perú]. Repositorio de la Universidad Autónoma del Perú.\n"
     ]
    }
   ],
   "source": [
    "url=\"https://repositorio.autonoma.edu.pe:/handle/20.500.13067/2164?show=full\"\n",
    "html=requests.get(url)\n",
    "content=html.content\n",
    "soup=bs(content,\"lxml\")\n",
    "data=soup.find(class_=\"ds-static-div primary\")\n",
    "titulo=data.find_all(class_=\"word-break\")[5].text\n",
    "print(titulo)"
   ]
  },
  {
   "cell_type": "code",
   "execution_count": 156,
   "id": "051db47a",
   "metadata": {},
   "outputs": [
    {
     "name": "stdout",
     "output_type": "stream",
     "text": [
      "Carranza Quiroz, Andy Ronald\n"
     ]
    }
   ],
   "source": [
    "url=\"https://repositorio.autonoma.edu.pe:/handle/20.500.13067/2164?show=full\"\n",
    "html=requests.get(url)\n",
    "content=html.content\n",
    "soup=bs(content,\"lxml\")\n",
    "data=soup.find(class_=\"ds-static-div primary\")\n",
    "nombre_tesista=data.find_all(class_=\"word-break\")[1].text\n",
    "print(nombre_tesista)"
   ]
  },
  {
   "cell_type": "code",
   "execution_count": 158,
   "id": "4d0be94a",
   "metadata": {},
   "outputs": [
    {
     "name": "stdout",
     "output_type": "stream",
     "text": [
      "Ingeniero de Sistemas\n"
     ]
    }
   ],
   "source": [
    "url=\"https://repositorio.autonoma.edu.pe:/handle/20.500.13067/2164?show=full\"\n",
    "html=requests.get(url)\n",
    "content=html.content\n",
    "soup=bs(content,\"lxml\")\n",
    "data=soup.find(class_=\"ds-static-div primary\")\n",
    "profesion=data.find_all(class_=\"word-break\")[21].text\n",
    "print(profesion)"
   ]
  },
  {
   "cell_type": "code",
   "execution_count": 163,
   "id": "c7058b19",
   "metadata": {},
   "outputs": [
    {
     "name": "stdout",
     "output_type": "stream",
     "text": [
      "Gamboa Cruzado, Javier Arturo\n"
     ]
    }
   ],
   "source": [
    "url=\"https://repositorio.autonoma.edu.pe:/handle/20.500.13067/2164?show=full\"\n",
    "html=requests.get(url)\n",
    "content=html.content\n",
    "soup=bs(content,\"lxml\")\n",
    "data=soup.find(class_=\"ds-static-div primary\")\n",
    "asesor=data.find_all(class_=\"word-break\")[0].text\n",
    "print(asesor)"
   ]
  },
  {
   "cell_type": "code",
   "execution_count": 165,
   "id": "f7995851",
   "metadata": {},
   "outputs": [
    {
     "name": "stdout",
     "output_type": "stream",
     "text": [
      "El presente documento se desarrolló para la Empresa Litho Laser S.A. dedicada a la preprensa y prensa, en donde se analizó el proceso de administración de imágenes. El problema radica en una mala administración de este proceso, pues existían demoras al momento de ubicar y codificar imágenes, al momento de generar las solicitudes para las sesiones fotográficas, lo cual generaba un descontento entre los miembros del equipo debido a los problemas mencionados. La metodología de estudio utilizada fue aplicada, de nivel descriptivo y diseño experimental puro, utilizando un grupo de control y otro experimental. El objetivo de estudio fue implementar un sistema web, aplicando el método scrum, con el fin de optimizar la administración de imágenes en la creación de catálogos de la empresa. El sistema web fue diseñado específicamente para ayudar en la gestión de las imágenes, lo cual permitió subirlas en menor tiempo y agruparlas en colecciones, agregándole metadata a los archivos para elaborar filtros de búsqueda. Además de acceder a la información de forma descentralizada, dentro y fuera de la organización. En cuanto a los resultados se logró disminuir un 53% en el tiempo de ubicar imágenes, un 50% en codificar las mismas y una reducción del 67% de errores en solicitudes luego de su implementación.\n"
     ]
    }
   ],
   "source": [
    "url=\"https://repositorio.autonoma.edu.pe:/handle/20.500.13067/2164?show=full\"\n",
    "html=requests.get(url)\n",
    "content=html.content\n",
    "soup=bs(content,\"lxml\")\n",
    "data=soup.find(class_=\"ds-static-div primary\")\n",
    "resumen=data.find_all(class_=\"word-break\")[7].text\n",
    "print(resumen)"
   ]
  },
  {
   "cell_type": "code",
   "execution_count": null,
   "id": "96a56dbc",
   "metadata": {},
   "outputs": [],
   "source": [
    "url=\"https://repositorio.autonoma.edu.pe:/handle/20.500.13067/2164?show=full\"\n",
    "html=requests.get(url)\n",
    "content=html.content\n",
    "soup=bs(content,\"lxml\")\n",
    "data=soup.find(class_=\"ds-static-div primary\")\n",
    "fecha=data.find_all(class_=\"word-break\")[7].text\n",
    "print(fecha)"
   ]
  }
 ],
 "metadata": {
  "kernelspec": {
   "display_name": "Python 3 (ipykernel)",
   "language": "python",
   "name": "python3"
  },
  "language_info": {
   "codemirror_mode": {
    "name": "ipython",
    "version": 3
   },
   "file_extension": ".py",
   "mimetype": "text/x-python",
   "name": "python",
   "nbconvert_exporter": "python",
   "pygments_lexer": "ipython3",
   "version": "3.9.12"
  }
 },
 "nbformat": 4,
 "nbformat_minor": 5
}
