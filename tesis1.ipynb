{
 "cells": [
  {
   "cell_type": "code",
   "execution_count": 22,
   "id": "ba225185",
   "metadata": {},
   "outputs": [
    {
     "name": "stdout",
     "output_type": "stream",
     "text": [
      "https://repositorio.autonoma.edu.pe:/handle/20.500.13067/2164?show=full\n"
     ]
    }
   ],
   "source": [
    "import pandas as pd\n",
    "import requests \n",
    "import re \n",
    "from bs4 import BeautifulSoup as bs \n",
    "url=\"https://repositorio.autonoma.edu.pe/handle/20.500.13067/2164\"\n",
    "html=requests.get(url)\n",
    "content=html.content\n",
    "soup=bs(content,\"lxml\")\n",
    "data=soup.find(\"div\",class_=\"simple-item-view-show-full item-page-field-wrapper table\")\n",
    "link=data.find(\"a\")\n",
    "print(\"https://repositorio.autonoma.edu.pe:\"+ link[\"href\"]) \n"
   ]
  },
  {
   "cell_type": "code",
   "execution_count": 141,
   "id": "f9dfb6e0",
   "metadata": {},
   "outputs": [
    {
     "name": "stdout",
     "output_type": "stream",
     "text": [
      "[<td class=\"word-break\">Gamboa Cruzado, Javier Arturo</td>, <td class=\"word-break\">Carranza Quiroz, Andy Ronald</td>, <td class=\"word-break\">2022-12-07T23:25:12Z</td>, <td class=\"word-break\">2022-12-07T23:25:12Z</td>, <td class=\"word-break\">2022-12-07</td>, <td class=\"word-break\">Carranza Quiroz, A. R. (2022). Sistema web para mejorar la administración de imágenes en la creación de catálogos de la empresa Litho Laser S.A. aplicando la metodología Scrum [Tesis de pregrado, Universidad Autónoma del Perú]. Repositorio de la Universidad Autónoma del Perú.</td>, <td class=\"word-break\">https://hdl.handle.net/20.500.13067/2164</td>, <td class=\"word-break\">El presente documento se desarrolló para la Empresa Litho Laser S.A. dedicada a la preprensa y prensa, en donde se analizó el proceso de administración de imágenes. El problema radica en una mala administración de este proceso, pues existían demoras al momento de ubicar y codificar imágenes, al momento de generar las solicitudes para las sesiones fotográficas, lo cual generaba un descontento entre los miembros del equipo debido a los problemas mencionados. La metodología de estudio utilizada fue aplicada, de nivel descriptivo y diseño experimental puro, utilizando un grupo de control y otro experimental. El objetivo de estudio fue implementar un sistema web, aplicando el método scrum, con el fin de optimizar la administración de imágenes en la creación de catálogos de la empresa. El sistema web fue diseñado específicamente para ayudar en la gestión de las imágenes, lo cual permitió subirlas en menor tiempo y agruparlas en colecciones, agregándole metadata a los archivos para elaborar filtros de búsqueda. Además de acceder a la información de forma descentralizada, dentro y fuera de la organización. En cuanto a los resultados se logró disminuir un 53% en el tiempo de ubicar imágenes, un 50% en codificar las mismas y una reducción del 67% de errores en solicitudes luego de su implementación.</td>, <td class=\"word-break\">application/pdf</td>, <td class=\"word-break\">spa</td>, <td class=\"word-break\">Universidad Autónoma del Perú</td>, <td class=\"word-break\">info:eu-repo/semantics/openAccess</td>, <td class=\"word-break\">https://creativecommons.org/licenses/by/4.0/</td>, <td class=\"word-break\">AUTONOMA</td>, <td class=\"word-break\">Búsqueda</td>, <td class=\"word-break\">Imágenes</td>, <td class=\"word-break\">Metadata</td>, <td class=\"word-break\">Administración</td>, <td class=\"word-break\">Sistema web para mejorar la administración de imágenes en la creación de catálogos de la empresa Litho Laser S.A. aplicando la metodología Scrum</td>, <td class=\"word-break\">Web system to improve the administration of images in the creation of catalogs for the company Litho Laser S.A. applying the methodology Scrum</td>, <td class=\"word-break\">info:eu-repo/semantics/bachelorThesis</td>, <td class=\"word-break\">Ingeniero de Sistemas</td>, <td class=\"word-break\">Universidad Autónoma del Perú. Facultad de Ingeniería y Arquitectura</td>, <td class=\"word-break\">Ingeniería de Sistemas</td>, <td class=\"word-break\">17906323</td>, <td class=\"word-break\">https://orcid.org/0000-0002-0461-4152</td>, <td class=\"word-break\">41545239</td>, <td class=\"word-break\">612076</td>, <td class=\"word-break\">Cruzado Puente de La Vega, Carlos Francisco</td>, <td class=\"word-break\">Lon Kan Prado, Carlos Alberto</td>, <td class=\"word-break\">Gamboa Cruzado, Javier Arturo</td>, <td class=\"word-break\">https://purl.org/pe-repo/renati/level#tituloProfesional</td>, <td class=\"word-break\">https://purl.org/pe-repo/renati/type#tesis</td>, <td class=\"word-break\">https://purl.org/pe-repo/ocde/ford#2.02.04</td>, <td class=\"word-break\">PE</td>, <dd class=\"word-break\" title=\"Carranza Quiroz, Andy Ronald.pdf\">Carranza Quiroz, Andy Ronald.pdf</dd>, <dd class=\"word-break\">4.696Mb</dd>, <dd class=\"word-break\">application/pdf</dd>, <dd class=\"word-break\" title=\"Tesis\">Tesis</dd>, <dd class=\"word-break\" title=\"Autorización.pdf\">Autorización.pdf</dd>, <dd class=\"word-break\">303.9Kb</dd>, <dd class=\"word-break\">application/pdf</dd>, <dd class=\"word-break\" title=\"Documentación\">Documentación</dd>, <dd class=\"word-break\" title=\"Turnitin.pdf\">Turnitin.pdf</dd>, <dd class=\"word-break\">7.750Mb</dd>, <dd class=\"word-break\">application/pdf</dd>, <dd class=\"word-break\" title=\"Documentación\">Documentación</dd>]\n"
     ]
    }
   ],
   "source": [
    "url=\"https://repositorio.autonoma.edu.pe:/handle/20.500.13067/2164?show=full\"\n",
    "html=requests.get(url)\n",
    "content=html.content\n",
    "soup=bs(content,\"lxml\")\n",
    "data=soup.find(class_=\"ds-static-div primary\")\n",
    "info=data.find_all(class_=\"word-break\")\n",
    "print(info)\n",
    "#for linea in info:\n",
    "#    contenido=linea.text\n",
    "#    print(contenido)"
   ]
  },
  {
   "cell_type": "code",
   "execution_count": 138,
   "id": "acfd6e46",
   "metadata": {},
   "outputs": [
    {
     "name": "stdout",
     "output_type": "stream",
     "text": [
      "Universidad Autónoma del Perú\n"
     ]
    }
   ],
   "source": [
    "#url=\"https://repositorio.autonoma.edu.pe:/handle/20.500.13067/2164?show=full\"\n",
    "#html=requests.get(url)\n",
    "#content=html.content\n",
    "#soup=bs(content,\"lxml\")\n",
    "#data=soup.find(class_=\"ds-static-div primary\")\n",
    "#info=data.find_all(class_=\"word-break\")[10].text\n",
    "#print(info)"
   ]
  }
 ],
 "metadata": {
  "kernelspec": {
   "display_name": "Python 3 (ipykernel)",
   "language": "python",
   "name": "python3"
  },
  "language_info": {
   "codemirror_mode": {
    "name": "ipython",
    "version": 3
   },
   "file_extension": ".py",
   "mimetype": "text/x-python",
   "name": "python",
   "nbconvert_exporter": "python",
   "pygments_lexer": "ipython3",
   "version": "3.9.12"
  }
 },
 "nbformat": 4,
 "nbformat_minor": 5
}
