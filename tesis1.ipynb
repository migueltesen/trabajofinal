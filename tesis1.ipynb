{
 "cells": [
  {
   "cell_type": "code",
   "execution_count": 22,
   "id": "dca32dda",
   "metadata": {},
   "outputs": [
    {
     "name": "stdout",
     "output_type": "stream",
     "text": [
      "https://repositorio.autonoma.edu.pe:/handle/20.500.13067/2164?show=full\n"
     ]
    }
   ],
   "source": [
    "import pandas as pd\n",
    "import requests \n",
    "import re \n",
    "from bs4 import BeautifulSoup as bs \n",
    "url=\"https://repositorio.autonoma.edu.pe/handle/20.500.13067/2164\"\n",
    "html=requests.get(url)\n",
    "content=html.content\n",
    "soup=bs(content,\"lxml\")\n",
    "data=soup.find(\"div\",class_=\"simple-item-view-show-full item-page-field-wrapper table\")\n",
    "link=data.find(\"a\")\n",
    "print(\"https://repositorio.autonoma.edu.pe:\"+ link[\"href\"]) \n"
   ]
  },
  {
   "cell_type": "code",
   "execution_count": 23,
   "id": "c74a6b2c",
   "metadata": {},
   "outputs": [],
   "source": [
    "url=\"https://repositorio.autonoma.edu.pe:/handle/20.500.13067/2164?show=full\"\n"
   ]
  },
  {
   "cell_type": "code",
   "execution_count": null,
   "id": "e76f9bb9",
   "metadata": {},
   "outputs": [],
   "source": []
  }
 ],
 "metadata": {
  "kernelspec": {
   "display_name": "Python 3 (ipykernel)",
   "language": "python",
   "name": "python3"
  },
  "language_info": {
   "codemirror_mode": {
    "name": "ipython",
    "version": 3
   },
   "file_extension": ".py",
   "mimetype": "text/x-python",
   "name": "python",
   "nbconvert_exporter": "python",
   "pygments_lexer": "ipython3",
   "version": "3.9.12"
  }
 },
 "nbformat": 4,
 "nbformat_minor": 5
}
