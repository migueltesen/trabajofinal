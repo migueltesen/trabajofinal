{
 "cells": [
  {
   "cell_type": "markdown",
   "id": "7c6514fb",
   "metadata": {},
   "source": [
    "PONTIFICIA UNIVERSIDAD CATÓLICA DEL PERÚ"
   ]
  },
  {
   "cell_type": "code",
   "execution_count": 1,
   "id": "6eb1734b",
   "metadata": {},
   "outputs": [],
   "source": [
    "#cargamos paquetes\n",
    "import pandas as pd\n",
    "import requests \n",
    "import re \n",
    "from bs4 import BeautifulSoup as bs "
   ]
  },
  {
   "cell_type": "code",
   "execution_count": 2,
   "id": "edbe5225",
   "metadata": {},
   "outputs": [
    {
     "name": "stdout",
     "output_type": "stream",
     "text": [
      "https://tesis.pucp.edu.pe:/repositorio/handle/20.500.12404/6989?show=full\n"
     ]
    }
   ],
   "source": [
    "#obtener el link \n",
    "\n",
    "url=\"https://tesis.pucp.edu.pe/repositorio/handle/20.500.12404/6989\"\n",
    "html=requests.get(url)\n",
    "content=html.content\n",
    "soup=bs(content,\"lxml\")\n",
    "data=soup.find(\"div\",class_=\"simple-item-view-show-full item-page-field-wrapper table\")\n",
    "link=data.find(\"a\")\n",
    "print(\"https://tesis.pucp.edu.pe:\"+ link[\"href\"])"
   ]
  },
  {
   "cell_type": "code",
   "execution_count": 4,
   "id": "262e2b61",
   "metadata": {},
   "outputs": [
    {
     "name": "stdout",
     "output_type": "stream",
     "text": [
      "Doig Camino, Elizabeth\n",
      "Trujillo Angeles, Lucía Inés\n",
      "2016-06-20T20:29:48Z\n",
      "2016-06-20T20:29:48Z\n",
      "2014\n",
      "2016-06-20\n",
      "http://hdl.handle.net/20.500.12404/6989\n",
      "El siguiente trabajo de tesis, estudiará el modelo de regresión de Cox con puntos de cambio en las covariables propuesto por Jensen y Lutkebohmert (2008), realizando el desarrollo y la aplicación para una base de líneas móviles postpago. El objetivo es obtener los parámetros de las covariables y el nuevo parámetro en el modelo que es el punto de cambio, para analizar la manera como estas covariables tienen influencia en la desactivación de una línea a solicitud del cliente.\n",
      "Tesis\n",
      "spa\n",
      "Pontificia Universidad Católica del Perú\n",
      "Atribución-NoComercial-SinDerivadas 2.5 Perú\n",
      "info:eu-repo/semantics/openAccess\n",
      "http://creativecommons.org/licenses/by-nc-nd/2.5/pe/\n",
      "Análisis de regresión\n",
      "Variables (Estadística)\n",
      "Telefonía móvil\n",
      "Telecomunicaciones (Estadística)\n",
      "Supervivencia (Biometría)\n",
      "Una aplicación de la regresión de Cox con puntos de cambio en las covariables\n",
      "info:eu-repo/semantics/masterThesis\n",
      "Magíster en Estadística\n",
      "Maestría\n",
      "Pontificia Universidad Católica del Perú. Escuela de Posgrado\n",
      "Estadística\n",
      "542037\n",
      "https://purl.org/pe-repo/renati/level#maestro\n",
      "http://purl.org/pe-repo/renati/type#tesis\n",
      "PE\n",
      "https://purl.org/pe-repo/ocde/ford#1.01.03\n",
      "TRUJILLO_INES_MODELO_REGRESION ...\n",
      "985.0Kb\n",
      "PDF\n"
     ]
    }
   ],
   "source": [
    "#código para extraer el contenido de la página\n",
    "url=\"https://tesis.pucp.edu.pe/repositorio/handle/20.500.12404/6989?show=full\"\n",
    "html=requests.get(url)\n",
    "content=html.content\n",
    "soup=bs(content,\"lxml\")\n",
    "data=soup.find(class_=\"ds-static-div primary\")\n",
    "info=data.find_all(class_=\"word-break\")\n",
    "for linea in info:\n",
    "    contenido=linea.text\n",
    "    print(contenido)"
   ]
  },
  {
   "cell_type": "code",
   "execution_count": 5,
   "id": "f0991004",
   "metadata": {},
   "outputs": [
    {
     "name": "stdout",
     "output_type": "stream",
     "text": [
      "Pontificia Universidad Católica del Perú\n"
     ]
    }
   ],
   "source": [
    "#extraemos el nombre de la universidad \n",
    "url=\"https://tesis.pucp.edu.pe/repositorio/handle/20.500.12404/6989?show=full\"\n",
    "html=requests.get(url)\n",
    "content=html.content\n",
    "soup=bs(content,\"lxml\")\n",
    "data=soup.find(class_=\"ds-static-div primary\")\n",
    "universidad=data.find_all(class_=\"word-break\")[10].text\n",
    "print(universidad)"
   ]
  },
  {
   "cell_type": "code",
   "execution_count": 7,
   "id": "f957e7ee",
   "metadata": {},
   "outputs": [
    {
     "name": "stdout",
     "output_type": "stream",
     "text": [
      "Una aplicación de la regresión de Cox con puntos de cambio en las covariables\n"
     ]
    }
   ],
   "source": [
    "#conseguimos el título de la tesis\n",
    "url=\"https://tesis.pucp.edu.pe/repositorio/handle/20.500.12404/6989?show=full\"\n",
    "html=requests.get(url)\n",
    "content=html.content\n",
    "soup=bs(content,\"lxml\")\n",
    "data=soup.find(class_=\"ds-static-div primary\")\n",
    "titulo=data.find_all(class_=\"word-break\")[19].text\n",
    "print(titulo)"
   ]
  },
  {
   "cell_type": "code",
   "execution_count": 8,
   "id": "d488fb32",
   "metadata": {},
   "outputs": [
    {
     "name": "stdout",
     "output_type": "stream",
     "text": [
      "Trujillo Angeles, Lucía Inés\n"
     ]
    }
   ],
   "source": [
    "#conseguimos el nombre del tesista\n",
    "url=\"https://tesis.pucp.edu.pe/repositorio/handle/20.500.12404/6989?show=full\"\n",
    "html=requests.get(url)\n",
    "content=html.content\n",
    "soup=bs(content,\"lxml\")\n",
    "data=soup.find(class_=\"ds-static-div primary\")\n",
    "nombre_tesista=data.find_all(class_=\"word-break\")[1].text\n",
    "print(nombre_tesista)"
   ]
  },
  {
   "cell_type": "code",
   "execution_count": 10,
   "id": "eddcc250",
   "metadata": {},
   "outputs": [
    {
     "name": "stdout",
     "output_type": "stream",
     "text": [
      "Magíster en Estadística\n"
     ]
    }
   ],
   "source": [
    "#se realiza para obtener le grado de ....\n",
    "url=\"https://tesis.pucp.edu.pe/repositorio/handle/20.500.12404/6989?show=full\"\n",
    "html=requests.get(url)\n",
    "content=html.content\n",
    "soup=bs(content,\"lxml\")\n",
    "data=soup.find(class_=\"ds-static-div primary\")\n",
    "grado=data.find_all(class_=\"word-break\")[21].text\n",
    "print(grado)"
   ]
  },
  {
   "cell_type": "code",
   "execution_count": 12,
   "id": "3ca91eb1",
   "metadata": {},
   "outputs": [
    {
     "name": "stdout",
     "output_type": "stream",
     "text": [
      "Estadística\n"
     ]
    }
   ],
   "source": [
    "#extraemos la carrera del tesista\n",
    "url=\"https://tesis.pucp.edu.pe/repositorio/handle/20.500.12404/6989?show=full\"\n",
    "html=requests.get(url)\n",
    "content=html.content\n",
    "soup=bs(content,\"lxml\")\n",
    "data=soup.find(class_=\"ds-static-div primary\")\n",
    "profesion=data.find_all(class_=\"word-break\")[24].text\n",
    "print(profesion)"
   ]
  },
  {
   "cell_type": "code",
   "execution_count": 13,
   "id": "fc3eb1d0",
   "metadata": {},
   "outputs": [
    {
     "name": "stdout",
     "output_type": "stream",
     "text": [
      "Doig Camino, Elizabeth\n"
     ]
    }
   ],
   "source": [
    "#extraemos el nombre del asesor \n",
    "url=\"https://tesis.pucp.edu.pe/repositorio/handle/20.500.12404/6989?show=full\"\n",
    "html=requests.get(url)\n",
    "content=html.content\n",
    "soup=bs(content,\"lxml\")\n",
    "data=soup.find(class_=\"ds-static-div primary\")\n",
    "asesor=data.find_all(class_=\"word-break\")[0].text\n",
    "print(asesor)"
   ]
  },
  {
   "cell_type": "code",
   "execution_count": 14,
   "id": "fc97737f",
   "metadata": {},
   "outputs": [
    {
     "name": "stdout",
     "output_type": "stream",
     "text": [
      "El siguiente trabajo de tesis, estudiará el modelo de regresión de Cox con puntos de cambio en las covariables propuesto por Jensen y Lutkebohmert (2008), realizando el desarrollo y la aplicación para una base de líneas móviles postpago. El objetivo es obtener los parámetros de las covariables y el nuevo parámetro en el modelo que es el punto de cambio, para analizar la manera como estas covariables tienen influencia en la desactivación de una línea a solicitud del cliente.\n"
     ]
    }
   ],
   "source": [
    "#obtenemos un resumen de la tesis\n",
    "url=\"https://tesis.pucp.edu.pe/repositorio/handle/20.500.12404/6989?show=full\"\n",
    "html=requests.get(url)\n",
    "content=html.content\n",
    "soup=bs(content,\"lxml\")\n",
    "data=soup.find(class_=\"ds-static-div primary\")\n",
    "resumen=data.find_all(class_=\"word-break\")[7].text\n",
    "print(resumen)"
   ]
  },
  {
   "cell_type": "code",
   "execution_count": 15,
   "id": "9fbd50d4",
   "metadata": {},
   "outputs": [
    {
     "name": "stdout",
     "output_type": "stream",
     "text": [
      "2014\n"
     ]
    }
   ],
   "source": [
    "#fecha de emisión de la tesis\n",
    "url=\"https://tesis.pucp.edu.pe/repositorio/handle/20.500.12404/6989?show=full\"\n",
    "html=requests.get(url)\n",
    "content=html.content\n",
    "soup=bs(content,\"lxml\")\n",
    "data=soup.find(class_=\"ds-static-div primary\")\n",
    "fecha_emitida=data.find_all(class_=\"word-break\")[4].text\n",
    "print(fecha_emitida)"
   ]
  },
  {
   "cell_type": "code",
   "execution_count": 16,
   "id": "5f16f753",
   "metadata": {},
   "outputs": [
    {
     "data": {
      "text/html": [
       "<div>\n",
       "<style scoped>\n",
       "    .dataframe tbody tr th:only-of-type {\n",
       "        vertical-align: middle;\n",
       "    }\n",
       "\n",
       "    .dataframe tbody tr th {\n",
       "        vertical-align: top;\n",
       "    }\n",
       "\n",
       "    .dataframe thead th {\n",
       "        text-align: right;\n",
       "    }\n",
       "</style>\n",
       "<table border=\"1\" class=\"dataframe\">\n",
       "  <thead>\n",
       "    <tr style=\"text-align: right;\">\n",
       "      <th></th>\n",
       "      <th>Estructura</th>\n",
       "      <th>Datos</th>\n",
       "    </tr>\n",
       "  </thead>\n",
       "  <tbody>\n",
       "    <tr>\n",
       "      <th>0</th>\n",
       "      <td>Universidad</td>\n",
       "      <td>Pontificia Universidad Católica del Perú</td>\n",
       "    </tr>\n",
       "    <tr>\n",
       "      <th>1</th>\n",
       "      <td>Título</td>\n",
       "      <td>Una aplicación de la regresión de Cox con punt...</td>\n",
       "    </tr>\n",
       "    <tr>\n",
       "      <th>2</th>\n",
       "      <td>Nombre del tesista</td>\n",
       "      <td>Trujillo Angeles, Lucía Inés</td>\n",
       "    </tr>\n",
       "    <tr>\n",
       "      <th>3</th>\n",
       "      <td>Grado</td>\n",
       "      <td>Magíster en Estadística</td>\n",
       "    </tr>\n",
       "    <tr>\n",
       "      <th>4</th>\n",
       "      <td>Profesión</td>\n",
       "      <td>Estadística</td>\n",
       "    </tr>\n",
       "    <tr>\n",
       "      <th>5</th>\n",
       "      <td>Asesor</td>\n",
       "      <td>Doig Camino, Elizabeth</td>\n",
       "    </tr>\n",
       "    <tr>\n",
       "      <th>6</th>\n",
       "      <td>Resumen</td>\n",
       "      <td>El siguiente trabajo de tesis, estudiará el mo...</td>\n",
       "    </tr>\n",
       "    <tr>\n",
       "      <th>7</th>\n",
       "      <td>Año</td>\n",
       "      <td>2014</td>\n",
       "    </tr>\n",
       "  </tbody>\n",
       "</table>\n",
       "</div>"
      ],
      "text/plain": [
       "           Estructura                                              Datos\n",
       "0         Universidad           Pontificia Universidad Católica del Perú\n",
       "1              Título  Una aplicación de la regresión de Cox con punt...\n",
       "2  Nombre del tesista                       Trujillo Angeles, Lucía Inés\n",
       "3               Grado                            Magíster en Estadística\n",
       "4           Profesión                                        Estadística\n",
       "5              Asesor                             Doig Camino, Elizabeth\n",
       "6             Resumen  El siguiente trabajo de tesis, estudiará el mo...\n",
       "7                 Año                                               2014"
      ]
     },
     "execution_count": 16,
     "metadata": {},
     "output_type": "execute_result"
    }
   ],
   "source": [
    "df=pd.DataFrame()\n",
    "df['Estructura']= [\"Universidad\",\"Título\",\"Nombre del tesista\",\"Grado\",\"Profesión\",\"Asesor\",\"Resumen\",\"Año\"]\n",
    "df['Datos']=[universidad,titulo,nombre_tesista,grado,profesion,asesor,resumen,fecha_emitida]\n",
    "df"
   ]
  },
  {
   "cell_type": "code",
   "execution_count": 20,
   "id": "55aa49db",
   "metadata": {},
   "outputs": [],
   "source": [
    "tercera_tesis3 = df.to_csv('terceratesis3.csv', encoding = 'ANSI',index = False)"
   ]
  }
 ],
 "metadata": {
  "kernelspec": {
   "display_name": "Python 3 (ipykernel)",
   "language": "python",
   "name": "python3"
  },
  "language_info": {
   "codemirror_mode": {
    "name": "ipython",
    "version": 3
   },
   "file_extension": ".py",
   "mimetype": "text/x-python",
   "name": "python",
   "nbconvert_exporter": "python",
   "pygments_lexer": "ipython3",
   "version": "3.9.12"
  }
 },
 "nbformat": 4,
 "nbformat_minor": 5
}
