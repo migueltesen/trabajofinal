{
 "cells": [
  {
   "cell_type": "markdown",
   "id": "bff2b4cc",
   "metadata": {},
   "source": [
    "PONTIFICIA UNIVERSIDAD CATÓLICA DEL PERÚ"
   ]
  },
  {
   "cell_type": "code",
   "execution_count": 1,
   "id": "f1bc6526",
   "metadata": {},
   "outputs": [],
   "source": [
    "#cargamos paquetes\n",
    "import pandas as pd\n",
    "import requests \n",
    "import re \n",
    "from bs4 import BeautifulSoup as bs "
   ]
  },
  {
   "cell_type": "code",
   "execution_count": 2,
   "id": "2e17db2e",
   "metadata": {},
   "outputs": [
    {
     "name": "stdout",
     "output_type": "stream",
     "text": [
      "https://tesis.pucp.edu.pe:/repositorio/handle/20.500.12404/6989?show=full\n"
     ]
    }
   ],
   "source": [
    "#obtener el link \n",
    "\n",
    "url=\"https://tesis.pucp.edu.pe/repositorio/handle/20.500.12404/6989\"\n",
    "html=requests.get(url)\n",
    "content=html.content\n",
    "soup=bs(content,\"lxml\")\n",
    "data=soup.find(\"div\",class_=\"simple-item-view-show-full item-page-field-wrapper table\")\n",
    "link=data.find(\"a\")\n",
    "print(\"https://tesis.pucp.edu.pe:\"+ link[\"href\"])"
   ]
  },
  {
   "cell_type": "code",
   "execution_count": null,
   "id": "ff64ed77",
   "metadata": {},
   "outputs": [],
   "source": []
  }
 ],
 "metadata": {
  "kernelspec": {
   "display_name": "Python 3 (ipykernel)",
   "language": "python",
   "name": "python3"
  },
  "language_info": {
   "codemirror_mode": {
    "name": "ipython",
    "version": 3
   },
   "file_extension": ".py",
   "mimetype": "text/x-python",
   "name": "python",
   "nbconvert_exporter": "python",
   "pygments_lexer": "ipython3",
   "version": "3.9.12"
  }
 },
 "nbformat": 4,
 "nbformat_minor": 5
}
