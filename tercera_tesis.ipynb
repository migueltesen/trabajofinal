{
 "cells": [
  {
   "cell_type": "markdown",
   "id": "90074053",
   "metadata": {},
   "source": [
    "PONTIFICIA UNIVERSIDAD CATÓLICA DEL PERÚ"
   ]
  },
  {
   "cell_type": "code",
   "execution_count": 1,
   "id": "fc8f64d6",
   "metadata": {},
   "outputs": [],
   "source": [
    "#cargamos paquetes\n",
    "import pandas as pd\n",
    "import requests \n",
    "import re \n",
    "from bs4 import BeautifulSoup as bs "
   ]
  },
  {
   "cell_type": "code",
   "execution_count": 2,
   "id": "0e263596",
   "metadata": {},
   "outputs": [
    {
     "name": "stdout",
     "output_type": "stream",
     "text": [
      "https://tesis.pucp.edu.pe:/repositorio/handle/20.500.12404/6989?show=full\n"
     ]
    }
   ],
   "source": [
    "#obtener el link \n",
    "\n",
    "url=\"https://tesis.pucp.edu.pe/repositorio/handle/20.500.12404/6989\"\n",
    "html=requests.get(url)\n",
    "content=html.content\n",
    "soup=bs(content,\"lxml\")\n",
    "data=soup.find(\"div\",class_=\"simple-item-view-show-full item-page-field-wrapper table\")\n",
    "link=data.find(\"a\")\n",
    "print(\"https://tesis.pucp.edu.pe:\"+ link[\"href\"])"
   ]
  },
  {
   "cell_type": "code",
   "execution_count": 4,
   "id": "c3047da4",
   "metadata": {},
   "outputs": [
    {
     "name": "stdout",
     "output_type": "stream",
     "text": [
      "Doig Camino, Elizabeth\n",
      "Trujillo Angeles, Lucía Inés\n",
      "2016-06-20T20:29:48Z\n",
      "2016-06-20T20:29:48Z\n",
      "2014\n",
      "2016-06-20\n",
      "http://hdl.handle.net/20.500.12404/6989\n",
      "El siguiente trabajo de tesis, estudiará el modelo de regresión de Cox con puntos de cambio en las covariables propuesto por Jensen y Lutkebohmert (2008), realizando el desarrollo y la aplicación para una base de líneas móviles postpago. El objetivo es obtener los parámetros de las covariables y el nuevo parámetro en el modelo que es el punto de cambio, para analizar la manera como estas covariables tienen influencia en la desactivación de una línea a solicitud del cliente.\n",
      "Tesis\n",
      "spa\n",
      "Pontificia Universidad Católica del Perú\n",
      "Atribución-NoComercial-SinDerivadas 2.5 Perú\n",
      "info:eu-repo/semantics/openAccess\n",
      "http://creativecommons.org/licenses/by-nc-nd/2.5/pe/\n",
      "Análisis de regresión\n",
      "Variables (Estadística)\n",
      "Telefonía móvil\n",
      "Telecomunicaciones (Estadística)\n",
      "Supervivencia (Biometría)\n",
      "Una aplicación de la regresión de Cox con puntos de cambio en las covariables\n",
      "info:eu-repo/semantics/masterThesis\n",
      "Magíster en Estadística\n",
      "Maestría\n",
      "Pontificia Universidad Católica del Perú. Escuela de Posgrado\n",
      "Estadística\n",
      "542037\n",
      "https://purl.org/pe-repo/renati/level#maestro\n",
      "http://purl.org/pe-repo/renati/type#tesis\n",
      "PE\n",
      "https://purl.org/pe-repo/ocde/ford#1.01.03\n",
      "TRUJILLO_INES_MODELO_REGRESION ...\n",
      "985.0Kb\n",
      "PDF\n"
     ]
    }
   ],
   "source": [
    "#código para extraer el contenido de la página\n",
    "url=\"https://tesis.pucp.edu.pe/repositorio/handle/20.500.12404/6989?show=full\"\n",
    "html=requests.get(url)\n",
    "content=html.content\n",
    "soup=bs(content,\"lxml\")\n",
    "data=soup.find(class_=\"ds-static-div primary\")\n",
    "info=data.find_all(class_=\"word-break\")\n",
    "for linea in info:\n",
    "    contenido=linea.text\n",
    "    print(contenido)"
   ]
  },
  {
   "cell_type": "code",
   "execution_count": 5,
   "id": "fb90f0c4",
   "metadata": {},
   "outputs": [
    {
     "name": "stdout",
     "output_type": "stream",
     "text": [
      "Pontificia Universidad Católica del Perú\n"
     ]
    }
   ],
   "source": [
    "#extraemos el nombre de la universidad \n",
    "url=\"https://tesis.pucp.edu.pe/repositorio/handle/20.500.12404/6989?show=full\"\n",
    "html=requests.get(url)\n",
    "content=html.content\n",
    "soup=bs(content,\"lxml\")\n",
    "data=soup.find(class_=\"ds-static-div primary\")\n",
    "universidad=data.find_all(class_=\"word-break\")[10].text\n",
    "print(universidad)"
   ]
  },
  {
   "cell_type": "code",
   "execution_count": 7,
   "id": "ed06e164",
   "metadata": {},
   "outputs": [
    {
     "name": "stdout",
     "output_type": "stream",
     "text": [
      "Una aplicación de la regresión de Cox con puntos de cambio en las covariables\n"
     ]
    }
   ],
   "source": [
    "#conseguimos el título de la tesis\n",
    "url=\"https://tesis.pucp.edu.pe/repositorio/handle/20.500.12404/6989?show=full\"\n",
    "html=requests.get(url)\n",
    "content=html.content\n",
    "soup=bs(content,\"lxml\")\n",
    "data=soup.find(class_=\"ds-static-div primary\")\n",
    "titulo=data.find_all(class_=\"word-break\")[19].text\n",
    "print(titulo)"
   ]
  },
  {
   "cell_type": "code",
   "execution_count": 8,
   "id": "6773277b",
   "metadata": {},
   "outputs": [
    {
     "name": "stdout",
     "output_type": "stream",
     "text": [
      "Trujillo Angeles, Lucía Inés\n"
     ]
    }
   ],
   "source": [
    "#conseguimos el nombre del tesista\n",
    "url=\"https://tesis.pucp.edu.pe/repositorio/handle/20.500.12404/6989?show=full\"\n",
    "html=requests.get(url)\n",
    "content=html.content\n",
    "soup=bs(content,\"lxml\")\n",
    "data=soup.find(class_=\"ds-static-div primary\")\n",
    "nombre_tesista=data.find_all(class_=\"word-break\")[1].text\n",
    "print(nombre_tesista)"
   ]
  },
  {
   "cell_type": "code",
   "execution_count": 10,
   "id": "12f991c6",
   "metadata": {},
   "outputs": [
    {
     "name": "stdout",
     "output_type": "stream",
     "text": [
      "Magíster en Estadística\n"
     ]
    }
   ],
   "source": [
    "#se realiza para obtener le grado de ....\n",
    "url=\"https://tesis.pucp.edu.pe/repositorio/handle/20.500.12404/6989?show=full\"\n",
    "html=requests.get(url)\n",
    "content=html.content\n",
    "soup=bs(content,\"lxml\")\n",
    "data=soup.find(class_=\"ds-static-div primary\")\n",
    "grado=data.find_all(class_=\"word-break\")[21].text\n",
    "print(grado)"
   ]
  },
  {
   "cell_type": "code",
   "execution_count": 12,
   "id": "9984f8af",
   "metadata": {},
   "outputs": [
    {
     "name": "stdout",
     "output_type": "stream",
     "text": [
      "Estadística\n"
     ]
    }
   ],
   "source": [
    "#extraemos la carrera del tesista\n",
    "url=\"https://tesis.pucp.edu.pe/repositorio/handle/20.500.12404/6989?show=full\"\n",
    "html=requests.get(url)\n",
    "content=html.content\n",
    "soup=bs(content,\"lxml\")\n",
    "data=soup.find(class_=\"ds-static-div primary\")\n",
    "profesion=data.find_all(class_=\"word-break\")[24].text\n",
    "print(profesion)"
   ]
  },
  {
   "cell_type": "code",
   "execution_count": null,
   "id": "d73cfd00",
   "metadata": {},
   "outputs": [],
   "source": []
  }
 ],
 "metadata": {
  "kernelspec": {
   "display_name": "Python 3 (ipykernel)",
   "language": "python",
   "name": "python3"
  },
  "language_info": {
   "codemirror_mode": {
    "name": "ipython",
    "version": 3
   },
   "file_extension": ".py",
   "mimetype": "text/x-python",
   "name": "python",
   "nbconvert_exporter": "python",
   "pygments_lexer": "ipython3",
   "version": "3.9.12"
  }
 },
 "nbformat": 4,
 "nbformat_minor": 5
}
